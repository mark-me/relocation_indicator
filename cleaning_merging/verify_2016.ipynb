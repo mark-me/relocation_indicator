{
 "cells": [
  {
   "cell_type": "code",
   "execution_count": 1,
   "metadata": {
    "collapsed": true
   },
   "outputs": [],
   "source": [
    "# Ignore 'dask' warning\n",
    "import pandas as pd\n",
    "import gcsfs\n",
    "from google.cloud import storage\n",
    "from pandas import DataFrame\n",
    "from IPython.display import HTML\n",
    "from google.cloud.storage import Blob\n",
    "import datalab.storage as gcs_datalab\n",
    "import numpy as np"
   ]
  },
  {
   "cell_type": "code",
   "execution_count": 2,
   "metadata": {
    "collapsed": true
   },
   "outputs": [],
   "source": [
    "# Setting up constants. All required\n",
    "project = 'graydon-moving-indicator'\n",
    "bucket_name = 'graydon-data'"
   ]
  },
  {
   "cell_type": "code",
   "execution_count": 3,
   "metadata": {
    "collapsed": true
   },
   "outputs": [],
   "source": [
    "# Initializing bucket\n",
    "fs = gcsfs.GCSFileSystem(project='graydon-moving-indicator')\n",
    "gcs = storage.Client()\n",
    "bucket = gcs.get_bucket(bucket_name)"
   ]
  },
  {
   "cell_type": "code",
   "execution_count": 4,
   "metadata": {
    "collapsed": true
   },
   "outputs": [],
   "source": [
    "selected_columns = ['date_month', 'id_company', 'id_branch',\n",
    "       'is_discontinued',\n",
    "       'financial_calamity_outcome', 'date_established', \n",
    "       'qty_employees', 'year_qty_employees', 'id_company_creditproxy',\n",
    "       'score_payment_assessment', 'amt_revenue',\n",
    "       'year_revenue', 'amt_consolidated_revenue', 'year_consolidated_revenue',\n",
    "       'amt_consolidated_operating_result',\n",
    "       'year_consolidated_operating_result', \n",
    "       'perc_credit_limit_adjustment', 'color_credit_status', 'rat_pd',\n",
    "       'score_pd','has_increased_risk',\n",
    "       'is_sole_proprietor', 'code_SBI_2', 'code_SBI_1',\n",
    "       'qty_address_mutations_total',\n",
    "       'qty_address_mutations_month', \n",
    "       'has_relocated',\n",
    "       'has_name_change', 'code_discontinuation', 'code_financial_calamity',\n",
    "       'qty_issued_credit_reports', 'Associate', 'Authorized official', 'Board member', 'Chairman',\n",
    "       'Commissioner', 'Director', 'Liquidator', 'Major', 'Managing clerk',\n",
    "       'Managing partner', 'Member of the partnership', 'Miscellaneous',\n",
    "       'Owner', 'Secretary', 'Secretary/Treasurer', 'Treasurer', 'Unknown',\n",
    "       'Vice President', 'amt_operating_result', 'code_legal_form', 'date_financial_calamity_started', \n",
    "       'date_financial_calamity_stopped', 'date_start', 'from_date_start',\n",
    "       'qty_stopped_names', 'qty_started_names', 'year_operating_result'       ]"
   ]
  },
  {
   "cell_type": "code",
   "execution_count": 5,
   "metadata": {
    "collapsed": true
   },
   "outputs": [],
   "source": [
    "def aggregate_board_members(df):\n",
    "    \"\"\"Agregates the number of board members into one feature \"\"\"    \n",
    "    col_list_to_sum = ['associate', 'authorized_official', 'board_member', 'chairman', 'commissioner',\n",
    "       'director', 'liquidator', 'major', 'managing_clerk', 'managing_partner',\n",
    "       'member_of_the_partnership', 'miscellaneous', 'owner', 'secretary',\n",
    "       'secretary/treasurer', 'treasurer', 'unknown', 'vice_president']  \n",
    "    df['total_changeof_board_members_'] = df[col_list_to_sum].sum(axis=1)\n",
    "    df = df.drop(columns=col_list_to_sum)\n",
    "    return df"
   ]
  },
  {
   "cell_type": "code",
   "execution_count": 6,
   "metadata": {
    "collapsed": true
   },
   "outputs": [],
   "source": [
    "def read_one_month_csv_from_bucket(year, month, last_day_of_month, dir_prefix = '', selected_columns= ''):\n",
    "    \"\"\" Reads one month of data and returns a pandas Df \"\"\"\n",
    "    one_month_df = pd.DataFrame()\n",
    "    dir_prefix = dir_prefix + '/' + year\n",
    "    print(dir_prefix)\n",
    "    blob_list = list(bucket.list_blobs(prefix=dir_prefix))    \n",
    "    for blob in blob_list:\n",
    "        if month + '-' + last_day_of_month in blob.name:\n",
    "            print('Processing file: ', blob.name)\n",
    "            with fs.open('graydon-data/' + blob.name) as f:\n",
    "                if selected_columns == '' or None:\n",
    "                    one_month_df = pd.read_csv(f, sep=';')\n",
    "                else:\n",
    "                    one_month_df = pd.read_csv(f, sep=';', usecols= selected_columns)\n",
    "    one_month_df.columns = (one_month_df.columns.str.strip().str.lower().str.replace(' ', '_').\n",
    "                            str.replace('(', '').str.replace(')', '') )\n",
    "    return one_month_df"
   ]
  },
  {
   "cell_type": "code",
   "execution_count": 7,
   "metadata": {
    "collapsed": true
   },
   "outputs": [],
   "source": [
    "#%%time\n",
    "def read_all_csv_months_yearly_from_bucket_merged(years_to_read_in_list, dir_prefix = '', selected_columns = ''):\n",
    "    \"\"\" Reads a whole year of data and returns a monthly merged pandas Df \"\"\"\n",
    "    all_years_merged_df = pd.DataFrame()\n",
    "    for year in years_to_read_in_list:\n",
    "        print('Starting with year: ', year)\n",
    "        dir_prefix = dir_prefix + '/' + year\n",
    "        blob_list = list(bucket.list_blobs(prefix=dir_prefix))    \n",
    "        for blob in blob_list:  \n",
    "            one_month_df = None\n",
    "            if 'CSV' in blob.name:\n",
    "                print('Processing file: ', blob.name)\n",
    "                with fs.open('graydon-data/' + blob.name) as f:\n",
    "                    one_month_df = pd.read_csv(f, sep=';', usecols= selected_columns)   \n",
    "                    one_month_df = one_month_df[(one_month_df['is_sole_proprietor'] == 0) ]\n",
    "                                               # & (one_month_df['is_discontinued'] == 0) \n",
    "                    one_month_df.columns = (one_month_df.columns.str.strip().str.lower(). \n",
    "                    str.replace(' ', '_').str.replace('(', '').str.replace(')', '') )\n",
    "                    one_month_df = aggregate_board_members(one_month_df)\n",
    "                    one_month_df = clean_data_per_year(one_month_df)\n",
    "                    all_years_merged_df = all_years_merged_df.append(one_month_df)\n",
    "            print('The number of rows so far is: ', all_years_merged_df.shape[0])\n",
    "    return all_years_merged_df"
   ]
  },
  {
   "cell_type": "code",
   "execution_count": 8,
   "metadata": {
    "collapsed": false
   },
   "outputs": [],
   "source": [
    "def clean_data_per_year(df):\n",
    "    \"\"\"Cleans data and returns formatted df\"\"\"\n",
    "    df['date_month'] = pd.to_datetime(df['date_month'])\n",
    "    df['financial_calamity_outcome'] = df['financial_calamity_outcome'].fillna(-1) \n",
    "    df['qty_employees'] = df['qty_employees'].str.strip() \n",
    "    df.loc[df.qty_employees == 'NA', 'qty_employees'] = np.NaN\n",
    "    #df['qty_employees'] = df['qty_employees'].fillna(0) \n",
    "    #df['qty_employees'] = df['qty_employees'].astype(str).astype(int)\n",
    "    df['year_qty_employees'] = df['year_qty_employees'].str.strip()\n",
    "    df.loc[df.year_qty_employees == 'NA', 'year_qty_employees'] =  np.NaN\n",
    "    df['amt_revenue'] = df['amt_revenue'].str.strip() \n",
    "    df.loc[df.amt_revenue == 'NA', 'amt_revenue'] =  np.NaN\n",
    "    df['amt_revenue'] = df['amt_revenue'].astype(str).str.replace(',','.')\n",
    "    df['year_revenue'] = df['year_revenue'].str.strip() \n",
    "    df.loc[df.year_revenue == 'NA', 'year_revenue'] = 0\n",
    "    df['amt_consolidated_revenue'] = df['amt_consolidated_revenue'].str.strip() \n",
    "    df.loc[df.amt_consolidated_revenue == 'NA', 'amt_consolidated_revenue'] =  np.NaN\n",
    "    df['amt_consolidated_revenue'] = df['amt_consolidated_revenue'].astype(str).str.replace(',','.')\n",
    "    df['year_consolidated_revenue'] = df['year_consolidated_revenue'].str.strip() \n",
    "    df.loc[df.year_consolidated_revenue == 'NA', 'year_consolidated_revenue'] =  np.NaN\n",
    "    df['amt_consolidated_operating_result'] = df['amt_consolidated_operating_result'].str.strip() \n",
    "    df.loc[df.amt_consolidated_operating_result == 'NA', 'amt_consolidated_operating_result'] =  np.NaN\n",
    "    df['amt_consolidated_operating_result'] = df['amt_consolidated_operating_result'].astype(str).str.replace(',','.')\n",
    "    df['year_consolidated_operating_result'] = df['year_consolidated_operating_result'].str.strip() \n",
    "    df.loc[df.year_consolidated_operating_result == 'NA', 'year_consolidated_operating_result'] =  np.NaN\n",
    "    df['score_pd'] = df['score_pd'].str.strip() \n",
    "    df.loc[df.score_pd == 'NA', 'score_pd'] =  np.NaN\n",
    "    df['score_pd'] = df['score_pd'].astype(str).str.replace(',','.')\n",
    "    df['has_increased_risk'] = df['has_increased_risk'].astype(bool)\n",
    "    #df.loc[df.has_increased_risk == None, 'has_increased_risk'] = False\n",
    "    #df.loc[df.code_sbi_2.isnull(), 'code_sbi_2'] = 0  \n",
    "    df.loc[df.date_established < '1700-12-31' , 'date_established'] =  np.NaN\n",
    "    df['date_established'] = pd.to_datetime(df['date_established'])\n",
    "    df['amt_operating_result'] = df['amt_operating_result'].str.strip() \n",
    "    df.loc[df.amt_operating_result == 'NA', 'amt_operating_result'] =  np.NaN\n",
    "    df['amt_operating_result'] = df['amt_operating_result'].astype(str).str.replace(',','.')\n",
    "    df['year_operating_result'] = df['year_consolidated_operating_result'].str.strip() \n",
    "    df.loc[df.year_operating_result == 'NA', 'year_operating_result'] =  np.NaN\n",
    "    return df"
   ]
  },
  {
   "cell_type": "code",
   "execution_count": 9,
   "metadata": {
    "collapsed": true
   },
   "outputs": [],
   "source": [
    "def save_df_locally(df, dir_prefix, year, as_json= False):\n",
    "    \"\"\" Saves df as json or csv locally on server \"\"\"\n",
    "    if as_json:        \n",
    "        file_path = dir_prefix + '/' + year + '_merged_cleaned.json'\n",
    "        df.to_json(file_path)\n",
    "    else:\n",
    "        file_path =  dir_prefix + '/' + year + '_merged_cleaned.csv'\n",
    "        df.to_csv(file_path)"
   ]
  },
  {
   "cell_type": "markdown",
   "metadata": {},
   "source": [
    "### Reading one year of data"
   ]
  },
  {
   "cell_type": "code",
   "execution_count": 10,
   "metadata": {
    "collapsed": false
   },
   "outputs": [
    {
     "name": "stdout",
     "output_type": "stream",
     "text": [
      "Starting with year:  2016\n",
      "Processing file:  01_input/2016/modelling_2016-01-01_2016-01-31.CSV\n"
     ]
    },
    {
     "name": "stderr",
     "output_type": "stream",
     "text": [
      "/home/mrodriguezlara/graydon/graydon-moving/lib/python3.5/site-packages/IPython/core/magic.py:187: DtypeWarning: Columns (6,9,10,11,16,17,20,35,36,37,43,44,46,51,54) have mixed types. Specify dtype option on import or set low_memory=False.\n",
      "  call = lambda f, *a, **k: f(*a, **k)\n"
     ]
    },
    {
     "name": "stdout",
     "output_type": "stream",
     "text": [
      "The number of rows so far is:  1832645\n",
      "Processing file:  01_input/2016/modelling_2016-02-01_2016-02-29.CSV\n",
      "The number of rows so far is:  3672550\n",
      "Processing file:  01_input/2016/modelling_2016-03-01_2016-03-31.CSV\n",
      "The number of rows so far is:  5517412\n",
      "Processing file:  01_input/2016/modelling_2016-04-01_2016-04-30.CSV\n",
      "The number of rows so far is:  7366476\n",
      "Processing file:  01_input/2016/modelling_2016-05-01_2016-05-31.CSV\n",
      "The number of rows so far is:  9218843\n",
      "Processing file:  01_input/2016/modelling_2016-06-01_2016-06-30.CSV\n",
      "The number of rows so far is:  11075834\n",
      "Processing file:  01_input/2016/modelling_2016-07-01_2016-07-31.CSV\n",
      "The number of rows so far is:  12936952\n",
      "Processing file:  01_input/2016/modelling_2016-08-01_2016-08-31.CSV\n",
      "The number of rows so far is:  14801923\n",
      "Processing file:  01_input/2016/modelling_2016-09-01_2016-09-30.CSV\n",
      "The number of rows so far is:  16666712\n",
      "Processing file:  01_input/2016/modelling_2016-10-01_2016-10-31.CSV\n",
      "The number of rows so far is:  18534050\n",
      "Processing file:  01_input/2016/modelling_2016-11-01_2016-11-30.CSV\n",
      "The number of rows so far is:  20403862\n",
      "Processing file:  01_input/2016/modelling_2016-12-01_2016-12-31.CSV\n",
      "The number of rows so far is:  22271779\n",
      "CPU times: user 15min 14s, sys: 3min 16s, total: 18min 30s\n",
      "Wall time: 50min 54s\n"
     ]
    }
   ],
   "source": [
    "%%time\n",
    "df_one_year = read_all_csv_months_yearly_from_bucket_merged(dir_prefix ='01_input', \n",
    "                                                              selected_columns= selected_columns\n",
    "                                                              ,years_to_read_in_list=['2016'])"
   ]
  },
  {
   "cell_type": "code",
   "execution_count": 11,
   "metadata": {
    "collapsed": false,
    "scrolled": true
   },
   "outputs": [
    {
     "data": {
      "text/html": [
       "<table border=\"1\" class=\"dataframe\">\n",
       "  <thead>\n",
       "    <tr style=\"text-align: right;\">\n",
       "      <th></th>\n",
       "      <th>date_month</th>\n",
       "      <th>id_company</th>\n",
       "      <th>id_branch</th>\n",
       "      <th>date_established</th>\n",
       "      <th>is_discontinued</th>\n",
       "      <th>code_discontinuation</th>\n",
       "      <th>code_financial_calamity</th>\n",
       "      <th>date_financial_calamity_started</th>\n",
       "      <th>date_financial_calamity_stopped</th>\n",
       "      <th>financial_calamity_outcome</th>\n",
       "      <th>code_legal_form</th>\n",
       "      <th>qty_employees</th>\n",
       "      <th>year_qty_employees</th>\n",
       "      <th>id_company_creditproxy</th>\n",
       "      <th>score_payment_assessment</th>\n",
       "      <th>amt_revenue</th>\n",
       "      <th>year_revenue</th>\n",
       "      <th>amt_operating_result</th>\n",
       "      <th>year_operating_result</th>\n",
       "      <th>amt_consolidated_revenue</th>\n",
       "      <th>year_consolidated_revenue</th>\n",
       "      <th>amt_consolidated_operating_result</th>\n",
       "      <th>year_consolidated_operating_result</th>\n",
       "      <th>qty_issued_credit_reports</th>\n",
       "      <th>perc_credit_limit_adjustment</th>\n",
       "      <th>color_credit_status</th>\n",
       "      <th>rat_pd</th>\n",
       "      <th>score_pd</th>\n",
       "      <th>has_increased_risk</th>\n",
       "      <th>is_sole_proprietor</th>\n",
       "      <th>code_sbi_2</th>\n",
       "      <th>code_sbi_1</th>\n",
       "      <th>qty_address_mutations_total</th>\n",
       "      <th>qty_address_mutations_month</th>\n",
       "      <th>date_start</th>\n",
       "      <th>from_date_start</th>\n",
       "      <th>has_relocated</th>\n",
       "      <th>qty_started_names</th>\n",
       "      <th>qty_stopped_names</th>\n",
       "      <th>has_name_change</th>\n",
       "      <th>total_changeof_board_members_</th>\n",
       "    </tr>\n",
       "  </thead>\n",
       "  <tbody>\n",
       "    <tr>\n",
       "      <th>0</th>\n",
       "      <td>2016-01-01</td>\n",
       "      <td>3</td>\n",
       "      <td>10079408</td>\n",
       "      <td>1921-03-17</td>\n",
       "      <td>False</td>\n",
       "      <td>NaN</td>\n",
       "      <td>NaN</td>\n",
       "      <td>NaN</td>\n",
       "      <td>NaN</td>\n",
       "      <td>-1.0</td>\n",
       "      <td>5.0</td>\n",
       "      <td>1</td>\n",
       "      <td>2016</td>\n",
       "      <td>3</td>\n",
       "      <td>20.0</td>\n",
       "      <td>3.552530e-316</td>\n",
       "      <td>2009</td>\n",
       "      <td>9.219265e-318</td>\n",
       "      <td>NaN</td>\n",
       "      <td>nan</td>\n",
       "      <td>NaN</td>\n",
       "      <td>nan</td>\n",
       "      <td>NaN</td>\n",
       "      <td>4.0</td>\n",
       "      <td>20</td>\n",
       "      <td>G</td>\n",
       "      <td>BB</td>\n",
       "      <td>-4.975</td>\n",
       "      <td>False</td>\n",
       "      <td>False</td>\n",
       "      <td>41.0</td>\n",
       "      <td>NaN</td>\n",
       "      <td>0</td>\n",
       "      <td>0</td>\n",
       "      <td>NaN</td>\n",
       "      <td>NaN</td>\n",
       "      <td>False</td>\n",
       "      <td>0</td>\n",
       "      <td>0</td>\n",
       "      <td>False</td>\n",
       "      <td>0</td>\n",
       "    </tr>\n",
       "    <tr>\n",
       "      <th>1</th>\n",
       "      <td>2016-01-01</td>\n",
       "      <td>5</td>\n",
       "      <td>10079416</td>\n",
       "      <td>1740-01-01</td>\n",
       "      <td>False</td>\n",
       "      <td>NaN</td>\n",
       "      <td>NaN</td>\n",
       "      <td>NaN</td>\n",
       "      <td>NaN</td>\n",
       "      <td>-1.0</td>\n",
       "      <td>5.0</td>\n",
       "      <td>9</td>\n",
       "      <td>2015</td>\n",
       "      <td>1064993</td>\n",
       "      <td>20.0</td>\n",
       "      <td>nan</td>\n",
       "      <td>0</td>\n",
       "      <td>nan</td>\n",
       "      <td>NaN</td>\n",
       "      <td>nan</td>\n",
       "      <td>NaN</td>\n",
       "      <td>nan</td>\n",
       "      <td>NaN</td>\n",
       "      <td>1.0</td>\n",
       "      <td>5</td>\n",
       "      <td>O</td>\n",
       "      <td>CC</td>\n",
       "      <td>-4.756</td>\n",
       "      <td>False</td>\n",
       "      <td>False</td>\n",
       "      <td>46.0</td>\n",
       "      <td>NaN</td>\n",
       "      <td>0</td>\n",
       "      <td>0</td>\n",
       "      <td>NaN</td>\n",
       "      <td>NaN</td>\n",
       "      <td>False</td>\n",
       "      <td>0</td>\n",
       "      <td>0</td>\n",
       "      <td>False</td>\n",
       "      <td>0</td>\n",
       "    </tr>\n",
       "    <tr>\n",
       "      <th>2</th>\n",
       "      <td>2016-01-01</td>\n",
       "      <td>6</td>\n",
       "      <td>10079424</td>\n",
       "      <td>1874-11-20</td>\n",
       "      <td>False</td>\n",
       "      <td>NaN</td>\n",
       "      <td>F</td>\n",
       "      <td>2013-01-29</td>\n",
       "      <td>NaN</td>\n",
       "      <td>-1.0</td>\n",
       "      <td>5.0</td>\n",
       "      <td>25</td>\n",
       "      <td>2014</td>\n",
       "      <td>6</td>\n",
       "      <td>24.0</td>\n",
       "      <td>4.446591e-317</td>\n",
       "      <td>2011</td>\n",
       "      <td>nan</td>\n",
       "      <td>NaN</td>\n",
       "      <td>nan</td>\n",
       "      <td>NaN</td>\n",
       "      <td>nan</td>\n",
       "      <td>NaN</td>\n",
       "      <td>0.0</td>\n",
       "      <td>-100</td>\n",
       "      <td>R</td>\n",
       "      <td>D</td>\n",
       "      <td>nan</td>\n",
       "      <td>True</td>\n",
       "      <td>False</td>\n",
       "      <td>41.0</td>\n",
       "      <td>NaN</td>\n",
       "      <td>0</td>\n",
       "      <td>0</td>\n",
       "      <td>NaN</td>\n",
       "      <td>NaN</td>\n",
       "      <td>False</td>\n",
       "      <td>0</td>\n",
       "      <td>0</td>\n",
       "      <td>False</td>\n",
       "      <td>0</td>\n",
       "    </tr>\n",
       "    <tr>\n",
       "      <th>3</th>\n",
       "      <td>2016-01-01</td>\n",
       "      <td>9</td>\n",
       "      <td>10079432</td>\n",
       "      <td>1897-05-01</td>\n",
       "      <td>False</td>\n",
       "      <td>NaN</td>\n",
       "      <td>NaN</td>\n",
       "      <td>NaN</td>\n",
       "      <td>NaN</td>\n",
       "      <td>-1.0</td>\n",
       "      <td>5.0</td>\n",
       "      <td>33</td>\n",
       "      <td>2015</td>\n",
       "      <td>9</td>\n",
       "      <td>20.0</td>\n",
       "      <td>nan</td>\n",
       "      <td>0</td>\n",
       "      <td>nan</td>\n",
       "      <td>NaN</td>\n",
       "      <td>nan</td>\n",
       "      <td>NaN</td>\n",
       "      <td>nan</td>\n",
       "      <td>NaN</td>\n",
       "      <td>1.0</td>\n",
       "      <td>25</td>\n",
       "      <td>G</td>\n",
       "      <td>BB</td>\n",
       "      <td>-4.857</td>\n",
       "      <td>False</td>\n",
       "      <td>False</td>\n",
       "      <td>47.0</td>\n",
       "      <td>NaN</td>\n",
       "      <td>0</td>\n",
       "      <td>0</td>\n",
       "      <td>NaN</td>\n",
       "      <td>NaN</td>\n",
       "      <td>False</td>\n",
       "      <td>0</td>\n",
       "      <td>0</td>\n",
       "      <td>False</td>\n",
       "      <td>0</td>\n",
       "    </tr>\n",
       "    <tr>\n",
       "      <th>4</th>\n",
       "      <td>2016-01-01</td>\n",
       "      <td>12</td>\n",
       "      <td>35</td>\n",
       "      <td>1924-08-01</td>\n",
       "      <td>False</td>\n",
       "      <td>NaN</td>\n",
       "      <td>NaN</td>\n",
       "      <td>NaN</td>\n",
       "      <td>NaN</td>\n",
       "      <td>-1.0</td>\n",
       "      <td>5.0</td>\n",
       "      <td>5</td>\n",
       "      <td>2016</td>\n",
       "      <td>12</td>\n",
       "      <td>28.0</td>\n",
       "      <td>nan</td>\n",
       "      <td>0</td>\n",
       "      <td>nan</td>\n",
       "      <td>NaN</td>\n",
       "      <td>nan</td>\n",
       "      <td>NaN</td>\n",
       "      <td>nan</td>\n",
       "      <td>NaN</td>\n",
       "      <td>1.0</td>\n",
       "      <td>30</td>\n",
       "      <td>G</td>\n",
       "      <td>BB</td>\n",
       "      <td>-5.089</td>\n",
       "      <td>False</td>\n",
       "      <td>False</td>\n",
       "      <td>64.0</td>\n",
       "      <td>NaN</td>\n",
       "      <td>0</td>\n",
       "      <td>0</td>\n",
       "      <td>NaN</td>\n",
       "      <td>NaN</td>\n",
       "      <td>False</td>\n",
       "      <td>0</td>\n",
       "      <td>0</td>\n",
       "      <td>False</td>\n",
       "      <td>0</td>\n",
       "    </tr>\n",
       "  </tbody>\n",
       "</table>"
      ],
      "text/plain": [
       "<IPython.core.display.HTML object>"
      ]
     },
     "execution_count": 11,
     "metadata": {},
     "output_type": "execute_result"
    }
   ],
   "source": [
    "# Preview of the data \n",
    "HTML(DataFrame(df_one_year).head(5).to_html())"
   ]
  },
  {
   "cell_type": "code",
   "execution_count": 12,
   "metadata": {
    "collapsed": false
   },
   "outputs": [
    {
     "data": {
      "text/plain": [
       "(22271779, 41)"
      ]
     },
     "execution_count": 12,
     "metadata": {},
     "output_type": "execute_result"
    }
   ],
   "source": [
    "# Displaying number of rows and columns\n",
    "df_one_year.shape"
   ]
  },
  {
   "cell_type": "code",
   "execution_count": 16,
   "metadata": {
    "collapsed": false
   },
   "outputs": [
    {
     "data": {
      "text/html": [
       "<div>\n",
       "<style scoped>\n",
       "    .dataframe tbody tr th:only-of-type {\n",
       "        vertical-align: middle;\n",
       "    }\n",
       "\n",
       "    .dataframe tbody tr th {\n",
       "        vertical-align: top;\n",
       "    }\n",
       "\n",
       "    .dataframe thead th {\n",
       "        text-align: right;\n",
       "    }\n",
       "</style>\n",
       "<table border=\"1\" class=\"dataframe\">\n",
       "  <thead>\n",
       "    <tr style=\"text-align: right;\">\n",
       "      <th>has_relocated</th>\n",
       "      <th>False</th>\n",
       "      <th>True</th>\n",
       "    </tr>\n",
       "    <tr>\n",
       "      <th>date_month</th>\n",
       "      <th></th>\n",
       "      <th></th>\n",
       "    </tr>\n",
       "  </thead>\n",
       "  <tbody>\n",
       "    <tr>\n",
       "      <th>2016-01-01 00:00:00</th>\n",
       "      <td>0.993825</td>\n",
       "      <td>0.006175</td>\n",
       "    </tr>\n",
       "    <tr>\n",
       "      <th>2016-02-01 00:00:00</th>\n",
       "      <td>0.994525</td>\n",
       "      <td>0.005475</td>\n",
       "    </tr>\n",
       "    <tr>\n",
       "      <th>2016-03-01 00:00:00</th>\n",
       "      <td>0.993793</td>\n",
       "      <td>0.006207</td>\n",
       "    </tr>\n",
       "    <tr>\n",
       "      <th>2016-04-01 00:00:00</th>\n",
       "      <td>0.994908</td>\n",
       "      <td>0.005092</td>\n",
       "    </tr>\n",
       "    <tr>\n",
       "      <th>2016-05-01 00:00:00</th>\n",
       "      <td>0.995491</td>\n",
       "      <td>0.004509</td>\n",
       "    </tr>\n",
       "    <tr>\n",
       "      <th>2016-06-01 00:00:00</th>\n",
       "      <td>0.993508</td>\n",
       "      <td>0.006492</td>\n",
       "    </tr>\n",
       "    <tr>\n",
       "      <th>2016-07-01 00:00:00</th>\n",
       "      <td>0.994678</td>\n",
       "      <td>0.005322</td>\n",
       "    </tr>\n",
       "    <tr>\n",
       "      <th>2016-08-01 00:00:00</th>\n",
       "      <td>0.995376</td>\n",
       "      <td>0.004624</td>\n",
       "    </tr>\n",
       "    <tr>\n",
       "      <th>2016-09-01 00:00:00</th>\n",
       "      <td>0.993881</td>\n",
       "      <td>0.006119</td>\n",
       "    </tr>\n",
       "    <tr>\n",
       "      <th>2016-10-01 00:00:00</th>\n",
       "      <td>0.994555</td>\n",
       "      <td>0.005445</td>\n",
       "    </tr>\n",
       "    <tr>\n",
       "      <th>2016-11-01 00:00:00</th>\n",
       "      <td>0.994366</td>\n",
       "      <td>0.005634</td>\n",
       "    </tr>\n",
       "    <tr>\n",
       "      <th>2016-12-01 00:00:00</th>\n",
       "      <td>0.993661</td>\n",
       "      <td>0.006339</td>\n",
       "    </tr>\n",
       "    <tr>\n",
       "      <th>All</th>\n",
       "      <td>0.994381</td>\n",
       "      <td>0.005619</td>\n",
       "    </tr>\n",
       "  </tbody>\n",
       "</table>\n",
       "</div>"
      ],
      "text/plain": [
       "has_relocated           False     True \n",
       "date_month                             \n",
       "2016-01-01 00:00:00  0.993825  0.006175\n",
       "2016-02-01 00:00:00  0.994525  0.005475\n",
       "2016-03-01 00:00:00  0.993793  0.006207\n",
       "2016-04-01 00:00:00  0.994908  0.005092\n",
       "2016-05-01 00:00:00  0.995491  0.004509\n",
       "2016-06-01 00:00:00  0.993508  0.006492\n",
       "2016-07-01 00:00:00  0.994678  0.005322\n",
       "2016-08-01 00:00:00  0.995376  0.004624\n",
       "2016-09-01 00:00:00  0.993881  0.006119\n",
       "2016-10-01 00:00:00  0.994555  0.005445\n",
       "2016-11-01 00:00:00  0.994366  0.005634\n",
       "2016-12-01 00:00:00  0.993661  0.006339\n",
       "All                  0.994381  0.005619"
      ]
     },
     "execution_count": 16,
     "metadata": {},
     "output_type": "execute_result"
    }
   ],
   "source": [
    "pd.crosstab(df_one_year.date_month, df_one_year.has_relocated, normalize = \"index\", margins = True)"
   ]
  },
  {
   "cell_type": "code",
   "execution_count": 18,
   "metadata": {
    "collapsed": false
   },
   "outputs": [
    {
     "data": {
      "text/plain": [
       "1929694"
      ]
     },
     "execution_count": 18,
     "metadata": {},
     "output_type": "execute_result"
    }
   ],
   "source": [
    "df_one_year['id_branch'].nunique()"
   ]
  },
  {
   "cell_type": "code",
   "execution_count": 22,
   "metadata": {
    "collapsed": false
   },
   "outputs": [
    {
     "data": {
      "text/plain": [
       "118394"
      ]
     },
     "execution_count": 22,
     "metadata": {},
     "output_type": "execute_result"
    }
   ],
   "source": [
    "df_one_year[df_one_year.has_relocated]['id_branch'].nunique()"
   ]
  },
  {
   "cell_type": "code",
   "execution_count": 21,
   "metadata": {
    "collapsed": false
   },
   "outputs": [
    {
     "data": {
      "text/plain": [
       "1783572"
      ]
     },
     "execution_count": 21,
     "metadata": {},
     "output_type": "execute_result"
    }
   ],
   "source": [
    "df_one_year['id_company'].nunique()"
   ]
  },
  {
   "cell_type": "code",
   "execution_count": 20,
   "metadata": {
    "collapsed": false
   },
   "outputs": [
    {
     "data": {
      "text/plain": [
       "False    22146634\n",
       "True       125145\n",
       "Name: has_relocated, dtype: int64"
      ]
     },
     "execution_count": 20,
     "metadata": {},
     "output_type": "execute_result"
    }
   ],
   "source": [
    "df_one_year['has_relocated'].value_counts()"
   ]
  },
  {
   "cell_type": "code",
   "execution_count": 15,
   "metadata": {
    "collapsed": false
   },
   "outputs": [
    {
     "data": {
      "text/html": [
       "<div>\n",
       "<style scoped>\n",
       "    .dataframe tbody tr th:only-of-type {\n",
       "        vertical-align: middle;\n",
       "    }\n",
       "\n",
       "    .dataframe tbody tr th {\n",
       "        vertical-align: top;\n",
       "    }\n",
       "\n",
       "    .dataframe thead th {\n",
       "        text-align: right;\n",
       "    }\n",
       "</style>\n",
       "<table border=\"1\" class=\"dataframe\">\n",
       "  <thead>\n",
       "    <tr style=\"text-align: right;\">\n",
       "      <th>has_relocated</th>\n",
       "      <th>False</th>\n",
       "      <th>True</th>\n",
       "      <th>All</th>\n",
       "    </tr>\n",
       "    <tr>\n",
       "      <th>date_month</th>\n",
       "      <th></th>\n",
       "      <th></th>\n",
       "      <th></th>\n",
       "    </tr>\n",
       "  </thead>\n",
       "  <tbody>\n",
       "    <tr>\n",
       "      <th>2016-01-01 00:00:00</th>\n",
       "      <td>1821328</td>\n",
       "      <td>11317</td>\n",
       "      <td>1832645</td>\n",
       "    </tr>\n",
       "    <tr>\n",
       "      <th>2016-02-01 00:00:00</th>\n",
       "      <td>1829831</td>\n",
       "      <td>10074</td>\n",
       "      <td>1839905</td>\n",
       "    </tr>\n",
       "    <tr>\n",
       "      <th>2016-03-01 00:00:00</th>\n",
       "      <td>1833411</td>\n",
       "      <td>11451</td>\n",
       "      <td>1844862</td>\n",
       "    </tr>\n",
       "    <tr>\n",
       "      <th>2016-04-01 00:00:00</th>\n",
       "      <td>1839649</td>\n",
       "      <td>9415</td>\n",
       "      <td>1849064</td>\n",
       "    </tr>\n",
       "    <tr>\n",
       "      <th>2016-05-01 00:00:00</th>\n",
       "      <td>1844015</td>\n",
       "      <td>8352</td>\n",
       "      <td>1852367</td>\n",
       "    </tr>\n",
       "    <tr>\n",
       "      <th>2016-06-01 00:00:00</th>\n",
       "      <td>1844936</td>\n",
       "      <td>12055</td>\n",
       "      <td>1856991</td>\n",
       "    </tr>\n",
       "    <tr>\n",
       "      <th>2016-07-01 00:00:00</th>\n",
       "      <td>1851213</td>\n",
       "      <td>9905</td>\n",
       "      <td>1861118</td>\n",
       "    </tr>\n",
       "    <tr>\n",
       "      <th>2016-08-01 00:00:00</th>\n",
       "      <td>1856348</td>\n",
       "      <td>8623</td>\n",
       "      <td>1864971</td>\n",
       "    </tr>\n",
       "    <tr>\n",
       "      <th>2016-09-01 00:00:00</th>\n",
       "      <td>1853379</td>\n",
       "      <td>11410</td>\n",
       "      <td>1864789</td>\n",
       "    </tr>\n",
       "    <tr>\n",
       "      <th>2016-10-01 00:00:00</th>\n",
       "      <td>1857170</td>\n",
       "      <td>10168</td>\n",
       "      <td>1867338</td>\n",
       "    </tr>\n",
       "    <tr>\n",
       "      <th>2016-11-01 00:00:00</th>\n",
       "      <td>1859278</td>\n",
       "      <td>10534</td>\n",
       "      <td>1869812</td>\n",
       "    </tr>\n",
       "    <tr>\n",
       "      <th>2016-12-01 00:00:00</th>\n",
       "      <td>1856076</td>\n",
       "      <td>11841</td>\n",
       "      <td>1867917</td>\n",
       "    </tr>\n",
       "    <tr>\n",
       "      <th>All</th>\n",
       "      <td>22146634</td>\n",
       "      <td>125145</td>\n",
       "      <td>22271779</td>\n",
       "    </tr>\n",
       "  </tbody>\n",
       "</table>\n",
       "</div>"
      ],
      "text/plain": [
       "has_relocated           False    True       All\n",
       "date_month                                     \n",
       "2016-01-01 00:00:00   1821328   11317   1832645\n",
       "2016-02-01 00:00:00   1829831   10074   1839905\n",
       "2016-03-01 00:00:00   1833411   11451   1844862\n",
       "2016-04-01 00:00:00   1839649    9415   1849064\n",
       "2016-05-01 00:00:00   1844015    8352   1852367\n",
       "2016-06-01 00:00:00   1844936   12055   1856991\n",
       "2016-07-01 00:00:00   1851213    9905   1861118\n",
       "2016-08-01 00:00:00   1856348    8623   1864971\n",
       "2016-09-01 00:00:00   1853379   11410   1864789\n",
       "2016-10-01 00:00:00   1857170   10168   1867338\n",
       "2016-11-01 00:00:00   1859278   10534   1869812\n",
       "2016-12-01 00:00:00   1856076   11841   1867917\n",
       "All                  22146634  125145  22271779"
      ]
     },
     "execution_count": 15,
     "metadata": {},
     "output_type": "execute_result"
    }
   ],
   "source": [
    "pd.crosstab(df_one_year.date_month, df_one_year.has_relocated, margins = True)"
   ]
  }
 ],
 "metadata": {
  "kernelspec": {
   "display_name": "graydon-moving",
   "language": "python",
   "name": "graydon-moving"
  },
  "language_info": {
   "codemirror_mode": {
    "name": "ipython",
    "version": 3
   },
   "file_extension": ".py",
   "mimetype": "text/x-python",
   "name": "python",
   "nbconvert_exporter": "python",
   "pygments_lexer": "ipython3",
   "version": "3.5.5"
  }
 },
 "nbformat": 4,
 "nbformat_minor": 2
}
