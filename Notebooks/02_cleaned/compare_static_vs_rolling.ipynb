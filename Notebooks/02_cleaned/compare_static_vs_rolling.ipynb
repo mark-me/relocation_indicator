{
 "cells": [
  {
   "cell_type": "markdown",
   "metadata": {},
   "source": [
    "# Introduction\n",
    "<a id='top'></a>\n",
    "\n",
    "<a href=#columns>Comparing columns</a>\n",
    "\n",
    "<a href=#rows>Comparing rows</a>\n",
    "\n",
    "<a href=#sums>Comparing sums</a>\n",
    "\n",
    "<a href=#conclusions>Conclusion</a>\n",
    "\n",
    "<a href=#End>End</a>"
   ]
  },
  {
   "cell_type": "markdown",
   "metadata": {},
   "source": [
    "The purpose of this Notebook is to compare the results of data cleaning and merging for the static year version versus the rolling month version. Both files have the whole of 2018 as the target year."
   ]
  },
  {
   "cell_type": "markdown",
   "metadata": {},
   "source": [
    "# Loading data"
   ]
  },
  {
   "cell_type": "code",
   "execution_count": 1,
   "metadata": {
    "collapsed": true
   },
   "outputs": [],
   "source": [
    "import pandas as pd\n",
    "import numpy as np\n",
    "from IPython.display import HTML"
   ]
  },
  {
   "cell_type": "code",
   "execution_count": 2,
   "metadata": {
    "collapsed": true
   },
   "outputs": [],
   "source": [
    "cols_key = ['date_month', 'id_company', 'id_branch']"
   ]
  },
  {
   "cell_type": "code",
   "execution_count": 3,
   "metadata": {
    "collapsed": false
   },
   "outputs": [
    {
     "name": "stderr",
     "output_type": "stream",
     "text": [
      "/home/mrodriguezlara/graydon/graydon-moving/lib/python3.5/site-packages/IPython/core/interactiveshell.py:3020: DtypeWarning: Columns (8,9,32,35,36,42,43) have mixed types. Specify dtype option on import or set low_memory=False.\n",
      "  interactivity=interactivity, compiler=compiler, result=result)\n"
     ]
    }
   ],
   "source": [
    "dtype_static ={ 'id_company'  :np.float64, 'id_branch'    :np.int64, 'is_discontinued':bool, 'code_discontinuation': np.float64,\n",
    "        'code_financial_calamity':object, 'financial_calamity_outcome'   : np.float64, 'code_legal_form' : np.float64,\n",
    "        'qty_employees' :np.float64, 'year_qty_employees' :np.float64, 'id_company_creditproxy':object,\n",
    "        'score_payment_assessment'    : np.float64, 'amt_revenue'  : np.float64, 'year_revenue'  : np.float64,\n",
    "        'amt_operating_result'   : np.float64, 'year_operating_result'    :object, 'amt_consolidated_revenue'   : np.float64,\n",
    "        'year_consolidated_revenue'   :object, 'amt_consolidated_operating_result' : np.float64,\n",
    "        'year_consolidated_operating_result'   :object, 'qty_issued_credit_reports' : np.float64,\n",
    "        'perc_credit_limit_adjustment' :object, 'color_credit_status'  :object, 'rat_pd'              :object,\n",
    "        'score_pd'            : np.float64, 'has_increased_risk'  :bool, 'is_sole_proprietor'   :bool,\n",
    "        'code_sbi_2'         : np.float64, 'qty_address_mutations_total'  :np.float64, 'qty_address_mutations_month'   :np.float64,\n",
    "        'has_relocated':bool, 'qty_started_names': np.float64, 'qty_stopped_names': np.float64,\n",
    "        'total_changeof_board_members_' :np.float64\n",
    "    }\n",
    "\n",
    "df_static = pd.read_csv('2017_merged.csv', dtype=dtype_static)"
   ]
  },
  {
   "cell_type": "code",
   "execution_count": 5,
   "metadata": {
    "collapsed": false
   },
   "outputs": [
    {
     "name": "stderr",
     "output_type": "stream",
     "text": [
      "/home/mrodriguezlara/graydon/graydon-moving/lib/python3.5/site-packages/IPython/core/interactiveshell.py:3020: DtypeWarning: Columns (8,9,32,35,36,41,42,46) have mixed types. Specify dtype option on import or set low_memory=False.\n",
      "  interactivity=interactivity, compiler=compiler, result=result)\n"
     ]
    }
   ],
   "source": [
    "dtype_rolling = {'id_company':np.float64,  'id_branch':np.int64, 'is_discontinued':bool,\n",
    "                 'code_discontinuation':np.float64, 'code_financial_calamity':object,\n",
    "                  'financial_calamity_outcome':np.float64, 'code_legal_form':np.float64,\n",
    "                  'qty_employees':np.float64, 'year_qty_employees':np.float64,\n",
    "                  'id_company_creditproxy':object, 'score_payment_assessment':np.float64,\n",
    "                  'amt_revenue':np.float64, 'year_revenue':np.float64,\n",
    "                  'amt_operating_result':np.float64, 'year_operating_result':object,\n",
    "                  'amt_consolidated_revenue':np.float64, 'year_consolidated_revenue':object,\n",
    "                  'amt_consolidated_operating_result':np.float64, 'year_consolidated_operating_result':object,\n",
    "                  'qty_issued_credit_reports':np.float64, 'perc_credit_limit_adjustment':object,\n",
    "                  'color_credit_status':object, 'rat_pd':object, 'score_pd': np.float64,\n",
    "                  'has_increased_risk':bool, 'is_sole_proprietor':bool, 'code_sbi_2':np.float64,\n",
    "                  'qty_address_mutations_total':np.float64, 'qty_address_mutations_month':np.float64,\n",
    "                  'has_relocated':bool, 'qty_started_names':np.float64, 'qty_stopped_names':np.float64,\n",
    "                  'total_changeof_board_members_':np.float64 }\n",
    "\n",
    "df_rolling = pd.read_csv('cleaned_merged_2018-01-01.csv', dtype=dtype_rolling)"
   ]
  },
  {
   "cell_type": "markdown",
   "metadata": {},
   "source": [
    "<a id='columns'></a>\n",
    "# Comparing columns\n",
    "<a href=#top>Top</a>"
   ]
  },
  {
   "cell_type": "markdown",
   "metadata": {},
   "source": [
    "Are the number of columns the same, and if not, how do they differ?"
   ]
  },
  {
   "cell_type": "code",
   "execution_count": 6,
   "metadata": {
    "collapsed": false
   },
   "outputs": [
    {
     "name": "stdout",
     "output_type": "stream",
     "text": [
      "Columns for static: 44 versus columns for rolling: 48 , meaning there is a difference of: 4 columns.\n"
     ]
    }
   ],
   "source": [
    "qty_cols_static = df_static.shape[1]\n",
    "qty_cols_rolling = df_rolling.shape[1]\n",
    "print(\"Columns for static:\", \"{:,}\".format(qty_cols_static).replace(',', '.'), \n",
    "      \"versus columns for rolling:\", \"{:,}\".format(qty_cols_rolling).replace(',', '.'), \n",
    "      \", meaning there is a difference of:\", \"{:,}\".format(qty_cols_rolling - qty_cols_static).replace(',', '.'), \"columns.\")"
   ]
  },
  {
   "cell_type": "markdown",
   "metadata": {},
   "source": [
    "Columns in static, but not in rolling:"
   ]
  },
  {
   "cell_type": "code",
   "execution_count": 7,
   "metadata": {
    "collapsed": false
   },
   "outputs": [
    {
     "data": {
      "text/plain": [
       "Index([], dtype='object')"
      ]
     },
     "execution_count": 7,
     "metadata": {},
     "output_type": "execute_result"
    }
   ],
   "source": [
    "df_static.columns.difference(df_rolling.columns)"
   ]
  },
  {
   "cell_type": "markdown",
   "metadata": {},
   "source": [
    "No missing columns in rolling dataset.\n",
    "\n",
    "Columns in rolling, but not in static:"
   ]
  },
  {
   "cell_type": "code",
   "execution_count": 8,
   "metadata": {
    "collapsed": false
   },
   "outputs": [
    {
     "data": {
      "text/plain": [
       "Index(['date_dataset', 'date_month_last', 'years_current_location',\n",
       "       'years_previous_location'],\n",
       "      dtype='object')"
      ]
     },
     "execution_count": 8,
     "metadata": {},
     "output_type": "execute_result"
    }
   ],
   "source": [
    "df_rolling.columns.difference(df_static.columns)"
   ]
  },
  {
   "cell_type": "markdown",
   "metadata": {},
   "source": [
    "## Comparing data-types"
   ]
  },
  {
   "cell_type": "code",
   "execution_count": 17,
   "metadata": {
    "collapsed": false
   },
   "outputs": [
    {
     "data": {
      "text/plain": [
       "Unnamed: 0                             True\n",
       "date_month                             True\n",
       "id_company                             True\n",
       "id_branch                              True\n",
       "date_established                       True\n",
       "is_discontinued                        True\n",
       "code_discontinuation                   True\n",
       "code_financial_calamity                True\n",
       "date_financial_calamity_started        True\n",
       "date_financial_calamity_stopped        True\n",
       "financial_calamity_outcome             True\n",
       "code_legal_form                        True\n",
       "qty_employees                          True\n",
       "year_qty_employees                     True\n",
       "id_company_creditproxy                 True\n",
       "score_payment_assessment               True\n",
       "amt_revenue                            True\n",
       "year_revenue                           True\n",
       "amt_operating_result                   True\n",
       "year_operating_result                  True\n",
       "amt_consolidated_revenue               True\n",
       "year_consolidated_revenue              True\n",
       "amt_consolidated_operating_result      True\n",
       "year_consolidated_operating_result     True\n",
       "qty_issued_credit_reports              True\n",
       "perc_credit_limit_adjustment           True\n",
       "color_credit_status                    True\n",
       "rat_pd                                 True\n",
       "score_pd                               True\n",
       "has_increased_risk                     True\n",
       "is_sole_proprietor                     True\n",
       "code_sbi_2                             True\n",
       "code_sbi_1                             True\n",
       "qty_address_mutations_total            True\n",
       "qty_address_mutations_month            True\n",
       "date_start                             True\n",
       "from_date_start                        True\n",
       "has_relocated                         False\n",
       "qty_started_names                      True\n",
       "qty_stopped_names                      True\n",
       "has_name_change                        True\n",
       "total_changeof_board_members_          True\n",
       "date_relocation_last                   True\n",
       "date_relocation_penultimate            True\n",
       "dtype: bool"
      ]
     },
     "execution_count": 17,
     "metadata": {},
     "output_type": "execute_result"
    }
   ],
   "source": [
    "cols_intersection = df_static.columns.intersection(df_rolling.columns).tolist()\n",
    "df_rolling[cols_intersection].dtypes == df_static[cols_intersection].dtypes"
   ]
  },
  {
   "cell_type": "markdown",
   "metadata": {},
   "source": [
    "All are equal dtypes, minus has_relocated, which is kinda important...."
   ]
  },
  {
   "cell_type": "code",
   "execution_count": 24,
   "metadata": {
    "collapsed": false
   },
   "outputs": [
    {
     "name": "stdout",
     "output_type": "stream",
     "text": [
      "Rolling dtype: object \n",
      " Static dtype: bool\n"
     ]
    }
   ],
   "source": [
    "print(\"Rolling dtype:\", df_rolling['has_relocated'].dtypes, \"\\n\", \n",
    "      \"Static dtype:\", df_static['has_relocated'].dtypes)"
   ]
  },
  {
   "cell_type": "code",
   "execution_count": 21,
   "metadata": {
    "collapsed": false
   },
   "outputs": [
    {
     "data": {
      "text/plain": [
       "False    21090118\n",
       "True      1057676\n",
       "Name: has_relocated, dtype: int64"
      ]
     },
     "execution_count": 21,
     "metadata": {},
     "output_type": "execute_result"
    }
   ],
   "source": [
    "df_rolling['has_relocated'].value_counts()"
   ]
  },
  {
   "cell_type": "code",
   "execution_count": 22,
   "metadata": {
    "collapsed": false
   },
   "outputs": [
    {
     "data": {
      "text/plain": [
       "False    22605016\n",
       "True       124746\n",
       "Name: has_relocated, dtype: int64"
      ]
     },
     "execution_count": 22,
     "metadata": {},
     "output_type": "execute_result"
    }
   ],
   "source": [
    "df_static['has_relocated'].value_counts()"
   ]
  },
  {
   "cell_type": "markdown",
   "metadata": {},
   "source": [
    "### Conclusion\n",
    "There are no missing columns in the rolling dataframe, but there are some extra. This is as expected since there are:\n",
    "* New columns added for identifying the dataset:\n",
    "   - date_dataset\n",
    "* Columns that are created in the 'Clean and Merge' phase instead of the 'Aggregate and Transform' phase:\n",
    "   - date_month_last \n",
    "   - years_current_location\n",
    "   - years_previous_location"
   ]
  },
  {
   "cell_type": "markdown",
   "metadata": {},
   "source": [
    "The columns in the rolling dataframe are:"
   ]
  },
  {
   "cell_type": "code",
   "execution_count": null,
   "metadata": {
    "collapsed": false
   },
   "outputs": [],
   "source": [
    "df_rolling.columns"
   ]
  },
  {
   "cell_type": "markdown",
   "metadata": {},
   "source": [
    "<a id='rows'></a>\n",
    "# Comparing rows\n",
    "<a href=#top>Top</a>"
   ]
  },
  {
   "cell_type": "code",
   "execution_count": null,
   "metadata": {
    "collapsed": false
   },
   "outputs": [],
   "source": [
    "qty_rows_static = df_static.shape[0]\n",
    "qty_rows_rolling = df_rolling.shape[0]\n",
    "print(\"Rows for static:\", \"{:,}\".format(qty_rows_static).replace(',', '.'), \n",
    "      \"versus rows for rolling:\", \"{:,}\".format(qty_rows_rolling).replace(',', '.'), \n",
    "      \", meaning there is a difference of:\", \"{:,}\".format(qty_rows_rolling - qty_rows_static).replace(',', '.'), \"rows.\")"
   ]
  },
  {
   "cell_type": "markdown",
   "metadata": {},
   "source": [
    "## Conclusion\n",
    "So there are way more rows in the rolling dataframe. Are there repeating keys (meaning month, company and branch)?"
   ]
  },
  {
   "cell_type": "markdown",
   "metadata": {},
   "source": [
    "<a id='sums'></a>\n",
    "# Comparing sums\n",
    "<a href=#top>Top</a>"
   ]
  },
  {
   "cell_type": "markdown",
   "metadata": {},
   "source": [
    "Check whether summable columns yield the same result"
   ]
  },
  {
   "cell_type": "code",
   "execution_count": null,
   "metadata": {
    "collapsed": true
   },
   "outputs": [],
   "source": [
    "#cols_summable = ['qty_employees', 'year_qty_employees', 'score_payment_assessment', 'amt_revenue', 'year_revenue',\n",
    "#                 'amt_operating_result', 'year_operating_result', 'amt_consolidated_revenue', 'year_consolidated_revenue',\n",
    "#                 'amt_consolidated_operating_result', 'year_consolidated_operating_result', 'qty_issued_credit_reports', \n",
    "#                 'perc_credit_limit_adjustment', 'rat_pd', 'score_pd', 'has_increased_risk', 'is_sole_proprietor',  \n",
    "#                 'code_sbi_2', 'code_sbi_1', 'qty_address_mutations_total', 'qty_address_mutations_month',\n",
    "#                 'date_start', 'from_date_start', 'qty_started_names', 'qty_stopped_names', 'has_name_change',\n",
    "#                 'total_changeof_board_members_', 'has_relocated']\n",
    "\n",
    "cols_summable = ['qty_employees', 'year_qty_employees', 'score_payment_assessment', 'amt_revenue', 'year_revenue',\n",
    "                 'amt_operating_result', 'year_operating_result', 'amt_consolidated_revenue', 'year_consolidated_revenue',\n",
    "                 'amt_consolidated_operating_result', 'year_consolidated_operating_result', 'qty_issued_credit_reports', \n",
    "                 'rat_pd', 'score_pd', 'qty_address_mutations_total', 'qty_address_mutations_month']"
   ]
  },
  {
   "cell_type": "code",
   "execution_count": null,
   "metadata": {
    "collapsed": false
   },
   "outputs": [],
   "source": [
    "sums_static = df_static[cols_summable].sum()\n",
    "sums_rolling = df_rolling[cols_summable].sum()\n",
    "sums_static == sums_rolling"
   ]
  },
  {
   "cell_type": "markdown",
   "metadata": {},
   "source": [
    "<a id='conclusions'></a>\n",
    "# Conclusion\n",
    "<a href=#top>Top</a>"
   ]
  },
  {
   "cell_type": "markdown",
   "metadata": {},
   "source": [
    "I've looked at 3 criteria:\n",
    "* The columns: there are added columns in the rolling month dataset, but they were there by design. \n",
    "* The rows: the number of rows is equal, so that is alright. \n",
    "* Sums of some summable columns: "
   ]
  }
 ],
 "metadata": {
  "kernelspec": {
   "display_name": "graydon-moving",
   "language": "python",
   "name": "graydon-moving"
  },
  "language_info": {
   "codemirror_mode": {
    "name": "ipython",
    "version": 3
   },
   "file_extension": ".py",
   "mimetype": "text/x-python",
   "name": "python",
   "nbconvert_exporter": "python",
   "pygments_lexer": "ipython3",
   "version": "3.5.5"
  }
 },
 "nbformat": 4,
 "nbformat_minor": 0
}
