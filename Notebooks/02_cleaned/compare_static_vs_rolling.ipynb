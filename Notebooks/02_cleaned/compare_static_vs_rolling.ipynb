{
 "cells": [
  {
   "cell_type": "markdown",
   "metadata": {},
   "source": [
    "# Introduction\n",
    "<a id='top'></a>\n",
    "\n",
    "<a href=#columns>Comparing columns</a>\n",
    "\n",
    "<a href=#rows>Comparing rows</a>\n",
    "\n",
    "<a href=#sums>Comparing sums</a>\n",
    "\n",
    "<a href=#conclusions>Conclusion</a>\n",
    "\n",
    "<a href=#End>End</a>"
   ]
  },
  {
   "cell_type": "markdown",
   "metadata": {},
   "source": [
    "The purpose of this Notebook is to compare the results of data cleaning and merging for the static year version versus the rolling month version. Both files have the whole of 2018 as the target year."
   ]
  },
  {
   "cell_type": "markdown",
   "metadata": {},
   "source": [
    "# Loading data"
   ]
  },
  {
   "cell_type": "code",
   "execution_count": 1,
   "metadata": {
    "collapsed": true
   },
   "outputs": [],
   "source": [
    "import pandas as pd\n",
    "import numpy as np\n",
    "from IPython.display import HTML"
   ]
  },
  {
   "cell_type": "code",
   "execution_count": 2,
   "metadata": {
    "collapsed": true
   },
   "outputs": [],
   "source": [
    "cols_key = ['date_month', 'id_company', 'id_branch']"
   ]
  },
  {
   "cell_type": "code",
   "execution_count": 20,
   "metadata": {
    "collapsed": false
   },
   "outputs": [
    {
     "name": "stderr",
     "output_type": "stream",
     "text": [
      "/home/mrodriguezlara/graydon/graydon-moving/lib/python3.5/site-packages/IPython/core/interactiveshell.py:3020: DtypeWarning: Columns (7,8,9,14,32,35,36,42,43) have mixed types. Specify dtype option on import or set low_memory=False.\n",
      "  interactivity=interactivity, compiler=compiler, result=result)\n"
     ]
    }
   ],
   "source": [
    "df_static = pd.read_csv('2017_merged.csv')"
   ]
  },
  {
   "cell_type": "code",
   "execution_count": 4,
   "metadata": {
    "collapsed": false
   },
   "outputs": [
    {
     "name": "stderr",
     "output_type": "stream",
     "text": [
      "/home/mrodriguezlara/graydon/graydon-moving/lib/python3.5/site-packages/IPython/core/interactiveshell.py:3020: DtypeWarning: Columns (7,8,9,14,16,32,35,36,41,42,48) have mixed types. Specify dtype option on import or set low_memory=False.\n",
      "  interactivity=interactivity, compiler=compiler, result=result)\n"
     ]
    }
   ],
   "source": [
    "df_rolling = pd.read_csv('cleaned_merged_2018-01-01.csv')"
   ]
  },
  {
   "cell_type": "markdown",
   "metadata": {},
   "source": [
    "<a id='columns'></a>\n",
    "# Comparing columns\n",
    "<a href=#top>Top</a>"
   ]
  },
  {
   "cell_type": "markdown",
   "metadata": {},
   "source": [
    "Are the number of columns the same, and if not, how do they differ?"
   ]
  },
  {
   "cell_type": "code",
   "execution_count": 22,
   "metadata": {
    "collapsed": false
   },
   "outputs": [
    {
     "name": "stdout",
     "output_type": "stream",
     "text": [
      "Columns for static: 44 versus columns for rolling: 49 , meaning there is a difference of: 5 columns.\n"
     ]
    }
   ],
   "source": [
    "qty_cols_static = df_static.shape[1]\n",
    "qty_cols_rolling = df_rolling.shape[1]\n",
    "print(\"Columns for static:\", \"{:,}\".format(qty_cols_static).replace(',', '.'), \n",
    "      \"versus columns for rolling:\", \"{:,}\".format(qty_cols_rolling).replace(',', '.'), \n",
    "      \", meaning there is a difference of:\", \"{:,}\".format(qty_cols_rolling - qty_cols_static).replace(',', '.'), \"columns.\")"
   ]
  },
  {
   "cell_type": "markdown",
   "metadata": {},
   "source": [
    "Columns is static, but not in rolling:"
   ]
  },
  {
   "cell_type": "code",
   "execution_count": 23,
   "metadata": {
    "collapsed": false
   },
   "outputs": [
    {
     "data": {
      "text/plain": [
       "Index([], dtype='object')"
      ]
     },
     "execution_count": 23,
     "metadata": {},
     "output_type": "execute_result"
    }
   ],
   "source": [
    "df_static.columns.difference(df_rolling.columns)"
   ]
  },
  {
   "cell_type": "markdown",
   "metadata": {},
   "source": [
    "No missing columns in rolling dataset"
   ]
  },
  {
   "cell_type": "markdown",
   "metadata": {},
   "source": [
    "Columns is rolling, but not in static:"
   ]
  },
  {
   "cell_type": "code",
   "execution_count": 24,
   "metadata": {
    "collapsed": false
   },
   "outputs": [
    {
     "data": {
      "text/plain": [
       "Index(['date_dataset_x', 'date_dataset_y', 'date_month_last',\n",
       "       'years_current_location', 'years_previous_location'],\n",
       "      dtype='object')"
      ]
     },
     "execution_count": 24,
     "metadata": {},
     "output_type": "execute_result"
    }
   ],
   "source": [
    "df_rolling.columns.difference(df_static.columns)"
   ]
  },
  {
   "cell_type": "markdown",
   "metadata": {},
   "source": [
    "### Conclusion\n",
    "There are no missing columns in the rolling dataframe, but there are some extra. This is as expected since there are:\n",
    "* New columns added for identifying the dataset:\n",
    "   - date_dataset_x \n",
    "   - date_dataset_y\n",
    "* Columns that are created in the 'Clean and Merge' phase instead of the 'Aggregate and Transform' phase:\n",
    "   - date_month_last \n",
    "   - years_current_location\n",
    "   - years_previous_location"
   ]
  },
  {
   "cell_type": "markdown",
   "metadata": {},
   "source": [
    "The columns in the rolling dataframe are:"
   ]
  },
  {
   "cell_type": "code",
   "execution_count": 25,
   "metadata": {
    "collapsed": false
   },
   "outputs": [
    {
     "data": {
      "text/plain": [
       "Index(['Unnamed: 0', 'date_month', 'id_company', 'id_branch',\n",
       "       'date_established', 'is_discontinued', 'code_discontinuation',\n",
       "       'code_financial_calamity', 'date_financial_calamity_started',\n",
       "       'date_financial_calamity_stopped', 'financial_calamity_outcome',\n",
       "       'code_legal_form', 'qty_employees', 'year_qty_employees',\n",
       "       'id_company_creditproxy', 'score_payment_assessment', 'amt_revenue',\n",
       "       'year_revenue', 'amt_operating_result', 'year_operating_result',\n",
       "       'amt_consolidated_revenue', 'year_consolidated_revenue',\n",
       "       'amt_consolidated_operating_result',\n",
       "       'year_consolidated_operating_result', 'qty_issued_credit_reports',\n",
       "       'perc_credit_limit_adjustment', 'color_credit_status', 'rat_pd',\n",
       "       'score_pd', 'has_increased_risk', 'is_sole_proprietor', 'code_sbi_2',\n",
       "       'code_sbi_1', 'qty_address_mutations_total',\n",
       "       'qty_address_mutations_month', 'date_start', 'from_date_start',\n",
       "       'qty_started_names', 'qty_stopped_names', 'has_name_change',\n",
       "       'total_changeof_board_members_', 'date_relocation_last',\n",
       "       'date_relocation_penultimate', 'years_current_location',\n",
       "       'years_previous_location', 'date_dataset_x', 'date_dataset_y',\n",
       "       'date_month_last', 'has_relocated'],\n",
       "      dtype='object')"
      ]
     },
     "execution_count": 25,
     "metadata": {},
     "output_type": "execute_result"
    }
   ],
   "source": [
    "df_rolling.columns"
   ]
  },
  {
   "cell_type": "markdown",
   "metadata": {},
   "source": [
    "<a id='rows'></a>\n",
    "# Comparing rows\n",
    "<a href=#top>Top</a>"
   ]
  },
  {
   "cell_type": "code",
   "execution_count": 26,
   "metadata": {
    "collapsed": false
   },
   "outputs": [
    {
     "name": "stdout",
     "output_type": "stream",
     "text": [
      "Rows for static: 22.729.762 versus rows for rolling: 22.729.762 , meaning there is a difference of: 0 rows.\n"
     ]
    }
   ],
   "source": [
    "qty_rows_static = df_static.shape[0]\n",
    "qty_rows_rolling = df_rolling.shape[0]\n",
    "print(\"Rows for static:\", \"{:,}\".format(qty_rows_static).replace(',', '.'), \n",
    "      \"versus rows for rolling:\", \"{:,}\".format(qty_rows_rolling).replace(',', '.'), \n",
    "      \", meaning there is a difference of:\", \"{:,}\".format(qty_rows_rolling - qty_rows_static).replace(',', '.'), \"rows.\")"
   ]
  },
  {
   "cell_type": "markdown",
   "metadata": {},
   "source": [
    "## Conclusion\n",
    "So there are way more rows in the rolling dataframe. Are there repeating keys (meaning month, company and branch)?"
   ]
  },
  {
   "cell_type": "markdown",
   "metadata": {},
   "source": [
    "<a id='sums'></a>\n",
    "# Comparing sums\n",
    "<a href=#top>Top</a>"
   ]
  },
  {
   "cell_type": "markdown",
   "metadata": {},
   "source": [
    "Check whether summable columns yield the same result"
   ]
  },
  {
   "cell_type": "code",
   "execution_count": null,
   "metadata": {
    "collapsed": true
   },
   "outputs": [],
   "source": [
    "cols_summable = ['qty_employees', 'year_qty_employees', 'score_payment_assessment', 'amt_revenue', 'year_revenue',\n",
    "                 'amt_operating_result', 'year_operating_result', 'amt_consolidated_revenue', 'year_consolidated_revenue',\n",
    "                 'amt_consolidated_operating_result', 'year_consolidated_operating_result', 'qty_issued_credit_reports', \n",
    "                 'perc_credit_limit_adjustment', 'rat_pd', 'score_pd', 'has_increased_risk', 'is_sole_proprietor',  \n",
    "                 'code_sbi_2', 'code_sbi_1', 'qty_address_mutations_total', 'qty_address_mutations_month',\n",
    "                 'date_start', 'from_date_start', 'qty_started_names', 'qty_stopped_names', 'has_name_change',\n",
    "                 'total_changeof_board_members_', 'has_relocated']"
   ]
  },
  {
   "cell_type": "code",
   "execution_count": 36,
   "metadata": {
    "collapsed": false
   },
   "outputs": [
    {
     "data": {
      "text/plain": [
       "qty_employees         True\n",
       "year_qty_employees    True\n",
       "dtype: bool"
      ]
     },
     "execution_count": 36,
     "metadata": {},
     "output_type": "execute_result"
    }
   ],
   "source": [
    "sums_static = df_static[cols_summable].sum()\n",
    "sums_rolling = df_rolling[cols_summable].sum()\n",
    "sums_static == sums_rolling"
   ]
  },
  {
   "cell_type": "markdown",
   "metadata": {},
   "source": [
    "<a id='conclusions'></a>\n",
    "# Conclusion\n",
    "<a href=#top>Top</a>"
   ]
  },
  {
   "cell_type": "markdown",
   "metadata": {},
   "source": [
    "I've looked at 3 criteria:\n",
    "* The columns: there are added columns in the rolling month dataset, but they were there by design. \n",
    "* The rows: the number of rows is equal, so that is alright. \n",
    "* Sums ofWhen comparing the sum of all summable columns"
   ]
  }
 ],
 "metadata": {
  "kernelspec": {
   "display_name": "graydon-moving",
   "language": "python",
   "name": "graydon-moving"
  },
  "language_info": {
   "codemirror_mode": {
    "name": "ipython",
    "version": 3
   },
   "file_extension": ".py",
   "mimetype": "text/x-python",
   "name": "python",
   "nbconvert_exporter": "python",
   "pygments_lexer": "ipython3",
   "version": "3.5.5"
  }
 },
 "nbformat": 4,
 "nbformat_minor": 0
}
