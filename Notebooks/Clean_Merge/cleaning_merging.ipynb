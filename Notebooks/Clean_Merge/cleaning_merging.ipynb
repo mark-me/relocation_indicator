{
 "cells": [
  {
   "cell_type": "markdown",
   "metadata": {},
   "source": [
    "# Setting up"
   ]
  },
  {
   "cell_type": "markdown",
   "metadata": {},
   "source": [
    "## Modules"
   ]
  },
  {
   "cell_type": "code",
   "execution_count": 1,
   "metadata": {
    "collapsed": false
   },
   "outputs": [],
   "source": [
    "import sys\n",
    "sys.path.append(\"../modules\")"
   ]
  },
  {
   "cell_type": "code",
   "execution_count": 2,
   "metadata": {
    "collapsed": false
   },
   "outputs": [],
   "source": [
    "from cleaning_merging import *"
   ]
  },
  {
   "cell_type": "code",
   "execution_count": 3,
   "metadata": {
    "collapsed": true
   },
   "outputs": [],
   "source": [
    "from datetime import datetime\n",
    "#from pandas import DataFrame\n",
    "from IPython.display import HTML\n",
    "#from google.cloud.storage import Blob\n",
    "#import datalab.storage as gcs_datalab"
   ]
  },
  {
   "cell_type": "markdown",
   "metadata": {},
   "source": [
    "## Data gathering variables"
   ]
  },
  {
   "cell_type": "code",
   "execution_count": 4,
   "metadata": {
    "collapsed": true
   },
   "outputs": [],
   "source": [
    "date_dataset = datetime.strptime(\"2018-01-01\", '%Y-%m-%d')\n",
    "columns_targets = ['date_month', 'id_company', 'id_branch', 'is_sole_proprietor', 'has_relocated']\n",
    "columns_features = ['date_month', 'id_company', 'id_branch',\n",
    "                    'is_discontinued', 'financial_calamity_outcome', 'date_established', 'qty_employees', \n",
    "                    'year_qty_employees', 'id_company_creditproxy', 'score_payment_assessment', \n",
    "                    'amt_revenue', 'year_revenue', 'amt_consolidated_revenue', 'year_consolidated_revenue',\n",
    "                    'amt_consolidated_operating_result', 'year_consolidated_operating_result', \n",
    "                    'perc_credit_limit_adjustment', 'color_credit_status', 'rat_pd', 'score_pd',\n",
    "                    'has_increased_risk', 'is_sole_proprietor', 'code_SBI_2', 'code_SBI_1',\n",
    "                    'qty_address_mutations_total', 'qty_address_mutations_month', 'has_name_change', \n",
    "                    'code_discontinuation', 'code_financial_calamity', 'qty_issued_credit_reports', \n",
    "                    'Associate', 'Authorized official', 'Board member', 'Chairman', 'Commissioner', \n",
    "                    'Director', 'Liquidator', 'Major', 'Managing clerk', 'Managing partner', \n",
    "                    'Member of the partnership', 'Miscellaneous', 'Owner', 'Secretary', 'Secretary/Treasurer', \n",
    "                    'Treasurer', 'Unknown', 'Vice President', 'amt_operating_result', 'code_legal_form', \n",
    "                    'date_financial_calamity_started', 'date_financial_calamity_stopped', 'date_start', \n",
    "                    'from_date_start', 'qty_stopped_names', 'qty_started_names', 'year_operating_result']    "
   ]
  },
  {
   "cell_type": "markdown",
   "metadata": {},
   "source": [
    "### For a loop"
   ]
  },
  {
   "cell_type": "code",
   "execution_count": 5,
   "metadata": {
    "collapsed": false
   },
   "outputs": [],
   "source": [
    "dates = [\"2018-01-01\", \"2017-01-01\", \"2016-01-01\", \"2015-01-01\", \"2014-01-01\", \"2013-01-01\"]\n",
    "list_date_dataset = [datetime.strptime(date, '%Y-%m-%d') for date in dates]"
   ]
  },
  {
   "cell_type": "markdown",
   "metadata": {},
   "source": [
    "## Project constants"
   ]
  },
  {
   "cell_type": "code",
   "execution_count": 6,
   "metadata": {
    "collapsed": false
   },
   "outputs": [],
   "source": [
    "project = 'graydon-moving-indicator'\n",
    "bucket_name = 'graydon-data'\n",
    "dir_input_data = '01_input'\n",
    "clean_merge = Cleaner_Merger(project, bucket_name, dir_input_data)"
   ]
  },
  {
   "cell_type": "markdown",
   "metadata": {},
   "source": [
    "# Gathering data"
   ]
  },
  {
   "cell_type": "markdown",
   "metadata": {},
   "source": [
    "## Features"
   ]
  },
  {
   "cell_type": "code",
   "execution_count": 7,
   "metadata": {
    "collapsed": false
   },
   "outputs": [
    {
     "name": "stdout",
     "output_type": "stream",
     "text": [
      "Read 01_input/2017/modelling_2017-01-01_2017-01-31.CSV with 5000 rows\n",
      "After removing sole proprietors there are 4411 rows are left\n",
      "The number of rows so far by adding 01_input/2017/modelling_2017-01-01_2017-01-31.CSV : 4411\n",
      "Read 01_input/2017/modelling_2017-02-01_2017-02-28.CSV with 5000 rows\n",
      "After removing sole proprietors there are 4412 rows are left\n",
      "The number of rows so far by adding 01_input/2017/modelling_2017-02-01_2017-02-28.CSV : 8823\n",
      "Read 01_input/2017/modelling_2017-03-01_2017-03-31.CSV with 5000 rows\n",
      "After removing sole proprietors there are 4414 rows are left\n",
      "The number of rows so far by adding 01_input/2017/modelling_2017-03-01_2017-03-31.CSV : 13237\n",
      "Read 01_input/2017/modelling_2017-04-01_2017-04-30.CSV with 5000 rows\n",
      "After removing sole proprietors there are 4414 rows are left\n",
      "The number of rows so far by adding 01_input/2017/modelling_2017-04-01_2017-04-30.CSV : 17651\n",
      "Read 01_input/2017/modelling_2017-05-01_2017-05-31.CSV with 5000 rows\n",
      "After removing sole proprietors there are 4415 rows are left\n",
      "The number of rows so far by adding 01_input/2017/modelling_2017-05-01_2017-05-31.CSV : 22066\n",
      "Read 01_input/2017/modelling_2017-06-01_2017-06-30.CSV with 5000 rows\n",
      "After removing sole proprietors there are 4416 rows are left\n",
      "The number of rows so far by adding 01_input/2017/modelling_2017-06-01_2017-06-30.CSV : 26482\n",
      "Read 01_input/2017/modelling_2017-07-01_2017-07-31.CSV with 5000 rows\n",
      "After removing sole proprietors there are 4418 rows are left\n",
      "The number of rows so far by adding 01_input/2017/modelling_2017-07-01_2017-07-31.CSV : 30900\n",
      "Read 01_input/2017/modelling_2017-08-01_2017-08-31.CSV with 5000 rows\n",
      "After removing sole proprietors there are 4418 rows are left\n",
      "The number of rows so far by adding 01_input/2017/modelling_2017-08-01_2017-08-31.CSV : 35318\n",
      "Read 01_input/2017/modelling_2017-09-01_2017-09-30.CSV with 5000 rows\n",
      "After removing sole proprietors there are 4420 rows are left\n",
      "The number of rows so far by adding 01_input/2017/modelling_2017-09-01_2017-09-30.CSV : 39738\n",
      "Read 01_input/2017/modelling_2017-10-01_2017-10-31.CSV with 5000 rows\n",
      "After removing sole proprietors there are 4418 rows are left\n",
      "The number of rows so far by adding 01_input/2017/modelling_2017-10-01_2017-10-31.CSV : 44156\n",
      "Read 01_input/2017/modelling_2017-11-01_2017-11-30.CSV with 5000 rows\n",
      "After removing sole proprietors there are 4419 rows are left\n",
      "The number of rows so far by adding 01_input/2017/modelling_2017-11-01_2017-11-30.CSV : 48575\n",
      "Read 01_input/2017/modelling_2017-12-01_2017-12-31.CSV with 5000 rows\n",
      "After removing sole proprietors there are 4414 rows are left\n",
      "The number of rows so far by adding 01_input/2017/modelling_2017-12-01_2017-12-31.CSV : 52989\n"
     ]
    }
   ],
   "source": [
    "df_features = clean_merge.get_features(date_dataset, columns_features)"
   ]
  },
  {
   "cell_type": "markdown",
   "metadata": {},
   "source": [
    "Example of the data:"
   ]
  },
  {
   "cell_type": "code",
   "execution_count": 8,
   "metadata": {
    "collapsed": false
   },
   "outputs": [
    {
     "data": {
      "text/html": [
       "<div>\n",
       "<style scoped>\n",
       "    .dataframe tbody tr th:only-of-type {\n",
       "        vertical-align: middle;\n",
       "    }\n",
       "\n",
       "    .dataframe tbody tr th {\n",
       "        vertical-align: top;\n",
       "    }\n",
       "\n",
       "    .dataframe thead th {\n",
       "        text-align: right;\n",
       "    }\n",
       "</style>\n",
       "<table border=\"1\" class=\"dataframe\">\n",
       "  <thead>\n",
       "    <tr style=\"text-align: right;\">\n",
       "      <th></th>\n",
       "      <th>date_month</th>\n",
       "      <th>id_company</th>\n",
       "      <th>id_branch</th>\n",
       "      <th>date_established</th>\n",
       "      <th>is_discontinued</th>\n",
       "      <th>code_discontinuation</th>\n",
       "      <th>code_financial_calamity</th>\n",
       "      <th>date_financial_calamity_started</th>\n",
       "      <th>date_financial_calamity_stopped</th>\n",
       "      <th>financial_calamity_outcome</th>\n",
       "      <th>...</th>\n",
       "      <th>from_date_start</th>\n",
       "      <th>qty_started_names</th>\n",
       "      <th>qty_stopped_names</th>\n",
       "      <th>has_name_change</th>\n",
       "      <th>total_changeof_board_members_</th>\n",
       "      <th>date_relocation_last</th>\n",
       "      <th>date_relocation_penultimate</th>\n",
       "      <th>years_current_location</th>\n",
       "      <th>years_previous_location</th>\n",
       "      <th>date_dataset</th>\n",
       "    </tr>\n",
       "  </thead>\n",
       "  <tbody>\n",
       "    <tr>\n",
       "      <th>0</th>\n",
       "      <td>2017-01-01</td>\n",
       "      <td>3</td>\n",
       "      <td>10079408</td>\n",
       "      <td>1921-03-17</td>\n",
       "      <td>False</td>\n",
       "      <td>NaN</td>\n",
       "      <td>NaN</td>\n",
       "      <td>NaN</td>\n",
       "      <td>NaN</td>\n",
       "      <td>-1.0</td>\n",
       "      <td>...</td>\n",
       "      <td>NaN</td>\n",
       "      <td>0</td>\n",
       "      <td>0</td>\n",
       "      <td>False</td>\n",
       "      <td>0</td>\n",
       "      <td>2015-06-11</td>\n",
       "      <td>2014-10-02</td>\n",
       "      <td>1.560607</td>\n",
       "      <td>2.25056</td>\n",
       "      <td>2018-01-01</td>\n",
       "    </tr>\n",
       "    <tr>\n",
       "      <th>1</th>\n",
       "      <td>2017-01-01</td>\n",
       "      <td>5</td>\n",
       "      <td>10079416</td>\n",
       "      <td>1740-01-01</td>\n",
       "      <td>False</td>\n",
       "      <td>NaN</td>\n",
       "      <td>NaN</td>\n",
       "      <td>NaN</td>\n",
       "      <td>NaN</td>\n",
       "      <td>-1.0</td>\n",
       "      <td>...</td>\n",
       "      <td>NaN</td>\n",
       "      <td>0</td>\n",
       "      <td>0</td>\n",
       "      <td>False</td>\n",
       "      <td>0</td>\n",
       "      <td>NaT</td>\n",
       "      <td>NaT</td>\n",
       "      <td>NaN</td>\n",
       "      <td>NaN</td>\n",
       "      <td>2018-01-01</td>\n",
       "    </tr>\n",
       "    <tr>\n",
       "      <th>2</th>\n",
       "      <td>2017-01-01</td>\n",
       "      <td>6</td>\n",
       "      <td>10079424</td>\n",
       "      <td>1874-11-20</td>\n",
       "      <td>False</td>\n",
       "      <td>NaN</td>\n",
       "      <td>F</td>\n",
       "      <td>2013-01-29</td>\n",
       "      <td>NaN</td>\n",
       "      <td>-1.0</td>\n",
       "      <td>...</td>\n",
       "      <td>NaN</td>\n",
       "      <td>0</td>\n",
       "      <td>0</td>\n",
       "      <td>False</td>\n",
       "      <td>0</td>\n",
       "      <td>2001-06-15</td>\n",
       "      <td>NaT</td>\n",
       "      <td>15.548574</td>\n",
       "      <td>NaN</td>\n",
       "      <td>2018-01-01</td>\n",
       "    </tr>\n",
       "    <tr>\n",
       "      <th>3</th>\n",
       "      <td>2017-01-01</td>\n",
       "      <td>9</td>\n",
       "      <td>10079432</td>\n",
       "      <td>1897-05-01</td>\n",
       "      <td>False</td>\n",
       "      <td>NaN</td>\n",
       "      <td>NaN</td>\n",
       "      <td>NaN</td>\n",
       "      <td>NaN</td>\n",
       "      <td>-1.0</td>\n",
       "      <td>...</td>\n",
       "      <td>NaN</td>\n",
       "      <td>0</td>\n",
       "      <td>0</td>\n",
       "      <td>False</td>\n",
       "      <td>0</td>\n",
       "      <td>1997-03-20</td>\n",
       "      <td>NaT</td>\n",
       "      <td>19.786854</td>\n",
       "      <td>NaN</td>\n",
       "      <td>2018-01-01</td>\n",
       "    </tr>\n",
       "    <tr>\n",
       "      <th>4</th>\n",
       "      <td>2017-01-01</td>\n",
       "      <td>12</td>\n",
       "      <td>35</td>\n",
       "      <td>1924-08-01</td>\n",
       "      <td>False</td>\n",
       "      <td>NaN</td>\n",
       "      <td>NaN</td>\n",
       "      <td>NaN</td>\n",
       "      <td>NaN</td>\n",
       "      <td>-1.0</td>\n",
       "      <td>...</td>\n",
       "      <td>NaN</td>\n",
       "      <td>0</td>\n",
       "      <td>0</td>\n",
       "      <td>False</td>\n",
       "      <td>0</td>\n",
       "      <td>NaT</td>\n",
       "      <td>NaT</td>\n",
       "      <td>NaN</td>\n",
       "      <td>NaN</td>\n",
       "      <td>2018-01-01</td>\n",
       "    </tr>\n",
       "  </tbody>\n",
       "</table>\n",
       "<p>5 rows × 45 columns</p>\n",
       "</div>"
      ],
      "text/plain": [
       "  date_month  id_company  id_branch date_established  is_discontinued  \\\n",
       "0 2017-01-01           3   10079408       1921-03-17            False   \n",
       "1 2017-01-01           5   10079416       1740-01-01            False   \n",
       "2 2017-01-01           6   10079424       1874-11-20            False   \n",
       "3 2017-01-01           9   10079432       1897-05-01            False   \n",
       "4 2017-01-01          12         35       1924-08-01            False   \n",
       "\n",
       "   code_discontinuation code_financial_calamity  \\\n",
       "0                   NaN                     NaN   \n",
       "1                   NaN                     NaN   \n",
       "2                   NaN                       F   \n",
       "3                   NaN                     NaN   \n",
       "4                   NaN                     NaN   \n",
       "\n",
       "  date_financial_calamity_started date_financial_calamity_stopped  \\\n",
       "0                             NaN                             NaN   \n",
       "1                             NaN                             NaN   \n",
       "2                      2013-01-29                             NaN   \n",
       "3                             NaN                             NaN   \n",
       "4                             NaN                             NaN   \n",
       "\n",
       "   financial_calamity_outcome     ...       from_date_start qty_started_names  \\\n",
       "0                        -1.0     ...                   NaN                 0   \n",
       "1                        -1.0     ...                   NaN                 0   \n",
       "2                        -1.0     ...                   NaN                 0   \n",
       "3                        -1.0     ...                   NaN                 0   \n",
       "4                        -1.0     ...                   NaN                 0   \n",
       "\n",
       "  qty_stopped_names  has_name_change  total_changeof_board_members_  \\\n",
       "0                 0            False                              0   \n",
       "1                 0            False                              0   \n",
       "2                 0            False                              0   \n",
       "3                 0            False                              0   \n",
       "4                 0            False                              0   \n",
       "\n",
       "  date_relocation_last date_relocation_penultimate years_current_location  \\\n",
       "0           2015-06-11                  2014-10-02               1.560607   \n",
       "1                  NaT                         NaT                    NaN   \n",
       "2           2001-06-15                         NaT              15.548574   \n",
       "3           1997-03-20                         NaT              19.786854   \n",
       "4                  NaT                         NaT                    NaN   \n",
       "\n",
       "  years_previous_location date_dataset  \n",
       "0                 2.25056   2018-01-01  \n",
       "1                     NaN   2018-01-01  \n",
       "2                     NaN   2018-01-01  \n",
       "3                     NaN   2018-01-01  \n",
       "4                     NaN   2018-01-01  \n",
       "\n",
       "[5 rows x 45 columns]"
      ]
     },
     "execution_count": 8,
     "metadata": {},
     "output_type": "execute_result"
    }
   ],
   "source": [
    "df_features.head()"
   ]
  },
  {
   "cell_type": "markdown",
   "metadata": {},
   "source": [
    "Number of company, branch, month combinations"
   ]
  },
  {
   "cell_type": "code",
   "execution_count": 13,
   "metadata": {
    "collapsed": false
   },
   "outputs": [
    {
     "data": {
      "text/plain": [
       "52989"
      ]
     },
     "execution_count": 13,
     "metadata": {},
     "output_type": "execute_result"
    }
   ],
   "source": [
    "df_features.shape[0]"
   ]
  },
  {
   "cell_type": "markdown",
   "metadata": {},
   "source": [
    "## Target"
   ]
  },
  {
   "cell_type": "code",
   "execution_count": 9,
   "metadata": {
    "collapsed": false
   },
   "outputs": [
    {
     "name": "stdout",
     "output_type": "stream",
     "text": [
      "Read 01_input/2018/modelling_2018-01-01_2018-01-31.CSV with 5000 rows\n",
      "After removing sole proprietors there are 4416 rows are left\n",
      "The number of rows so far by adding  01_input/2018/modelling_2018-01-01_2018-01-31.CSV : 4416\n",
      "Read 01_input/2018/modelling_2018-02-01_2018-02-28.CSV with 5000 rows\n",
      "After removing sole proprietors there are 4416 rows are left\n",
      "The number of rows so far by adding  01_input/2018/modelling_2018-02-01_2018-02-28.CSV : 8832\n",
      "Read 01_input/2018/modelling_2018-03-01_2018-03-31.CSV with 5000 rows\n",
      "After removing sole proprietors there are 4418 rows are left\n",
      "The number of rows so far by adding  01_input/2018/modelling_2018-03-01_2018-03-31.CSV : 13250\n",
      "Read 01_input/2018/modelling_2018-04-01_2018-04-30.CSV with 5000 rows\n",
      "After removing sole proprietors there are 4416 rows are left\n",
      "The number of rows so far by adding  01_input/2018/modelling_2018-04-01_2018-04-30.CSV : 17666\n",
      "Read 01_input/2018/modelling_2018-05-01_2018-05-31.CSV with 5000 rows\n",
      "After removing sole proprietors there are 4416 rows are left\n",
      "The number of rows so far by adding  01_input/2018/modelling_2018-05-01_2018-05-31.CSV : 22082\n",
      "Read 01_input/2018/modelling_2018-06-01_2018-06-30.CSV with 5000 rows\n",
      "After removing sole proprietors there are 4416 rows are left\n",
      "The number of rows so far by adding  01_input/2018/modelling_2018-06-01_2018-06-30.CSV : 26498\n",
      "Read 01_input/2018/modelling_2018-07-01_2018-07-31.CSV with 5000 rows\n",
      "After removing sole proprietors there are 4413 rows are left\n",
      "The number of rows so far by adding  01_input/2018/modelling_2018-07-01_2018-07-31.CSV : 30911\n",
      "Read 01_input/2018/modelling_2018-08-01_2018-08-31.CSV with 5000 rows\n",
      "After removing sole proprietors there are 4412 rows are left\n",
      "The number of rows so far by adding  01_input/2018/modelling_2018-08-01_2018-08-31.CSV : 35323\n",
      "Read 01_input/2018/modelling_2018-09-01_2018-09-30.CSV with 5000 rows\n",
      "After removing sole proprietors there are 4410 rows are left\n",
      "The number of rows so far by adding  01_input/2018/modelling_2018-09-01_2018-09-30.CSV : 39733\n",
      "Read 01_input/2018/modelling_2018-10-01_2018-10-31.CSV with 5000 rows\n",
      "After removing sole proprietors there are 4409 rows are left\n",
      "The number of rows so far by adding  01_input/2018/modelling_2018-10-01_2018-10-31.CSV : 44142\n"
     ]
    }
   ],
   "source": [
    "df_target = clean_merge.get_targets(date_dataset, columns_targets)"
   ]
  },
  {
   "cell_type": "markdown",
   "metadata": {},
   "source": [
    "Example of the data:"
   ]
  },
  {
   "cell_type": "code",
   "execution_count": 10,
   "metadata": {
    "collapsed": false
   },
   "outputs": [
    {
     "data": {
      "text/html": [
       "<div>\n",
       "<style scoped>\n",
       "    .dataframe tbody tr th:only-of-type {\n",
       "        vertical-align: middle;\n",
       "    }\n",
       "\n",
       "    .dataframe tbody tr th {\n",
       "        vertical-align: top;\n",
       "    }\n",
       "\n",
       "    .dataframe thead th {\n",
       "        text-align: right;\n",
       "    }\n",
       "</style>\n",
       "<table border=\"1\" class=\"dataframe\">\n",
       "  <thead>\n",
       "    <tr style=\"text-align: right;\">\n",
       "      <th></th>\n",
       "      <th>date_dataset</th>\n",
       "      <th>id_company</th>\n",
       "      <th>id_branch</th>\n",
       "      <th>date_month_last</th>\n",
       "      <th>has_relocated</th>\n",
       "    </tr>\n",
       "  </thead>\n",
       "  <tbody>\n",
       "    <tr>\n",
       "      <th>0</th>\n",
       "      <td>2018-01-01</td>\n",
       "      <td>3</td>\n",
       "      <td>10079408</td>\n",
       "      <td>2018-10-01</td>\n",
       "      <td>False</td>\n",
       "    </tr>\n",
       "    <tr>\n",
       "      <th>1</th>\n",
       "      <td>2018-01-01</td>\n",
       "      <td>5</td>\n",
       "      <td>10079416</td>\n",
       "      <td>2018-10-01</td>\n",
       "      <td>False</td>\n",
       "    </tr>\n",
       "    <tr>\n",
       "      <th>2</th>\n",
       "      <td>2018-01-01</td>\n",
       "      <td>6</td>\n",
       "      <td>10079424</td>\n",
       "      <td>2018-10-01</td>\n",
       "      <td>False</td>\n",
       "    </tr>\n",
       "    <tr>\n",
       "      <th>3</th>\n",
       "      <td>2018-01-01</td>\n",
       "      <td>9</td>\n",
       "      <td>10079432</td>\n",
       "      <td>2018-10-01</td>\n",
       "      <td>False</td>\n",
       "    </tr>\n",
       "    <tr>\n",
       "      <th>4</th>\n",
       "      <td>2018-01-01</td>\n",
       "      <td>12</td>\n",
       "      <td>35</td>\n",
       "      <td>2018-10-01</td>\n",
       "      <td>False</td>\n",
       "    </tr>\n",
       "  </tbody>\n",
       "</table>\n",
       "</div>"
      ],
      "text/plain": [
       "  date_dataset  id_company  id_branch date_month_last  has_relocated\n",
       "0   2018-01-01           3   10079408      2018-10-01          False\n",
       "1   2018-01-01           5   10079416      2018-10-01          False\n",
       "2   2018-01-01           6   10079424      2018-10-01          False\n",
       "3   2018-01-01           9   10079432      2018-10-01          False\n",
       "4   2018-01-01          12         35      2018-10-01          False"
      ]
     },
     "execution_count": 10,
     "metadata": {},
     "output_type": "execute_result"
    }
   ],
   "source": [
    "df_target.head()"
   ]
  },
  {
   "cell_type": "markdown",
   "metadata": {},
   "source": [
    "The number of companies with target:"
   ]
  },
  {
   "cell_type": "code",
   "execution_count": 12,
   "metadata": {
    "collapsed": false
   },
   "outputs": [
    {
     "data": {
      "text/plain": [
       "4481"
      ]
     },
     "execution_count": 12,
     "metadata": {},
     "output_type": "execute_result"
    }
   ],
   "source": [
    "df_target.shape[0]"
   ]
  },
  {
   "cell_type": "markdown",
   "metadata": {},
   "source": [
    "## Combining features and target"
   ]
  },
  {
   "cell_type": "code",
   "execution_count": 14,
   "metadata": {
    "collapsed": true
   },
   "outputs": [],
   "source": [
    "df_monthly = df_features.merge(df_target,\n",
    "                               on=['id_company', 'id_branch'],\n",
    "                               how='left')"
   ]
  },
  {
   "cell_type": "markdown",
   "metadata": {},
   "source": [
    "Example of the data:"
   ]
  },
  {
   "cell_type": "code",
   "execution_count": 15,
   "metadata": {
    "collapsed": false
   },
   "outputs": [
    {
     "data": {
      "text/html": [
       "<div>\n",
       "<style scoped>\n",
       "    .dataframe tbody tr th:only-of-type {\n",
       "        vertical-align: middle;\n",
       "    }\n",
       "\n",
       "    .dataframe tbody tr th {\n",
       "        vertical-align: top;\n",
       "    }\n",
       "\n",
       "    .dataframe thead th {\n",
       "        text-align: right;\n",
       "    }\n",
       "</style>\n",
       "<table border=\"1\" class=\"dataframe\">\n",
       "  <thead>\n",
       "    <tr style=\"text-align: right;\">\n",
       "      <th></th>\n",
       "      <th>date_month</th>\n",
       "      <th>id_company</th>\n",
       "      <th>id_branch</th>\n",
       "      <th>date_established</th>\n",
       "      <th>is_discontinued</th>\n",
       "      <th>code_discontinuation</th>\n",
       "      <th>code_financial_calamity</th>\n",
       "      <th>date_financial_calamity_started</th>\n",
       "      <th>date_financial_calamity_stopped</th>\n",
       "      <th>financial_calamity_outcome</th>\n",
       "      <th>...</th>\n",
       "      <th>has_name_change</th>\n",
       "      <th>total_changeof_board_members_</th>\n",
       "      <th>date_relocation_last</th>\n",
       "      <th>date_relocation_penultimate</th>\n",
       "      <th>years_current_location</th>\n",
       "      <th>years_previous_location</th>\n",
       "      <th>date_dataset_x</th>\n",
       "      <th>date_dataset_y</th>\n",
       "      <th>date_month_last</th>\n",
       "      <th>has_relocated</th>\n",
       "    </tr>\n",
       "  </thead>\n",
       "  <tbody>\n",
       "    <tr>\n",
       "      <th>0</th>\n",
       "      <td>2017-01-01</td>\n",
       "      <td>3</td>\n",
       "      <td>10079408</td>\n",
       "      <td>1921-03-17</td>\n",
       "      <td>False</td>\n",
       "      <td>NaN</td>\n",
       "      <td>NaN</td>\n",
       "      <td>NaN</td>\n",
       "      <td>NaN</td>\n",
       "      <td>-1.0</td>\n",
       "      <td>...</td>\n",
       "      <td>False</td>\n",
       "      <td>0</td>\n",
       "      <td>2015-06-11</td>\n",
       "      <td>2014-10-02</td>\n",
       "      <td>1.560607</td>\n",
       "      <td>2.25056</td>\n",
       "      <td>2018-01-01</td>\n",
       "      <td>2018-01-01</td>\n",
       "      <td>2018-10-01</td>\n",
       "      <td>False</td>\n",
       "    </tr>\n",
       "    <tr>\n",
       "      <th>1</th>\n",
       "      <td>2017-01-01</td>\n",
       "      <td>5</td>\n",
       "      <td>10079416</td>\n",
       "      <td>1740-01-01</td>\n",
       "      <td>False</td>\n",
       "      <td>NaN</td>\n",
       "      <td>NaN</td>\n",
       "      <td>NaN</td>\n",
       "      <td>NaN</td>\n",
       "      <td>-1.0</td>\n",
       "      <td>...</td>\n",
       "      <td>False</td>\n",
       "      <td>0</td>\n",
       "      <td>NaT</td>\n",
       "      <td>NaT</td>\n",
       "      <td>NaN</td>\n",
       "      <td>NaN</td>\n",
       "      <td>2018-01-01</td>\n",
       "      <td>2018-01-01</td>\n",
       "      <td>2018-10-01</td>\n",
       "      <td>False</td>\n",
       "    </tr>\n",
       "    <tr>\n",
       "      <th>2</th>\n",
       "      <td>2017-01-01</td>\n",
       "      <td>6</td>\n",
       "      <td>10079424</td>\n",
       "      <td>1874-11-20</td>\n",
       "      <td>False</td>\n",
       "      <td>NaN</td>\n",
       "      <td>F</td>\n",
       "      <td>2013-01-29</td>\n",
       "      <td>NaN</td>\n",
       "      <td>-1.0</td>\n",
       "      <td>...</td>\n",
       "      <td>False</td>\n",
       "      <td>0</td>\n",
       "      <td>2001-06-15</td>\n",
       "      <td>NaT</td>\n",
       "      <td>15.548574</td>\n",
       "      <td>NaN</td>\n",
       "      <td>2018-01-01</td>\n",
       "      <td>2018-01-01</td>\n",
       "      <td>2018-10-01</td>\n",
       "      <td>False</td>\n",
       "    </tr>\n",
       "    <tr>\n",
       "      <th>3</th>\n",
       "      <td>2017-01-01</td>\n",
       "      <td>9</td>\n",
       "      <td>10079432</td>\n",
       "      <td>1897-05-01</td>\n",
       "      <td>False</td>\n",
       "      <td>NaN</td>\n",
       "      <td>NaN</td>\n",
       "      <td>NaN</td>\n",
       "      <td>NaN</td>\n",
       "      <td>-1.0</td>\n",
       "      <td>...</td>\n",
       "      <td>False</td>\n",
       "      <td>0</td>\n",
       "      <td>1997-03-20</td>\n",
       "      <td>NaT</td>\n",
       "      <td>19.786854</td>\n",
       "      <td>NaN</td>\n",
       "      <td>2018-01-01</td>\n",
       "      <td>2018-01-01</td>\n",
       "      <td>2018-10-01</td>\n",
       "      <td>False</td>\n",
       "    </tr>\n",
       "    <tr>\n",
       "      <th>4</th>\n",
       "      <td>2017-01-01</td>\n",
       "      <td>12</td>\n",
       "      <td>35</td>\n",
       "      <td>1924-08-01</td>\n",
       "      <td>False</td>\n",
       "      <td>NaN</td>\n",
       "      <td>NaN</td>\n",
       "      <td>NaN</td>\n",
       "      <td>NaN</td>\n",
       "      <td>-1.0</td>\n",
       "      <td>...</td>\n",
       "      <td>False</td>\n",
       "      <td>0</td>\n",
       "      <td>NaT</td>\n",
       "      <td>NaT</td>\n",
       "      <td>NaN</td>\n",
       "      <td>NaN</td>\n",
       "      <td>2018-01-01</td>\n",
       "      <td>2018-01-01</td>\n",
       "      <td>2018-10-01</td>\n",
       "      <td>False</td>\n",
       "    </tr>\n",
       "  </tbody>\n",
       "</table>\n",
       "<p>5 rows × 48 columns</p>\n",
       "</div>"
      ],
      "text/plain": [
       "  date_month  id_company  id_branch date_established  is_discontinued  \\\n",
       "0 2017-01-01           3   10079408       1921-03-17            False   \n",
       "1 2017-01-01           5   10079416       1740-01-01            False   \n",
       "2 2017-01-01           6   10079424       1874-11-20            False   \n",
       "3 2017-01-01           9   10079432       1897-05-01            False   \n",
       "4 2017-01-01          12         35       1924-08-01            False   \n",
       "\n",
       "   code_discontinuation code_financial_calamity  \\\n",
       "0                   NaN                     NaN   \n",
       "1                   NaN                     NaN   \n",
       "2                   NaN                       F   \n",
       "3                   NaN                     NaN   \n",
       "4                   NaN                     NaN   \n",
       "\n",
       "  date_financial_calamity_started date_financial_calamity_stopped  \\\n",
       "0                             NaN                             NaN   \n",
       "1                             NaN                             NaN   \n",
       "2                      2013-01-29                             NaN   \n",
       "3                             NaN                             NaN   \n",
       "4                             NaN                             NaN   \n",
       "\n",
       "   financial_calamity_outcome      ...       has_name_change  \\\n",
       "0                        -1.0      ...                 False   \n",
       "1                        -1.0      ...                 False   \n",
       "2                        -1.0      ...                 False   \n",
       "3                        -1.0      ...                 False   \n",
       "4                        -1.0      ...                 False   \n",
       "\n",
       "  total_changeof_board_members_ date_relocation_last  \\\n",
       "0                             0           2015-06-11   \n",
       "1                             0                  NaT   \n",
       "2                             0           2001-06-15   \n",
       "3                             0           1997-03-20   \n",
       "4                             0                  NaT   \n",
       "\n",
       "   date_relocation_penultimate  years_current_location  \\\n",
       "0                   2014-10-02                1.560607   \n",
       "1                          NaT                     NaN   \n",
       "2                          NaT               15.548574   \n",
       "3                          NaT               19.786854   \n",
       "4                          NaT                     NaN   \n",
       "\n",
       "  years_previous_location date_dataset_x date_dataset_y date_month_last  \\\n",
       "0                 2.25056     2018-01-01     2018-01-01      2018-10-01   \n",
       "1                     NaN     2018-01-01     2018-01-01      2018-10-01   \n",
       "2                     NaN     2018-01-01     2018-01-01      2018-10-01   \n",
       "3                     NaN     2018-01-01     2018-01-01      2018-10-01   \n",
       "4                     NaN     2018-01-01     2018-01-01      2018-10-01   \n",
       "\n",
       "  has_relocated  \n",
       "0         False  \n",
       "1         False  \n",
       "2         False  \n",
       "3         False  \n",
       "4         False  \n",
       "\n",
       "[5 rows x 48 columns]"
      ]
     },
     "execution_count": 15,
     "metadata": {},
     "output_type": "execute_result"
    }
   ],
   "source": [
    "df_monthly.head()"
   ]
  },
  {
   "cell_type": "markdown",
   "metadata": {},
   "source": [
    "Number of monthly company branch data records:"
   ]
  },
  {
   "cell_type": "code",
   "execution_count": 17,
   "metadata": {
    "collapsed": false
   },
   "outputs": [
    {
     "data": {
      "text/plain": [
       "52989"
      ]
     },
     "execution_count": 17,
     "metadata": {},
     "output_type": "execute_result"
    }
   ],
   "source": [
    "df_monthly.shape[0]"
   ]
  },
  {
   "cell_type": "code",
   "execution_count": null,
   "metadata": {
    "collapsed": true
   },
   "outputs": [],
   "source": [
    "df_monthly['has_relocated']"
   ]
  },
  {
   "cell_type": "markdown",
   "metadata": {},
   "source": [
    "## -----------"
   ]
  },
  {
   "cell_type": "code",
   "execution_count": null,
   "metadata": {
    "collapsed": false
   },
   "outputs": [],
   "source": [
    "date_month = date_dataset\n",
    "\n",
    "df_months_combined = pd.DataFrame()  # The data frame which will contain all independent variables\n",
    "    \n",
    "# Get all months in range\n",
    "df_date_months = pd.DataFrame(pd.date_range(date_month, periods=12, freq=\"M\").tolist(),\n",
    "                              columns=['date_month'])\n",
    "df_date_months['date_month'] = df_date_months['date_month'].values.astype('datetime64[M]') # First day of month\n",
    "\n",
    "# Get the file names of all required month files\n",
    "#month_files = get_month_filenames(df_date_months, bucket, dir_data)"
   ]
  },
  {
   "cell_type": "code",
   "execution_count": null,
   "metadata": {
    "collapsed": true
   },
   "outputs": [],
   "source": [
    "month_files = [] # List of month files\n",
    "\n",
    "df_date_months['year'] = df_date_months.date_month.dt.year\n",
    "list_years = df_date_months['year'].unique()\n",
    "# If there are multiple years, iterate through years  \n",
    "for year in list_years:\n",
    "    # Get the year's data file names\n",
    "    dir_data_year = dir_data + '/' + str(year)\n",
    "    list_blob = list(bucket.list_blobs(prefix=dir_data_year))\n",
    "    # finding out which month files should be processed by looking which contain the first month date (YYYY-mm-01)\n",
    "    df_year_months = df_date_months[df_date_months['year'] == year]['date_month']\n",
    "    for blob in list_blob:\n",
    "        for month in df_year_months:\n",
    "            if (month.strftime(\"%Y-%m-%d\") in blob.name) & ('CSV' in blob.name):\n",
    "                month_files.append(blob.name)"
   ]
  },
  {
   "cell_type": "code",
   "execution_count": null,
   "metadata": {
    "collapsed": false
   },
   "outputs": [],
   "source": [
    "month_files"
   ]
  },
  {
   "cell_type": "code",
   "execution_count": null,
   "metadata": {
    "collapsed": false
   },
   "outputs": [],
   "source": [
    "# Cleaning, transforming and combining month files                \n",
    "for month_file in month_files:\n",
    "    with fs.open('graydon-data/' + month_file) as f:\n",
    "        df_month = pd.read_csv(f, sep=';', usecols= columns_features, index_col=False)   \n",
    "        df_month = df_month[(df_month['is_sole_proprietor'] == 0)] # & (one_month_df['is_discontinued'] == 0) \n",
    "        df_month.columns = (df_month.columns.str.strip().str.lower().str.replace(' ', '_').str.replace('(', '').str.replace(')', ''))\n",
    "        df_months_combined = df_months_combined.append(df_month)\n",
    "        print('The number of rows so far by adding ', month_file, \":\", df_months_combined.shape[0])\n",
    "\n",
    "df_months_combined['date_dataset'] = date_month\n",
    "\n",
    "# Aggregating data to year\n",
    "df_months_combined = df_months_combined.groupby(['date_dataset', \n",
    "                                                  'id_company', \n",
    "                                                  'id_branch']).agg({'has_relocated': 'max', \n",
    "                                                                     'date_month': 'max'})\n",
    "df_months_combined = df_months_combined.rename(index=str, columns={\"date_month\": \"date_month_last\"})\n",
    "df_months_combined = df_months_combined.reset_index()\n",
    "df_months_combined['date_dataset'] = pd.to_datetime(df_months_combined['date_dataset'])\n",
    "df_months_combined['id_company'] = df_months_combined['id_company'].astype(int)\n",
    "df_months_combined['id_branch'] = df_months_combined['id_branch'].astype(int)\n",
    "\n",
    "return(df_months_combined)"
   ]
  }
 ],
 "metadata": {
  "kernelspec": {
   "display_name": "graydon-moving",
   "language": "python",
   "name": "graydon-moving"
  },
  "language_info": {
   "codemirror_mode": {
    "name": "ipython",
    "version": 3
   },
   "file_extension": ".py",
   "mimetype": "text/x-python",
   "name": "python",
   "nbconvert_exporter": "python",
   "pygments_lexer": "ipython3",
   "version": "3.5.5"
  }
 },
 "nbformat": 4,
 "nbformat_minor": 0
}
