{
 "cells": [
  {
   "cell_type": "markdown",
   "metadata": {},
   "source": [
    "# Compute Baseline for Yearly Aggregated Data"
   ]
  },
  {
   "cell_type": "markdown",
   "metadata": {},
   "source": [
    "<a id='top'></a>\n",
    "\n",
    "<a href=#readdata>Read in Data</a>\n",
    "\n",
    "<a href=#overall_probability>Overall Probability of moving in Dataset</a>\n",
    "\n",
    "<a href=#prob_company_moves>Probability that Company Moves</a>\n",
    "\n",
    "<a href=#prob_branch_moves>Probability that Branch Moves</a>\n",
    "\n",
    "<a href=#plot_probabilities>Plot Probabilities</a>\n",
    "\n",
    "<a href=#bottom>End of File</a>\n"
   ]
  },
  {
   "cell_type": "code",
   "execution_count": 1,
   "metadata": {
    "collapsed": true
   },
   "outputs": [],
   "source": [
    "\n",
    "import pandas as pd\n",
    "import gcsfs\n",
    "from google.cloud import storage\n",
    "from pandas import DataFrame\n",
    "from IPython.display import HTML\n",
    "from google.cloud.storage import Blob\n",
    "import datalab.storage as gcs_datalab\n",
    "import numpy as np\n",
    "from sklearn.linear_model import LogisticRegression\n",
    "from sklearn import metrics\n",
    "from sklearn.model_selection import train_test_split\n",
    "import matplotlib.pyplot as plt \n",
    "import pandas as pd\n",
    "import numpy as np\n",
    "from sklearn import preprocessing\n",
    "import matplotlib.pyplot as plt \n",
    "import seaborn as sns\n"
   ]
  },
  {
   "cell_type": "markdown",
   "metadata": {},
   "source": [
    "<a id='readdata'></a>\n",
    "# Read in data\n",
    "\n",
    "<a href=#top>Top</a>"
   ]
  },
  {
   "cell_type": "code",
   "execution_count": 4,
   "metadata": {
    "collapsed": true
   },
   "outputs": [],
   "source": [
    "# Setting up constants. All required\n",
    "project = 'graydon-moving-indicator'\n",
    "bucket_name = 'graydon-data'\n",
    "\n",
    "# Initializing bucket\n",
    "fs = gcsfs.GCSFileSystem(project='graydon-moving-indicator')\n",
    "gcs = storage.Client()\n",
    "bucket = gcs.get_bucket(bucket_name)\n",
    "\n",
    "\n",
    "# Setting up dictionary of column types\n",
    "dtype={ 'id_company'  :np.float64,\n",
    "        'id_branch'    :np.int64, \n",
    "        'code_sbi_2'         : np.float64, \n",
    "        'code_sbi_1'          :object, \n",
    "        'has_relocated':bool,\n",
    "        'has_relocated_next_year ' : bool,\n",
    "        'qty_address_mutations_total' :np.float64,\n",
    "        #'has_name_change'  :bool,\n",
    "        'ratio_operating_result_consolidated_operating_result': np.float64,\n",
    "        'ratio_revenue_consolidated_revenue': np.float64,\n",
    "        'qty_green_flags'   :np.float64,\n",
    "        'qty_orange_flags'   :np.float64,\n",
    "        'qty_red_flags'   :np.float64,\n",
    "        'A'   :np.float64,\n",
    "        'AA'   :np.float64,\n",
    "        'AAA'   :np.float64,\n",
    "        'B'   :np.float64,\n",
    "        'BB'   :np.float64,\n",
    "        'BBB'   :np.float64,\n",
    "        'C'   :np.float64,\n",
    "        'CC'   :np.float64,\n",
    "        'CCC'   :np.float64,\n",
    "        'D'   :np.float64,\n",
    "        'NR'   :np.float64,\n",
    "        'company_age'   :np.float64,\n",
    "        'years_since_last_amt_consolidated_operating_result'   :np.float64,\n",
    "        'years_since_last_amt_consolidated_revenue'   :np.float64,\n",
    "        'years_since_last_amt_operating_result'   :np.float64,\n",
    "        'years_since_last_qty_employees'   :np.float64,\n",
    "        'years_since_last_amt_revenue'   :np.float64,\n",
    "        'delta_qty_employees'   :np.float64,\n",
    "        'delta_qty_issued_credit_reports'   :np.float64,\n",
    "        'delta_score_payment_assessment'   :np.float64,\n",
    "        'delta_score_payment_assessment'   :np.float64,\n",
    "        'code_legal_form_has_changed ' : bool,\n",
    "        'is_discontinued_any ' : bool,\n",
    "        'has_financial_calamity ' : bool,\n",
    "        'mean_amt_consolidated_operating_result'   :np.float64,\n",
    "        'mean_amt_consolidated_revenue'   :np.float64,\n",
    "        'mean_amt_operating_result'   :np.float64,\n",
    "        'mean_amt_revenue'   :np.float64,\n",
    "        'mean_qty_employees'   :np.float64,\n",
    "        'mean_qty_issued_credit_reports'   :np.float64,\n",
    "        'mean_score_payment_assessment'   :np.float64,\n",
    "        'mean_score_pd'   :np.float64,\n",
    "        'qty_address_mutations_year'   :np.float64,\n",
    "        'qty_started_names_year'   :np.float64,\n",
    "        'qty_stopped_names_year'   :np.float64,\n",
    "        'qty_board_changes_year'   :np.float64,\n",
    "        'variance_qty_issued_credit_reports'   :np.float64,\n",
    "        'variance_score_payment_assessment'   :np.float64,\n",
    "        'variance_score_pd'   :np.float64\n",
    "      }\n",
    "\n",
    "\n",
    "# Setting up dictionary of column types\n",
    "parse_dates= ['date_month', 'date_relocation_last', 'date_relocation_penultimate']\n",
    "\n",
    "def read_one_year_from_bucket_merged_csv(year, dir_prefix = ''):\n",
    "    \"\"\" Reads a whole year of data from the already merged files \"\"\"\n",
    "    full_year_df = pd.DataFrame()\n",
    "    print('Starting with year: ', year)\n",
    "    print(dir_prefix)\n",
    "    blob_list = list(bucket.list_blobs(prefix=dir_prefix))    \n",
    "    for blob in blob_list:  \n",
    "        print(\"blob\", blob.name)\n",
    "        if year in blob.name:\n",
    "            print('Processing file: ', blob.name)\n",
    "            with fs.open('graydon-data/' + blob.name) as f:\n",
    "                full_year_df = pd.read_csv(f, sep=',', index_col=0, dtype=dtype, parse_dates=parse_dates)   \n",
    "        print('The number of rows so far is: ', full_year_df.shape[0])\n",
    "    return full_year_df\n"
   ]
  },
  {
   "cell_type": "code",
   "execution_count": 5,
   "metadata": {
    "collapsed": false
   },
   "outputs": [
    {
     "name": "stdout",
     "output_type": "stream",
     "text": [
      "Starting with year:  2017\n",
      "including_scores/merged_per_year/aggregated\n",
      "blob including_scores/merged_per_year/aggregated/\n",
      "The number of rows so far is:  0\n",
      "blob including_scores/merged_per_year/aggregated/2017_merged_cleaned.csv\n",
      "Processing file:  including_scores/merged_per_year/aggregated/2017_merged_cleaned.csv\n"
     ]
    },
    {
     "name": "stderr",
     "output_type": "stream",
     "text": [
      "/home/mrodriguezlara/graydon/graydon-moving/lib/python3.5/site-packages/numpy/lib/arraysetops.py:522: FutureWarning: elementwise comparison failed; returning scalar instead, but in the future will perform elementwise comparison\n",
      "  mask |= (ar1 == a)\n"
     ]
    },
    {
     "name": "stdout",
     "output_type": "stream",
     "text": [
      "The number of rows so far is:  1965800\n"
     ]
    }
   ],
   "source": [
    "one_year_df = read_one_year_from_bucket_merged_csv(\n",
    "    dir_prefix= 'including_scores/merged_per_year/aggregated'\n",
    "                                                   , year = '2017')"
   ]
  },
  {
   "cell_type": "code",
   "execution_count": 6,
   "metadata": {
    "collapsed": false
   },
   "outputs": [],
   "source": [
    "data_df = one_year_df"
   ]
  },
  {
   "cell_type": "code",
   "execution_count": 17,
   "metadata": {
    "collapsed": false
   },
   "outputs": [
    {
     "data": {
      "text/plain": [
       "Index(['id_branch', 'date_month', 'id_company', 'code_sbi_2', 'code_sbi_1',\n",
       "       'qty_address_mutations_total', 'has_relocated', 'has_name_change',\n",
       "       'date_relocation_last', 'date_relocation_penultimate',\n",
       "       'ratio_operating_result_consolidated_operating_result',\n",
       "       'ratio_revenue_consolidated_revenue', 'qty_green_flags',\n",
       "       'qty_orange_flags', 'qty_red_flags', 'A', 'AA', 'AAA', 'B', 'BB', 'BBB',\n",
       "       'C', 'CC', 'CCC', 'D', 'NR', 'company_age',\n",
       "       'years_since_last_amt_consolidated_operating_result',\n",
       "       'years_since_last_amt_consolidated_revenue',\n",
       "       'years_since_last_amt_operating_result',\n",
       "       'years_since_last_qty_employees', 'years_since_last_amt_revenue',\n",
       "       'delta_qty_employees', 'delta_qty_issued_credit_reports',\n",
       "       'delta_score_payment_assessment', 'code_legal_form_has_changed',\n",
       "       'is_discontinued_any', 'has_financial_calamity',\n",
       "       'mean_amt_consolidated_operating_result',\n",
       "       'mean_amt_consolidated_revenue', 'mean_amt_operating_result',\n",
       "       'mean_amt_revenue', 'mean_qty_employees',\n",
       "       'mean_qty_issued_credit_reports', 'mean_score_payment_assessment',\n",
       "       'mean_score_pd', 'qty_address_mutations_year', 'qty_started_names_year',\n",
       "       'qty_stopped_names_year', 'qty_board_changes_year',\n",
       "       'variance_qty_issued_credit_reports',\n",
       "       'variance_score_payment_assessment', 'variance_score_pd',\n",
       "       'has_relocated_next_year'],\n",
       "      dtype='object')"
      ]
     },
     "execution_count": 17,
     "metadata": {},
     "output_type": "execute_result"
    }
   ],
   "source": [
    "data_df.columns"
   ]
  },
  {
   "cell_type": "markdown",
   "metadata": {},
   "source": [
    "<a id='overall_probability'></a>\n",
    "\n",
    "# Overall Probability that branch moves \n",
    "\n",
    "<a href=#top>Top</a>"
   ]
  },
  {
   "cell_type": "code",
   "execution_count": 18,
   "metadata": {
    "collapsed": false
   },
   "outputs": [
    {
     "data": {
      "text/plain": [
       "False    1800347\n",
       "True       91577\n",
       "Name: has_relocated_next_year, dtype: int64"
      ]
     },
     "execution_count": 18,
     "metadata": {},
     "output_type": "execute_result"
    }
   ],
   "source": [
    "data_df['has_relocated_next_year'].value_counts()"
   ]
  },
  {
   "cell_type": "code",
   "execution_count": 19,
   "metadata": {
    "collapsed": false
   },
   "outputs": [
    {
     "data": {
      "text/plain": [
       "False    0.915834\n",
       "True     0.046585\n",
       "Name: has_relocated_next_year, dtype: float64"
      ]
     },
     "execution_count": 19,
     "metadata": {},
     "output_type": "execute_result"
    }
   ],
   "source": [
    "data_df['has_relocated_next_year'].value_counts() / data_df.shape[0]"
   ]
  },
  {
   "cell_type": "code",
   "execution_count": 7,
   "metadata": {
    "collapsed": false
   },
   "outputs": [
    {
     "data": {
      "text/plain": [
       "False    1953683\n",
       "True       12117\n",
       "Name: has_relocated, dtype: int64"
      ]
     },
     "execution_count": 7,
     "metadata": {},
     "output_type": "execute_result"
    }
   ],
   "source": [
    "data_df['has_relocated'].value_counts()"
   ]
  },
  {
   "cell_type": "code",
   "execution_count": 8,
   "metadata": {
    "collapsed": false
   },
   "outputs": [
    {
     "data": {
      "text/plain": [
       "False    0.993836\n",
       "True     0.006164\n",
       "Name: has_relocated, dtype: float64"
      ]
     },
     "execution_count": 8,
     "metadata": {},
     "output_type": "execute_result"
    }
   ],
   "source": [
    "data_df['has_relocated'].value_counts() / data_df.shape[0]"
   ]
  },
  {
   "cell_type": "code",
   "execution_count": 9,
   "metadata": {
    "collapsed": false
   },
   "outputs": [
    {
     "data": {
      "text/plain": [
       "0.006163902736799267"
      ]
     },
     "execution_count": 9,
     "metadata": {},
     "output_type": "execute_result"
    }
   ],
   "source": [
    "prob_moved = data_df[data_df['has_relocated']==True].shape[0] / data_df.shape[0]\n",
    "\n",
    "prob_moved"
   ]
  },
  {
   "cell_type": "code",
   "execution_count": 20,
   "metadata": {
    "collapsed": false
   },
   "outputs": [
    {
     "data": {
      "text/plain": [
       "0.04658510530064096"
      ]
     },
     "execution_count": 20,
     "metadata": {},
     "output_type": "execute_result"
    }
   ],
   "source": [
    "prob_moved = data_df[data_df['has_relocated_next_year']==True].shape[0] / data_df.shape[0]\n",
    "\n",
    "prob_moved"
   ]
  },
  {
   "cell_type": "markdown",
   "metadata": {},
   "source": [
    "\n",
    "<a id='prob_company_moves'></a>\n",
    "# Probability that company moves:\n",
    "\n",
    "<a href=#top>Top</a>\n",
    "\n",
    "\n",
    "Calculate the probability that any company has a branch that moves in the dataset.  Companies that have multiple moves do not affect the probability of move."
   ]
  },
  {
   "cell_type": "code",
   "execution_count": 21,
   "metadata": {
    "collapsed": false
   },
   "outputs": [
    {
     "name": "stdout",
     "output_type": "stream",
     "text": [
      "The total number of companies in the dataset is 1825709\n"
     ]
    }
   ],
   "source": [
    "# Find number of unique companies:\n",
    "num_unique_companies=data_df['id_company'].nunique()\n",
    "print(\"The total number of companies in the dataset is %0.3d\" % num_unique_companies) "
   ]
  },
  {
   "cell_type": "code",
   "execution_count": 22,
   "metadata": {
    "collapsed": false
   },
   "outputs": [
    {
     "name": "stdout",
     "output_type": "stream",
     "text": [
      "The number of companies involved in a move is 91065\n"
     ]
    }
   ],
   "source": [
    "num_companies_moved = data_df[data_df.has_relocated_next_year==True]['id_company'].nunique()\n",
    "print(\"The number of companies involved in a move is %0.3d\" % num_companies_moved) "
   ]
  },
  {
   "cell_type": "code",
   "execution_count": 23,
   "metadata": {
    "collapsed": false
   },
   "outputs": [
    {
     "name": "stdout",
     "output_type": "stream",
     "text": [
      "The probability that a company has a branch that moved is    4.988 %\n"
     ]
    }
   ],
   "source": [
    "prob_company_moved = num_companies_moved/ num_unique_companies\n",
    "print(\"The probability that a company has a branch that moved is %8.3f %%\" % (100*prob_company_moved)) "
   ]
  },
  {
   "cell_type": "markdown",
   "metadata": {},
   "source": [
    "<a id='prob_branch_moves'></a>\n",
    "## Probability that a branch moves:\n",
    "\n",
    "<a href=#top>Top</a>"
   ]
  },
  {
   "cell_type": "code",
   "execution_count": 24,
   "metadata": {
    "collapsed": false
   },
   "outputs": [
    {
     "name": "stdout",
     "output_type": "stream",
     "text": [
      "The total number of branches in the dataset is 1965800\n"
     ]
    }
   ],
   "source": [
    "num_unique_branches=data_df['id_branch'].nunique()\n",
    "print(\"The total number of branches in the dataset is %0.3d\" % num_unique_branches) "
   ]
  },
  {
   "cell_type": "code",
   "execution_count": 25,
   "metadata": {
    "collapsed": false
   },
   "outputs": [
    {
     "name": "stdout",
     "output_type": "stream",
     "text": [
      "The number of branches involved in a move is 91577\n"
     ]
    }
   ],
   "source": [
    "num_branches_moved = data_df[data_df.has_relocated_next_year==True]['id_branch'].nunique()\n",
    "print(\"The number of branches involved in a move is %0.3d\" % num_branches_moved) "
   ]
  },
  {
   "cell_type": "code",
   "execution_count": 26,
   "metadata": {
    "collapsed": false
   },
   "outputs": [
    {
     "name": "stdout",
     "output_type": "stream",
     "text": [
      "The probability that a branch moved is    4.659 %\n"
     ]
    }
   ],
   "source": [
    "prob_branch_moved = num_branches_moved/ num_unique_branches\n",
    "print(\"The probability that a branch moved is %8.3f %%\" % (100*prob_branch_moved)) "
   ]
  },
  {
   "cell_type": "markdown",
   "metadata": {
    "collapsed": true
   },
   "source": [
    "<a id='plot_probabilities'></a>\n",
    "# Plot Probabilities\n",
    "\n",
    "\n",
    "<a href=#top>Top</a>"
   ]
  },
  {
   "cell_type": "code",
   "execution_count": 27,
   "metadata": {
    "collapsed": false
   },
   "outputs": [
    {
     "data": {
      "image/png": "[encoded data removed]",
      "text/plain": [
       "<Figure size 432x288 with 1 Axes>"
      ]
     },
     "metadata": {
      "needs_background": "light"
     },
     "output_type": "display_data"
    }
   ],
   "source": [
    "x_labels = (\"Overall_Probability\", \"Company_Probability\", \"Branch_Probability\")\n",
    "y_pos = np.arange(len(x_labels))\n",
    "all_probabilities = [prob_moved, prob_company_moved, prob_branch_moved]\n",
    "\n",
    "all_probabilities = [i * 100 for i in all_probabilities]\n",
    " \n",
    "plt.bar(y_pos, all_probabilities, align='center', alpha=0.5)\n",
    "plt.xticks(y_pos, x_labels)\n",
    "plt.ylabel('Usage')\n",
    "plt.title('Move Probabilities')\n",
    " \n",
    "plt.show()"
   ]
  },
  {
   "cell_type": "markdown",
   "metadata": {},
   "source": [
    "<a id='bottom'></a>\n",
    "\n",
    "<a href=#top>Top</a>\n",
    "\n",
    "# End"
   ]
  }
 ],
 "metadata": {
  "kernelspec": {
   "display_name": "Python 3",
   "language": "python",
   "name": "python3"
  },
  "language_info": {
   "codemirror_mode": {
    "name": "ipython",
    "version": 3
   },
   "file_extension": ".py",
   "mimetype": "text/x-python",
   "name": "python",
   "nbconvert_exporter": "python",
   "pygments_lexer": "ipython3",
   "version": "3.5.5"
  }
 },
 "nbformat": 4,
 "nbformat_minor": 0
}
