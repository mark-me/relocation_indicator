{
 "cells": [
  {
   "cell_type": "markdown",
   "metadata": {},
   "source": [
    "# Variances in each Column  "
   ]
  },
  {
   "cell_type": "markdown",
   "metadata": {},
   "source": [
    "<a id='top'></a>\n",
    "\n",
    "<a href=#readdata>Read in Data</a>\n",
    "\n",
    "<a href=#variance>Variance</a>\n",
    "\n",
    "<a href=#notes>Notes</a>\n",
    "\n",
    "<a href=#End>End</a>\n"
   ]
  },
  {
   "cell_type": "code",
   "execution_count": 1,
   "metadata": {
    "collapsed": true
   },
   "outputs": [],
   "source": [
    "# Ignore 'dask' warning\n",
    "\n",
    "import pandas as pd\n",
    "import gcsfs\n",
    "from google.cloud import storage\n",
    "from pandas import DataFrame\n",
    "from IPython.display import HTML\n",
    "from google.cloud.storage import Blob\n",
    "import datalab.storage as gcs_datalab\n",
    "import numpy as np\n",
    "from sklearn.linear_model import LogisticRegression\n",
    "from sklearn import metrics\n",
    "from sklearn.model_selection import train_test_split\n",
    "\n",
    "from sklearn import preprocessing\n",
    "import matplotlib.pyplot as plt \n",
    "import seaborn as sns\n",
    "from scipy import stats"
   ]
  },
  {
   "cell_type": "markdown",
   "metadata": {},
   "source": [
    "<a id='readdata'></a>\n",
    "# Read Data from CSV file\n",
    "\n",
    "<a href=#top>Top</a>"
   ]
  },
  {
   "cell_type": "code",
   "execution_count": 2,
   "metadata": {
    "collapsed": false
   },
   "outputs": [],
   "source": [
    "subset_train=pd.read_csv(\"../Data_Merging/subset_2018.csv\")"
   ]
  },
  {
   "cell_type": "code",
   "execution_count": 3,
   "metadata": {
    "collapsed": false
   },
   "outputs": [
    {
     "data": {
      "text/plain": [
       "Index(['Unnamed: 0', 'date_month', 'id_company', 'id_branch',\n",
       "       'is_discontinued', 'financial_calamity_outcome', 'qty_employees',\n",
       "       'year_qty_employees', 'id_company_creditproxy',\n",
       "       'score_payment_assessment', 'amt_revenue', 'year_revenue',\n",
       "       'amt_consolidated_revenue', 'year_consolidated_revenue',\n",
       "       'amt_consolidated_operating_result',\n",
       "       'year_consolidated_operating_result', 'perc_credit_limit_adjustment',\n",
       "       'color_credit_status', 'rat_pd', 'score_pd', 'has_increased_risk',\n",
       "       'is_sole_proprietor', 'code_sbi_2', 'code_sbi_1',\n",
       "       'qty_address_mutations_total', 'qty_address_mutations_month',\n",
       "       'has_relocated', 'has_name_change', 'vice_president'],\n",
       "      dtype='object')"
      ]
     },
     "execution_count": 3,
     "metadata": {},
     "output_type": "execute_result"
    }
   ],
   "source": [
    "subset_train.columns"
   ]
  },
  {
   "cell_type": "markdown",
   "metadata": {},
   "source": [
    "<a id='variance'></a>\n",
    "# Variance of Columns\n",
    "\n",
    "<a href=#top>Top</a>"
   ]
  },
  {
   "cell_type": "code",
   "execution_count": 6,
   "metadata": {
    "collapsed": false
   },
   "outputs": [
    {
     "data": {
      "text/plain": [
       "is_discontinued                 5.420029e-03\n",
       "financial_calamity_outcome      4.022477e-01\n",
       "qty_employees                   1.627549e+07\n",
       "score_payment_assessment        2.099244e+01\n",
       "amt_revenue                     4.553241e+10\n",
       "perc_credit_limit_adjustment    1.771339e+03\n",
       "score_pd                        3.293955e+00\n",
       "has_increased_risk              1.132433e-01\n",
       "code_sbi_2                      4.820947e+02\n",
       "has_relocated                   4.295203e-03\n",
       "dtype: float64"
      ]
     },
     "execution_count": 6,
     "metadata": {},
     "output_type": "execute_result"
    }
   ],
   "source": [
    "subset_data = subset_train.drop(columns=['Unnamed: 0',\n",
    "                                      'id_company',\n",
    "                                      'id_branch',\n",
    "                                      'year_qty_employees',\n",
    "                                      'id_company_creditproxy',\n",
    "                                      'year_revenue',\n",
    "                                      'amt_consolidated_revenue',\n",
    "                                      'year_consolidated_revenue',\n",
    "                                      'amt_consolidated_operating_result',\n",
    "                                      'year_consolidated_operating_result',\n",
    "                                      'is_sole_proprietor',\n",
    "                                      'qty_address_mutations_total',\n",
    "                                      'qty_address_mutations_month',\n",
    "                                      'has_name_change',\n",
    "                                      'vice_president'])\n",
    "col_variances = subset_data.var()\n",
    "\n",
    "col_variances"
   ]
  },
  {
   "cell_type": "markdown",
   "metadata": {},
   "source": [
    "Standard Deviation:"
   ]
  },
  {
   "cell_type": "code",
   "execution_count": 11,
   "metadata": {
    "collapsed": false
   },
   "outputs": [
    {
     "data": {
      "text/plain": [
       "is_discontinued                      0.073621\n",
       "financial_calamity_outcome           0.634230\n",
       "qty_employees                     4034.289352\n",
       "score_payment_assessment             4.581751\n",
       "amt_revenue                     213383.244644\n",
       "perc_credit_limit_adjustment        42.087276\n",
       "score_pd                             1.814926\n",
       "has_increased_risk                   0.336516\n",
       "code_sbi_2                          21.956654\n",
       "has_relocated                        0.065538\n",
       "dtype: float64"
      ]
     },
     "execution_count": 11,
     "metadata": {},
     "output_type": "execute_result"
    }
   ],
   "source": [
    "col_sd = subset_data.std()\n",
    "\n",
    "col_sd"
   ]
  },
  {
   "cell_type": "code",
   "execution_count": 8,
   "metadata": {
    "collapsed": false
   },
   "outputs": [
    {
     "data": {
      "text/plain": [
       "(1348692, 14)"
      ]
     },
     "execution_count": 8,
     "metadata": {},
     "output_type": "execute_result"
    }
   ],
   "source": [
    "subset_data.shape"
   ]
  },
  {
   "cell_type": "markdown",
   "metadata": {},
   "source": [
    "Add more columns to list below to check amount of outlying data per column:"
   ]
  },
  {
   "cell_type": "code",
   "execution_count": 10,
   "metadata": {
    "collapsed": false
   },
   "outputs": [
    {
     "name": "stdout",
     "output_type": "stream",
     "text": [
      "\n",
      "\n",
      "\n",
      "Percentage Outlier: qty_employees 0.0074724251348714165\n",
      "Percentage Outlier: score_payment_assessment 0.019791027158165095\n",
      "\n",
      "\n",
      "\n",
      "\n",
      "Percentage Outlier: score_pd 0.13007269265332633\n",
      "\n",
      "\n",
      "\n",
      "\n"
     ]
    }
   ],
   "source": [
    "cols_to_check = ['score_payment_assessment', 'score_pd', 'qty_employees']\n",
    "for column_name, column in subset_data.transpose().iterrows(): \n",
    "    if column_name in cols_to_check:\n",
    "        qoutlier_qty = subset_data[(np.abs(subset_data[column_name]-subset_data[column_name].mean()) > \n",
    "                                    (2*subset_data[column_name].std()))]\n",
    "        print(\"Percentage Outlier:\", column_name, qoutlier_qty.shape[0] / subset_data.shape[0])\n",
    "    else: \n",
    "        print('')"
   ]
  },
  {
   "cell_type": "markdown",
   "metadata": {},
   "source": [
    "<a id='notes'></a>\n",
    "# Final Notes:\n",
    "\n",
    "After cleaning, may use the last cell above for viewing the amount of 2-sigma outliers per column\n"
   ]
  },
  {
   "cell_type": "markdown",
   "metadata": {},
   "source": [
    "<a id='bottom'></a>\n",
    "\n",
    "<a href=#top>Top</a>\n",
    "\n",
    "# Bottom"
   ]
  }
 ],
 "metadata": {
  "kernelspec": {
   "display_name": "Python 3",
   "language": "python",
   "name": "python3"
  },
  "language_info": {
   "codemirror_mode": {
    "name": "ipython",
    "version": 3
   },
   "file_extension": ".py",
   "mimetype": "text/x-python",
   "name": "python",
   "nbconvert_exporter": "python",
   "pygments_lexer": "ipython3",
   "version": "3.5.1"
  }
 },
 "nbformat": 4,
 "nbformat_minor": 0
}
