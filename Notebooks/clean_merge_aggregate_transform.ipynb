{
 "cells": [
  {
   "cell_type": "markdown",
   "metadata": {},
   "source": [
    "# Load modules"
   ]
  },
  {
   "cell_type": "code",
   "execution_count": 1,
   "metadata": {
    "collapsed": true
   },
   "outputs": [],
   "source": [
    "import sys\n",
    "sys.path.append(\"./modules\")\n",
    "from datetime import datetime\n",
    "from IPython.display import HTML\n",
    "# Loading cleaning-merging and aggregating-transforming classes\n",
    "from clean_merge import *\n",
    "from aggregate_transform import *"
   ]
  },
  {
   "cell_type": "markdown",
   "metadata": {},
   "source": [
    "# Set date to create dataset for"
   ]
  },
  {
   "cell_type": "code",
   "execution_count": 2,
   "metadata": {
    "collapsed": false
   },
   "outputs": [],
   "source": [
    "#dates = [\"2018-01-01\", \"2017-01-01\", \"2016-01-01\", \"2015-01-01\", \"2014-01-01\", \"2013-01-01\"]\n",
    "#list_date_dataset = [datetime.strptime(date, '%Y-%m-%d') for date in dates]\n",
    "date_dataset = datetime.strptime(\"2017-01-01\", '%Y-%m-%d')"
   ]
  },
  {
   "cell_type": "markdown",
   "metadata": {},
   "source": [
    "# Setup cleaner-merger and aggregator-transformer"
   ]
  },
  {
   "cell_type": "code",
   "execution_count": 3,
   "metadata": {
    "collapsed": false
   },
   "outputs": [],
   "source": [
    "project = 'graydon-moving-indicator'\n",
    "bucket = 'graydon-data'\n",
    "# Create object for cleaning and merging\n",
    "clean_merge = Clean_Merge(name_project = project, name_bucket = bucket, \n",
    "                          dir_input_data = '01_input', dir_output_data = '02_cleaned')\n",
    "# Create object for aggregating and transforming\n",
    "aggregate_transform = Aggregate_Transform(name_project = project, name_bucket = bucket,\n",
    "                                          dir_input_data = '02_cleaned', dir_output_data = '03_aggregated')"
   ]
  },
  {
   "cell_type": "markdown",
   "metadata": {},
   "source": [
    "# Executing cleaning-merging, aggregating-transforming"
   ]
  },
  {
   "cell_type": "code",
   "execution_count": null,
   "metadata": {
    "collapsed": false
   },
   "outputs": [
    {
     "name": "stdout",
     "output_type": "stream",
     "text": [
      "Reading and cleaning features for 2017-01-01\n"
     ]
    }
   ],
   "source": [
    "df_month_year = clean_merge.clean_merge_data(date_dataset)"
   ]
  },
  {
   "cell_type": "code",
   "execution_count": null,
   "metadata": {
    "collapsed": false
   },
   "outputs": [],
   "source": [
    "df_year = aggregate_transform.aggregate_transform_df(df = df_month_year, \n",
    "                                                     date_dataset)"
   ]
  }
 ],
 "metadata": {
  "kernelspec": {
   "display_name": "graydon-moving",
   "language": "python",
   "name": "graydon-moving"
  },
  "language_info": {
   "codemirror_mode": {
    "name": "ipython",
    "version": 3
   },
   "file_extension": ".py",
   "mimetype": "text/x-python",
   "name": "python",
   "nbconvert_exporter": "python",
   "pygments_lexer": "ipython3",
   "version": "3.5.5"
  }
 },
 "nbformat": 4,
 "nbformat_minor": 0
}
