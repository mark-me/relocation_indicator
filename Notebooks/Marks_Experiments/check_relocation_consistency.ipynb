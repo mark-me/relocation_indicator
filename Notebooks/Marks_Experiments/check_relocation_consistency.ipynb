{
 "cells": [
  {
   "cell_type": "code",
   "execution_count": 1,
   "metadata": {
    "collapsed": false
   },
   "outputs": [],
   "source": [
    "import sys\n",
    "sys.path.append(\"../modules\")\n",
    "from aggregate_transform import *"
   ]
  },
  {
   "cell_type": "code",
   "execution_count": 2,
   "metadata": {
    "collapsed": true
   },
   "outputs": [],
   "source": [
    "from datetime import datetime\n",
    "from IPython.display import HTML"
   ]
  },
  {
   "cell_type": "code",
   "execution_count": 3,
   "metadata": {
    "collapsed": true
   },
   "outputs": [],
   "source": [
    "project = 'graydon-moving-indicator'\n",
    "bucket_name = 'graydon-data'\n",
    "dir_input_data = '03_aggregated'\n",
    "dir_output_data = \"\""
   ]
  },
  {
   "cell_type": "code",
   "execution_count": 4,
   "metadata": {
    "collapsed": false
   },
   "outputs": [],
   "source": [
    "aggregate_transform = Aggregate_Transform(project, bucket_name, dir_input_data, dir_output_data)"
   ]
  },
  {
   "cell_type": "markdown",
   "metadata": {},
   "source": [
    "# 2013"
   ]
  },
  {
   "cell_type": "code",
   "execution_count": 5,
   "metadata": {
    "collapsed": false
   },
   "outputs": [
    {
     "name": "stderr",
     "output_type": "stream",
     "text": [
      "/home/mrodriguezlara/graydon/graydon-moving/lib/python3.5/site-packages/IPython/core/interactiveshell.py:3185: DtypeWarning: Columns (4,58) have mixed types. Specify dtype option on import or set low_memory=False.\n",
      "  if (yield from self.run_code(code, result)):\n"
     ]
    }
   ],
   "source": [
    "df_2013 = aggregate_transform.get_df_from_bucket(\"03_aggregated\" + \"/2013_aggregated.csv\")"
   ]
  },
  {
   "cell_type": "code",
   "execution_count": 6,
   "metadata": {
    "collapsed": false
   },
   "outputs": [],
   "source": [
    "df_temp = df_2013['has_relocated_next_year'].value_counts()\n",
    "df_temp = df_temp.reset_index()\n",
    "df_temp.rename(columns = {\"index\" : \"relocated\", \"has_relocated_next_year\" : \"qty_companies\"})\n",
    "df_temp['year'] = '2013'\n",
    "df_relocations = df_temp"
   ]
  },
  {
   "cell_type": "markdown",
   "metadata": {},
   "source": [
    "# 2014"
   ]
  },
  {
   "cell_type": "code",
   "execution_count": 7,
   "metadata": {
    "collapsed": false
   },
   "outputs": [
    {
     "name": "stderr",
     "output_type": "stream",
     "text": [
      "/home/mrodriguezlara/graydon/graydon-moving/lib/python3.5/site-packages/IPython/core/interactiveshell.py:3185: DtypeWarning: Columns (4) have mixed types. Specify dtype option on import or set low_memory=False.\n",
      "  if (yield from self.run_code(code, result)):\n"
     ]
    }
   ],
   "source": [
    "df_2014 = aggregate_transform.get_df_from_bucket(\"03_aggregated\" + \"/2014_aggregated.csv\")"
   ]
  },
  {
   "cell_type": "code",
   "execution_count": 8,
   "metadata": {
    "collapsed": true
   },
   "outputs": [],
   "source": [
    "df_temp = df_2014['has_relocated_next_year'].value_counts()\n",
    "df_temp = df_temp.reset_index()\n",
    "df_temp.rename(columns = {\"index\" : \"relocated\", \"has_relocated_next_year\" : \"qty_companies\"})\n",
    "df_temp['year'] = '2014'\n",
    "df_relocations = df_relocations.append(df_temp)"
   ]
  },
  {
   "cell_type": "markdown",
   "metadata": {},
   "source": [
    "# 2015"
   ]
  },
  {
   "cell_type": "code",
   "execution_count": 9,
   "metadata": {
    "collapsed": false
   },
   "outputs": [],
   "source": [
    "df_2015 = aggregate_transform.get_df_from_bucket(\"03_aggregated\" + \"/2015_aggregated.csv\")"
   ]
  },
  {
   "cell_type": "code",
   "execution_count": 10,
   "metadata": {
    "collapsed": false
   },
   "outputs": [],
   "source": [
    "df_temp = df_2015['has_relocated_next_year'].value_counts()\n",
    "df_temp = df_temp.reset_index()\n",
    "df_temp.rename(columns = {\"index\" : \"relocated\", \"has_relocated_next_year\" : \"qty_companies\"})\n",
    "df_temp['year'] = '2015'\n",
    "df_relocations = df_relocations.append(df_temp)"
   ]
  },
  {
   "cell_type": "markdown",
   "metadata": {},
   "source": [
    "# 2016"
   ]
  },
  {
   "cell_type": "code",
   "execution_count": 11,
   "metadata": {
    "collapsed": false
   },
   "outputs": [],
   "source": [
    "df_2016 = aggregate_transform.get_df_from_bucket(\"03_aggregated\" + \"/2016_aggregated.csv\")"
   ]
  },
  {
   "cell_type": "code",
   "execution_count": 12,
   "metadata": {
    "collapsed": false
   },
   "outputs": [],
   "source": [
    "df_temp = df_2016['has_relocated_next_year'].value_counts()\n",
    "df_temp = df_temp.reset_index()\n",
    "df_temp.rename(columns = {\"index\" : \"relocated\", \"has_relocated_next_year\" : \"qty_companies\"})\n",
    "df_temp['year'] = '2016'\n",
    "df_relocations = df_relocations.append(df_temp)"
   ]
  },
  {
   "cell_type": "markdown",
   "metadata": {},
   "source": [
    "# 2017"
   ]
  },
  {
   "cell_type": "code",
   "execution_count": 13,
   "metadata": {
    "collapsed": true
   },
   "outputs": [],
   "source": [
    "df_2017 = aggregate_transform.get_df_from_bucket(\"03_aggregated\" + \"/2017_aggregated.csv\")"
   ]
  },
  {
   "cell_type": "code",
   "execution_count": 14,
   "metadata": {
    "collapsed": true
   },
   "outputs": [],
   "source": [
    "df_temp = df_2017['has_relocated_next_year'].value_counts()\n",
    "df_temp = df_temp.reset_index()\n",
    "df_temp.rename(columns = {\"index\" : \"relocated\", \"has_relocated_next_year\" : \"qty_companies\"})\n",
    "df_temp['year'] = '2017'\n",
    "df_relocations = df_relocations.append(df_temp)"
   ]
  },
  {
   "cell_type": "code",
   "execution_count": 15,
   "metadata": {
    "collapsed": false
   },
   "outputs": [],
   "source": [
    "df_relocations['perc_companies'] = df_relocations.groupby('year')['has_relocated_next_year'].apply(lambda x: x.astype(float)/x.sum())"
   ]
  },
  {
   "cell_type": "code",
   "execution_count": 16,
   "metadata": {
    "collapsed": false
   },
   "outputs": [
    {
     "data": {
      "text/html": [
       "<div>\n",
       "<style scoped>\n",
       "    .dataframe tbody tr th:only-of-type {\n",
       "        vertical-align: middle;\n",
       "    }\n",
       "\n",
       "    .dataframe tbody tr th {\n",
       "        vertical-align: top;\n",
       "    }\n",
       "\n",
       "    .dataframe thead th {\n",
       "        text-align: right;\n",
       "    }\n",
       "</style>\n",
       "<table border=\"1\" class=\"dataframe\">\n",
       "  <thead>\n",
       "    <tr style=\"text-align: right;\">\n",
       "      <th></th>\n",
       "      <th>index</th>\n",
       "      <th>has_relocated_next_year</th>\n",
       "      <th>year</th>\n",
       "      <th>perc_companies</th>\n",
       "    </tr>\n",
       "  </thead>\n",
       "  <tbody>\n",
       "    <tr>\n",
       "      <th>0</th>\n",
       "      <td>False</td>\n",
       "      <td>1670754</td>\n",
       "      <td>2013</td>\n",
       "      <td>0.958408</td>\n",
       "    </tr>\n",
       "    <tr>\n",
       "      <th>1</th>\n",
       "      <td>True</td>\n",
       "      <td>72505</td>\n",
       "      <td>2013</td>\n",
       "      <td>0.041592</td>\n",
       "    </tr>\n",
       "    <tr>\n",
       "      <th>0</th>\n",
       "      <td>False</td>\n",
       "      <td>1678925</td>\n",
       "      <td>2014</td>\n",
       "      <td>0.943646</td>\n",
       "    </tr>\n",
       "    <tr>\n",
       "      <th>1</th>\n",
       "      <td>True</td>\n",
       "      <td>100264</td>\n",
       "      <td>2014</td>\n",
       "      <td>0.056354</td>\n",
       "    </tr>\n",
       "    <tr>\n",
       "      <th>0</th>\n",
       "      <td>False</td>\n",
       "      <td>1708652</td>\n",
       "      <td>2015</td>\n",
       "      <td>0.939393</td>\n",
       "    </tr>\n",
       "    <tr>\n",
       "      <th>1</th>\n",
       "      <td>True</td>\n",
       "      <td>110237</td>\n",
       "      <td>2015</td>\n",
       "      <td>0.060607</td>\n",
       "    </tr>\n",
       "    <tr>\n",
       "      <th>0</th>\n",
       "      <td>False</td>\n",
       "      <td>1741379</td>\n",
       "      <td>2016</td>\n",
       "      <td>0.939843</td>\n",
       "    </tr>\n",
       "    <tr>\n",
       "      <th>1</th>\n",
       "      <td>True</td>\n",
       "      <td>111461</td>\n",
       "      <td>2016</td>\n",
       "      <td>0.060157</td>\n",
       "    </tr>\n",
       "    <tr>\n",
       "      <th>0</th>\n",
       "      <td>False</td>\n",
       "      <td>1807074</td>\n",
       "      <td>2017</td>\n",
       "      <td>0.956187</td>\n",
       "    </tr>\n",
       "    <tr>\n",
       "      <th>1</th>\n",
       "      <td>True</td>\n",
       "      <td>82802</td>\n",
       "      <td>2017</td>\n",
       "      <td>0.043813</td>\n",
       "    </tr>\n",
       "  </tbody>\n",
       "</table>\n",
       "</div>"
      ],
      "text/plain": [
       "   index  has_relocated_next_year  year  perc_companies\n",
       "0  False                  1670754  2013        0.958408\n",
       "1   True                    72505  2013        0.041592\n",
       "0  False                  1678925  2014        0.943646\n",
       "1   True                   100264  2014        0.056354\n",
       "0  False                  1708652  2015        0.939393\n",
       "1   True                   110237  2015        0.060607\n",
       "0  False                  1741379  2016        0.939843\n",
       "1   True                   111461  2016        0.060157\n",
       "0  False                  1807074  2017        0.956187\n",
       "1   True                    82802  2017        0.043813"
      ]
     },
     "execution_count": 16,
     "metadata": {},
     "output_type": "execute_result"
    }
   ],
   "source": [
    "df_relocations"
   ]
  },
  {
   "cell_type": "code",
   "execution_count": null,
   "metadata": {
    "collapsed": false
   },
   "outputs": [],
   "source": []
  }
 ],
 "metadata": {
  "kernelspec": {
   "display_name": "graydon-moving",
   "language": "python",
   "name": "graydon-moving"
  },
  "language_info": {
   "codemirror_mode": {
    "name": "ipython",
    "version": 3
   },
   "file_extension": ".py",
   "mimetype": "text/x-python",
   "name": "python",
   "nbconvert_exporter": "python",
   "pygments_lexer": "ipython3",
   "version": "3.5.5"
  }
 },
 "nbformat": 4,
 "nbformat_minor": 0
}
