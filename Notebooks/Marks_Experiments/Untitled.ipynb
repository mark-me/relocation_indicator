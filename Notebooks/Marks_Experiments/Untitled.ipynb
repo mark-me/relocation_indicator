{
 "cells": [
  {
   "cell_type": "code",
   "execution_count": 7,
   "metadata": {
    "collapsed": false
   },
   "outputs": [],
   "source": [
    "col_list=[['qty_employees', 'delta_qty_employees'], \n",
    "          ['qty_issued_credit_reports', 'delta_qty_issued_credit_reports'], \n",
    "          ['score_payment_assessment', 'delta_score_payment_assessment'], \n",
    "          ['score_pd', 'delta_score_pd'],\n",
    "          ['code_legal_form', 'code_legal_form_has_changed'], \n",
    "          ['code_SBI_2_group', 'SBI_has_changed']]\n",
    "subset_columns = ['date_month', 'id_company', 'id_branch']\n",
    "subset_columns.extend([item[0] for item in col_list])"
   ]
  },
  {
   "cell_type": "code",
   "execution_count": 15,
   "metadata": {
    "collapsed": true
   },
   "outputs": [],
   "source": []
  },
  {
   "cell_type": "code",
   "execution_count": 14,
   "metadata": {
    "collapsed": false
   },
   "outputs": [
    {
     "data": {
      "text/plain": [
       "['qty_employees',\n",
       " 'qty_issued_credit_reports',\n",
       " 'score_payment_assessment',\n",
       " 'score_pd',\n",
       " 'code_legal_form',\n",
       " 'code_SBI_2_group']"
      ]
     },
     "execution_count": 14,
     "metadata": {},
     "output_type": "execute_result"
    }
   ],
   "source": [
    "[item[0] for item in col_list]"
   ]
  },
  {
   "cell_type": "code",
   "execution_count": 16,
   "metadata": {
    "collapsed": false
   },
   "outputs": [
    {
     "data": {
      "text/plain": [
       "['date_month',\n",
       " 'id_company',\n",
       " 'id_branch',\n",
       " 'qty_employees',\n",
       " 'qty_issued_credit_reports',\n",
       " 'score_payment_assessment',\n",
       " 'score_pd',\n",
       " 'code_legal_form',\n",
       " 'code_SBI_2_group']"
      ]
     },
     "execution_count": 16,
     "metadata": {},
     "output_type": "execute_result"
    }
   ],
   "source": [
    "subset_columns"
   ]
  }
 ],
 "metadata": {
  "kernelspec": {
   "display_name": "graydon-moving",
   "language": "python",
   "name": "graydon-moving"
  },
  "language_info": {
   "codemirror_mode": {
    "name": "ipython",
    "version": 3
   },
   "file_extension": ".py",
   "mimetype": "text/x-python",
   "name": "python",
   "nbconvert_exporter": "python",
   "pygments_lexer": "ipython3",
   "version": "3.5.5"
  }
 },
 "nbformat": 4,
 "nbformat_minor": 0
}
