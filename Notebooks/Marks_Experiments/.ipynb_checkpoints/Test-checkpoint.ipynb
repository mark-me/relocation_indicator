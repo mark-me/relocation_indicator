{
 "cells": [
  {
   "cell_type": "markdown",
   "metadata": {},
   "source": [
    "# Load libraries"
   ]
  },
  {
   "cell_type": "code",
   "execution_count": 1,
   "metadata": {
    "collapsed": true
   },
   "outputs": [],
   "source": [
    "# Ignore 'dask' warning\n",
    "import pandas as pd\n",
    "import numpy as np\n",
    "import gc\n",
    "import gcsfs\n",
    "from google.cloud import storage\n",
    "from pandas import DataFrame\n",
    "from IPython.display import HTML\n",
    "from google.cloud.storage import Blob\n",
    "import datalab.storage as gcs_datalab"
   ]
  },
  {
   "cell_type": "markdown",
   "metadata": {},
   "source": [
    "## Setting up constants\n",
    "\n",
    "All required"
   ]
  },
  {
   "cell_type": "code",
   "execution_count": 2,
   "metadata": {
    "collapsed": true
   },
   "outputs": [],
   "source": [
    "project = 'graydon-moving-indicator'\n",
    "bucket_name = 'graydon-data'\n",
    "dir_year_now = 'including_scores/merged_per_year/merged_cleaned'\n",
    "year_features = '2017'\n",
    "year_target = '2018'\n",
    "rolling_file = \"~/graydon_moving_indicator/Notebooks/Marks_Experiments/files_to_bucket/dataset_2018-01-01 00:00:00.csv\""
   ]
  },
  {
   "cell_type": "code",
   "execution_count": 3,
   "metadata": {
    "collapsed": true
   },
   "outputs": [],
   "source": [
    "fs = gcsfs.GCSFileSystem(project='graydon-moving-indicator')\n",
    "gcs = storage.Client()\n",
    "bucket = gcs.get_bucket(bucket_name)"
   ]
  },
  {
   "cell_type": "code",
   "execution_count": 6,
   "metadata": {
    "collapsed": false
   },
   "outputs": [],
   "source": [
    "def read_one_year_from_bucket_merged_csv(year, dir_prefix = ''):\n",
    "    \"\"\" Reads a whole year of data from the already merged files \"\"\"\n",
    "    file_name = \"graydon-data/\" + dir_prefix + \"/\" + year + \"_merged.csv\"\n",
    "    print(file_name)\n",
    "    df_merged = pd.DataFrame()\n",
    "    with fs.open(file_name) as f:\n",
    "        df_merged = pd.read_csv(f, sep=',', index_col=0, low_memory = False)   \n",
    "    #df_merged = pd.read_csv(file_name, sep=',', index_col=0)      \n",
    "    return df_merged"
   ]
  },
  {
   "cell_type": "markdown",
   "metadata": {},
   "source": [
    "# Original file(s)"
   ]
  },
  {
   "cell_type": "markdown",
   "metadata": {},
   "source": [
    "## Reading features"
   ]
  },
  {
   "cell_type": "code",
   "execution_count": 7,
   "metadata": {
    "collapsed": false
   },
   "outputs": [
    {
     "name": "stdout",
     "output_type": "stream",
     "text": [
      "graydon-data/including_scores/merged_per_year/merged_cleaned/2017_merged.csv\n"
     ]
    },
    {
     "name": "stderr",
     "output_type": "stream",
     "text": [
      "/home/mrodriguezlara/graydon/graydon-moving/lib/python3.5/site-packages/IPython/core/interactiveshell.py:3185: DtypeWarning: Columns (7,8,9,14,32,35,36) have mixed types. Specify dtype option on import or set low_memory=False.\n",
      "  if (yield from self.run_code(code, result)):\n",
      "/home/mrodriguezlara/graydon/graydon-moving/lib/python3.5/site-packages/numpy/lib/arraysetops.py:522: FutureWarning: elementwise comparison failed; returning scalar instead, but in the future will perform elementwise comparison\n",
      "  mask |= (ar1 == a)\n"
     ]
    }
   ],
   "source": [
    "df_features = read_one_year_from_bucket_merged_csv(dir_prefix= dir_year_now, year = year_features)"
   ]
  },
  {
   "cell_type": "code",
   "execution_count": 12,
   "metadata": {
    "collapsed": false
   },
   "outputs": [
    {
     "name": "stdout",
     "output_type": "stream",
     "text": [
      "['date_month', 'id_company', 'id_branch', 'date_established', 'is_discontinued', 'code_discontinuation', 'code_financial_calamity', 'date_financial_calamity_started', 'date_financial_calamity_stopped', 'financial_calamity_outcome', 'code_legal_form', 'qty_employees', 'year_qty_employees', 'id_company_creditproxy', 'score_payment_assessment', 'amt_revenue', 'year_revenue', 'amt_operating_result', 'year_operating_result', 'amt_consolidated_revenue', 'year_consolidated_revenue', 'amt_consolidated_operating_result', 'year_consolidated_operating_result', 'qty_issued_credit_reports', 'perc_credit_limit_adjustment', 'color_credit_status', 'rat_pd', 'score_pd', 'has_increased_risk', 'is_sole_proprietor', 'code_sbi_2', 'code_sbi_1', 'qty_address_mutations_total', 'qty_address_mutations_month', 'date_start', 'from_date_start', 'has_relocated', 'qty_started_names', 'qty_stopped_names', 'has_name_change', 'total_changeof_board_members_']\n"
     ]
    }
   ],
   "source": [
    "columns_features = list(df_features)\n",
    "print(columns_features)"
   ]
  },
  {
   "cell_type": "code",
   "execution_count": 11,
   "metadata": {
    "collapsed": false
   },
   "outputs": [
    {
     "name": "stdout",
     "output_type": "stream",
     "text": [
      "22729762\n"
     ]
    }
   ],
   "source": [
    "qty_rows_features = df_features.shape[0]\n",
    "print(qty_rows_features)"
   ]
  },
  {
   "cell_type": "markdown",
   "metadata": {},
   "source": [
    "## Reading target variables"
   ]
  },
  {
   "cell_type": "code",
   "execution_count": null,
   "metadata": {
    "collapsed": true
   },
   "outputs": [],
   "source": [
    "df_targets = read_one_year_from_bucket_merged_csv(dir_prefix= dir_year_now, year = year_targets)"
   ]
  },
  {
   "cell_type": "code",
   "execution_count": null,
   "metadata": {
    "collapsed": true
   },
   "outputs": [],
   "source": [
    "columns_targets = list(df_targets)"
   ]
  },
  {
   "cell_type": "code",
   "execution_count": null,
   "metadata": {
    "collapsed": true
   },
   "outputs": [],
   "source": [
    "qty_rows_targets = df_targets.shape[0]"
   ]
  },
  {
   "cell_type": "markdown",
   "metadata": {},
   "source": [
    "# Rolling"
   ]
  },
  {
   "cell_type": "code",
   "execution_count": null,
   "metadata": {
    "collapsed": true
   },
   "outputs": [],
   "source": [
    "df_rolling = pd.read_csv(rolling_file, sep=';', usecols= columns_features, index_col=False)   "
   ]
  },
  {
   "cell_type": "code",
   "execution_count": null,
   "metadata": {
    "collapsed": true
   },
   "outputs": [],
   "source": [
    "columns"
   ]
  },
  {
   "cell_type": "markdown",
   "metadata": {},
   "source": [
    "# Comparing"
   ]
  },
  {
   "cell_type": "code",
   "execution_count": null,
   "metadata": {
    "collapsed": true
   },
   "outputs": [],
   "source": [
    "orig_columns = columns_features + columns_targets"
   ]
  }
 ],
 "metadata": {
  "kernelspec": {
   "display_name": "graydon-moving",
   "language": "python",
   "name": "graydon-moving"
  },
  "language_info": {
   "codemirror_mode": {
    "name": "ipython",
    "version": 3
   },
   "file_extension": ".py",
   "mimetype": "text/x-python",
   "name": "python",
   "nbconvert_exporter": "python",
   "pygments_lexer": "ipython3",
   "version": "3.5.5"
  }
 },
 "nbformat": 4,
 "nbformat_minor": 0
}
