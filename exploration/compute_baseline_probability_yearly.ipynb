{
 "cells": [
  {
   "cell_type": "markdown",
   "metadata": {},
   "source": [
    "# Compute Baseline for Yearly Aggregated Data"
   ]
  },
  {
   "cell_type": "markdown",
   "metadata": {},
   "source": [
    "<a id='top'></a>\n",
    "\n",
    "<a href=#readdata>Read in Data</a>\n",
    "\n",
    "<a href=#overall_probability>Overall Probability of moving in Dataset</a>\n",
    "\n",
    "<a href=#move_by_year>Move Probability by Year</a>\n",
    "\n",
    "<a href=#prob_company_moves>Probability that Company Moves</a>\n",
    "\n",
    "<a href=#prob_branch_moves>Probability that Branch Moves</a>\n",
    "\n",
    "<a href=#plot_probabilities>Plot Probabilities</a>\n",
    "\n",
    "<a href=#bottom>End of File</a>\n"
   ]
  },
  {
   "cell_type": "code",
   "execution_count": 25,
   "metadata": {
    "collapsed": true
   },
   "outputs": [],
   "source": [
    "\n",
    "import pandas as pd\n",
    "import gcsfs\n",
    "from google.cloud import storage\n",
    "from pandas import DataFrame\n",
    "from IPython.display import HTML\n",
    "from google.cloud.storage import Blob\n",
    "import datalab.storage as gcs_datalab\n",
    "import numpy as np\n",
    "from sklearn.linear_model import LogisticRegression\n",
    "from sklearn import metrics\n",
    "from sklearn.model_selection import train_test_split\n",
    "import matplotlib.pyplot as plt \n",
    "import pandas as pd\n",
    "import numpy as np\n",
    "from sklearn import preprocessing\n",
    "import matplotlib.pyplot as plt \n",
    "import seaborn as sns\n"
   ]
  },
  {
   "cell_type": "markdown",
   "metadata": {},
   "source": [
    "<a id='readdata'></a>\n",
    "# Read in data\n",
    "\n",
    "<a href=#top>Top</a>"
   ]
  },
  {
   "cell_type": "code",
   "execution_count": 27,
   "metadata": {
    "collapsed": false
   },
   "outputs": [
    {
     "name": "stdout",
     "output_type": "stream",
     "text": [
      "Starting with year:  2013\n",
      "03_aggregated\n",
      "Processing file:  03_aggregated/2013_aggregated.csv\n"
     ]
    },
    {
     "name": "stderr",
     "output_type": "stream",
     "text": [
      "/home/mrodriguezlara/graydon/graydon-moving/lib/python3.5/site-packages/IPython/core/interactiveshell.py:3185: DtypeWarning: Columns (4,58) have mixed types. Specify dtype option on import or set low_memory=False.\n",
      "  if (yield from self.run_code(code, result)):\n",
      "/home/mrodriguezlara/graydon/graydon-moving/lib/python3.5/site-packages/numpy/lib/arraysetops.py:522: FutureWarning: elementwise comparison failed; returning scalar instead, but in the future will perform elementwise comparison\n",
      "  mask |= (ar1 == a)\n"
     ]
    },
    {
     "name": "stdout",
     "output_type": "stream",
     "text": [
      "The number of rows of the year read is far is:  1811253\n",
      "Starting with year:  2014\n",
      "03_aggregated\n",
      "Processing file:  03_aggregated/2014_aggregated.csv\n"
     ]
    },
    {
     "name": "stderr",
     "output_type": "stream",
     "text": [
      "/home/mrodriguezlara/graydon/graydon-moving/lib/python3.5/site-packages/IPython/core/interactiveshell.py:3185: DtypeWarning: Columns (4) have mixed types. Specify dtype option on import or set low_memory=False.\n",
      "  if (yield from self.run_code(code, result)):\n"
     ]
    },
    {
     "name": "stdout",
     "output_type": "stream",
     "text": [
      "The number of rows of the year read is far is:  1852836\n",
      "Starting with year:  2015\n",
      "03_aggregated\n",
      "Processing file:  03_aggregated/2015_aggregated.csv\n",
      "The number of rows of the year read is far is:  1890941\n",
      "Starting with year:  2016\n",
      "03_aggregated\n",
      "Processing file:  03_aggregated/2016_aggregated.csv\n",
      "The number of rows of the year read is far is:  1930102\n",
      "Starting with year:  2017\n",
      "03_aggregated\n",
      "Processing file:  03_aggregated/2017_aggregated.csv\n",
      "The number of rows of the year read is far is:  1966208\n",
      "The final number of rows of the basetable created is:  9451340\n"
     ]
    }
   ],
   "source": [
    "# Ignore 'dask' warning\n",
    "import pandas as pd\n",
    "import gcsfs\n",
    "from google.cloud import storage\n",
    "from pandas import DataFrame\n",
    "from IPython.display import HTML\n",
    "from google.cloud.storage import Blob\n",
    "import datalab.storage as gcs_datalab\n",
    "from datetime import date\n",
    "import numpy as np\n",
    "\n",
    "# Setting up constants. All required\n",
    "project = 'graydon-moving-indicator'\n",
    "bucket_name = 'graydon-data'\n",
    "\n",
    "# Initializing bucket\n",
    "fs = gcsfs.GCSFileSystem(project='graydon-moving-indicator')\n",
    "gcs = storage.Client()\n",
    "bucket = gcs.get_bucket(bucket_name)\n",
    "\n",
    "# Post-aggregation\n",
    "def create_dict_types_aggregated_data():\n",
    "    # Setting up dictionary of column types for the aggregated dataset\n",
    "    dtype={ \n",
    "        'id_company'  :np.float64,\n",
    "        'id_branch'    :np.int64, \n",
    "        'code_sbi_2'         : np.float64, \n",
    "        'has_relocated':bool,\n",
    "        'has_relocated_next_year ' : bool,\n",
    "        'has_name_change' : bool,\n",
    "        'qty_address_mutations_total' :np.float64,\n",
    "        'ratio_operating_result_consolidated_operating_result': np.float64,\n",
    "        'ratio_revenue_consolidated_revenue': np.float64,\n",
    "        'qty_green_flags'   :np.float64,\n",
    "        'qty_orange_flags'   :np.float64,\n",
    "        'qty_red_flags'   :np.float64,\n",
    "        'A'   :np.float64,\n",
    "        'AA'   :np.float64,\n",
    "        'AAA'   :np.float64,\n",
    "        'B'   :np.float64,\n",
    "        'BB'   :np.float64,\n",
    "        'BBB'   :np.float64,\n",
    "        'C'   :np.float64,\n",
    "        'CC'   :np.float64,\n",
    "        'CCC'   :np.float64,\n",
    "        'D'   :np.float64,\n",
    "        'NR'   :np.float64,\n",
    "        'code_legal_form_group_1':  np.int64,\n",
    "        'code_legal_form_group_2':  np.int64,\n",
    "        'SBI_group_1':  np.int64,\n",
    "        'SBI_group_2':  np.int64,\n",
    "        'company_age'   :np.float64,\n",
    "        'years_since_last_amt_consolidated_operating_result'   :np.float64,\n",
    "        'years_since_last_amt_consolidated_revenue'   :np.float64,\n",
    "        'years_since_last_amt_operating_result'   :np.float64,\n",
    "        'years_since_last_qty_employees'   :np.float64,\n",
    "        'years_since_last_amt_revenue'   :np.float64,\n",
    "        'delta_qty_employees'   :np.float64,\n",
    "        'delta_qty_issued_credit_reports'   :np.float64,\n",
    "        'delta_score_payment_assessment'   :np.float64,\n",
    "        'SBI_has_changed' : bool,\n",
    "        'unique_id' : object,\n",
    "        'code_legal_form_has_changed ' : bool,\n",
    "        'is_discontinued_any ' : bool,\n",
    "        'has_financial_calamity ' : bool,\n",
    "        'mean_amt_consolidated_operating_result'   :np.float64,\n",
    "        'mean_amt_consolidated_revenue'   :np.float64,\n",
    "        'mean_amt_operating_result'   :np.float64,\n",
    "        'mean_amt_revenue'   :np.float64,\n",
    "        'mean_qty_employees'   :np.float64,\n",
    "        'mean_qty_issued_credit_reports'   :np.float64,\n",
    "        'mean_score_payment_assessment'   :np.float64,\n",
    "        'mean_score_pd'   :np.float64,\n",
    "        'qty_address_mutations_year'   :np.float64,\n",
    "        'qty_started_names_year'   :np.float64,\n",
    "        'qty_stopped_names_year'   :np.float64,\n",
    "        'qty_board_changes_year'   :np.float64,\n",
    "        'variance_qty_employees'   :np.float64,\n",
    "        'variance_qty_issued_credit_reports'   :np.float64,\n",
    "        'variance_score_payment_assessment'   :np.float64,\n",
    "        'variance_score_pd'   :np.float64\n",
    "      }\n",
    "    return dtype\n",
    "\n",
    "def create_parse_dates_list_aggregated_data():\n",
    "    # Setting up dictionary of column types for the aggregated dataset\n",
    "    parse_dates= ['date_month', 'years_in_current_location']\n",
    "    return parse_dates\n",
    "\n",
    "def create_basetable(year_list, dir_prefix = ''):\n",
    "    \"\"\" Reads a whole year of data from the already aggregated files and creates basetable \"\"\"\n",
    "    dtype = create_dict_types_aggregated_data()\n",
    "    parse_dates = create_parse_dates_list_aggregated_data()\n",
    "    basetable = pd.DataFrame()\n",
    "    for year in year_list:\n",
    "        full_year_df = pd.DataFrame()\n",
    "        print('Starting with year: ', year)\n",
    "        print(dir_prefix)\n",
    "        blob_list = list(bucket.list_blobs(prefix=dir_prefix))    \n",
    "        for blob in blob_list:  \n",
    "            if year in blob.name:\n",
    "                print('Processing file: ', blob.name)\n",
    "                with fs.open('graydon-data/' + blob.name) as f:\n",
    "                    full_year_df = pd.read_csv(f, sep=',', index_col=0, dtype=dtype, parse_dates=parse_dates \n",
    "                                            )   \n",
    "                print('The number of rows of the year read is far is: ', full_year_df.shape[0])\n",
    "        basetable = basetable.append(full_year_df)\n",
    "    print('The final number of rows of the basetable created is: ', basetable.shape[0])\n",
    "    return basetable\n",
    "\n",
    "# Calling it\n",
    "data_df = create_basetable(year_list = ['2013', '2014', '2015', '2016', '2017'], dir_prefix ='03_aggregated')"
   ]
  },
  {
   "cell_type": "code",
   "execution_count": 7,
   "metadata": {
    "collapsed": false
   },
   "outputs": [
    {
     "data": {
      "text/plain": [
       "Index(['id_branch', 'id_company', 'date_month', 'code_sbi_1', 'has_relocated',\n",
       "       'has_name_change', 'delta_qty_employees',\n",
       "       'delta_qty_issued_credit_reports', 'delta_score_payment_assessment',\n",
       "       'code_legal_form_has_changed', 'SBI_has_changed', 'company_age',\n",
       "       'years_since_last_amt_consolidated_operating_result',\n",
       "       'years_since_last_amt_consolidated_revenue',\n",
       "       'years_since_last_amt_operating_result',\n",
       "       'years_since_last_qty_employees', 'years_since_last_amt_revenue',\n",
       "       'years_in_current_location',\n",
       "       'ratio_operating_result_consolidated_operating_result',\n",
       "       'ratio_revenue_consolidated_revenue', 'unique_id', 'qty_green_flags',\n",
       "       'qty_orange_flags', 'qty_red_flags', 'A', 'AA', 'AAA', 'B', 'BB', 'BBB',\n",
       "       'C', 'CC', 'CCC', 'D', 'NR', 'code_legal_form_group_1',\n",
       "       'code_legal_form_group_2', 'SBI_group_1', 'SBI_group_2',\n",
       "       'is_discontinued_any', 'has_financial_calamity',\n",
       "       'mean_amt_consolidated_operating_result',\n",
       "       'mean_amt_consolidated_revenue', 'mean_amt_operating_result',\n",
       "       'mean_amt_revenue', 'mean_qty_employees',\n",
       "       'mean_qty_issued_credit_reports', 'mean_score_payment_assessment',\n",
       "       'mean_score_pd', 'qty_address_mutations_year', 'qty_started_names_year',\n",
       "       'qty_stopped_names_year', 'qty_board_changes_year',\n",
       "       'variance_qty_employees', 'variance_qty_issued_credit_reports',\n",
       "       'variance_score_payment_assessment', 'variance_score_pd',\n",
       "       'has_relocated_next_year'],\n",
       "      dtype='object')"
      ]
     },
     "execution_count": 7,
     "metadata": {},
     "output_type": "execute_result"
    }
   ],
   "source": [
    "data_df.columns"
   ]
  },
  {
   "cell_type": "code",
   "execution_count": 8,
   "metadata": {
    "collapsed": false
   },
   "outputs": [
    {
     "data": {
      "text/html": [
       "<div>\n",
       "<style scoped>\n",
       "    .dataframe tbody tr th:only-of-type {\n",
       "        vertical-align: middle;\n",
       "    }\n",
       "\n",
       "    .dataframe tbody tr th {\n",
       "        vertical-align: top;\n",
       "    }\n",
       "\n",
       "    .dataframe thead th {\n",
       "        text-align: right;\n",
       "    }\n",
       "</style>\n",
       "<table border=\"1\" class=\"dataframe\">\n",
       "  <thead>\n",
       "    <tr style=\"text-align: right;\">\n",
       "      <th></th>\n",
       "      <th>id_branch</th>\n",
       "      <th>id_company</th>\n",
       "      <th>date_month</th>\n",
       "      <th>code_sbi_1</th>\n",
       "      <th>has_relocated</th>\n",
       "      <th>has_name_change</th>\n",
       "      <th>delta_qty_employees</th>\n",
       "      <th>delta_qty_issued_credit_reports</th>\n",
       "      <th>delta_score_payment_assessment</th>\n",
       "      <th>code_legal_form_has_changed</th>\n",
       "      <th>...</th>\n",
       "      <th>mean_score_pd</th>\n",
       "      <th>qty_address_mutations_year</th>\n",
       "      <th>qty_started_names_year</th>\n",
       "      <th>qty_stopped_names_year</th>\n",
       "      <th>qty_board_changes_year</th>\n",
       "      <th>variance_qty_employees</th>\n",
       "      <th>variance_qty_issued_credit_reports</th>\n",
       "      <th>variance_score_payment_assessment</th>\n",
       "      <th>variance_score_pd</th>\n",
       "      <th>has_relocated_next_year</th>\n",
       "    </tr>\n",
       "  </thead>\n",
       "  <tbody>\n",
       "    <tr>\n",
       "      <th>0</th>\n",
       "      <td>0</td>\n",
       "      <td>428134.0</td>\n",
       "      <td>2015-01-01</td>\n",
       "      <td>NaN</td>\n",
       "      <td>False</td>\n",
       "      <td>False</td>\n",
       "      <td>NaN</td>\n",
       "      <td>0.0</td>\n",
       "      <td>0.0</td>\n",
       "      <td>False</td>\n",
       "      <td>...</td>\n",
       "      <td>NaN</td>\n",
       "      <td>0.0</td>\n",
       "      <td>0.0</td>\n",
       "      <td>0.0</td>\n",
       "      <td>0.0</td>\n",
       "      <td>NaN</td>\n",
       "      <td>0.0</td>\n",
       "      <td>0.0</td>\n",
       "      <td>0.0</td>\n",
       "      <td>False</td>\n",
       "    </tr>\n",
       "    <tr>\n",
       "      <th>1</th>\n",
       "      <td>0</td>\n",
       "      <td>803351.0</td>\n",
       "      <td>2015-01-01</td>\n",
       "      <td>NaN</td>\n",
       "      <td>False</td>\n",
       "      <td>False</td>\n",
       "      <td>NaN</td>\n",
       "      <td>0.0</td>\n",
       "      <td>0.0</td>\n",
       "      <td>False</td>\n",
       "      <td>...</td>\n",
       "      <td>NaN</td>\n",
       "      <td>0.0</td>\n",
       "      <td>0.0</td>\n",
       "      <td>0.0</td>\n",
       "      <td>0.0</td>\n",
       "      <td>NaN</td>\n",
       "      <td>0.0</td>\n",
       "      <td>0.0</td>\n",
       "      <td>0.0</td>\n",
       "      <td>False</td>\n",
       "    </tr>\n",
       "    <tr>\n",
       "      <th>2</th>\n",
       "      <td>0</td>\n",
       "      <td>810695.0</td>\n",
       "      <td>2015-01-01</td>\n",
       "      <td>NaN</td>\n",
       "      <td>False</td>\n",
       "      <td>False</td>\n",
       "      <td>NaN</td>\n",
       "      <td>0.0</td>\n",
       "      <td>0.0</td>\n",
       "      <td>False</td>\n",
       "      <td>...</td>\n",
       "      <td>NaN</td>\n",
       "      <td>0.0</td>\n",
       "      <td>0.0</td>\n",
       "      <td>0.0</td>\n",
       "      <td>0.0</td>\n",
       "      <td>NaN</td>\n",
       "      <td>0.0</td>\n",
       "      <td>0.0</td>\n",
       "      <td>0.0</td>\n",
       "      <td>False</td>\n",
       "    </tr>\n",
       "    <tr>\n",
       "      <th>3</th>\n",
       "      <td>0</td>\n",
       "      <td>811258.0</td>\n",
       "      <td>2015-01-01</td>\n",
       "      <td>NaN</td>\n",
       "      <td>False</td>\n",
       "      <td>False</td>\n",
       "      <td>NaN</td>\n",
       "      <td>0.0</td>\n",
       "      <td>0.0</td>\n",
       "      <td>False</td>\n",
       "      <td>...</td>\n",
       "      <td>NaN</td>\n",
       "      <td>0.0</td>\n",
       "      <td>0.0</td>\n",
       "      <td>0.0</td>\n",
       "      <td>0.0</td>\n",
       "      <td>NaN</td>\n",
       "      <td>0.0</td>\n",
       "      <td>0.0</td>\n",
       "      <td>0.0</td>\n",
       "      <td>False</td>\n",
       "    </tr>\n",
       "    <tr>\n",
       "      <th>4</th>\n",
       "      <td>0</td>\n",
       "      <td>811333.0</td>\n",
       "      <td>2015-01-01</td>\n",
       "      <td>NaN</td>\n",
       "      <td>False</td>\n",
       "      <td>False</td>\n",
       "      <td>NaN</td>\n",
       "      <td>0.0</td>\n",
       "      <td>0.0</td>\n",
       "      <td>False</td>\n",
       "      <td>...</td>\n",
       "      <td>NaN</td>\n",
       "      <td>0.0</td>\n",
       "      <td>0.0</td>\n",
       "      <td>0.0</td>\n",
       "      <td>0.0</td>\n",
       "      <td>NaN</td>\n",
       "      <td>0.0</td>\n",
       "      <td>0.0</td>\n",
       "      <td>0.0</td>\n",
       "      <td>False</td>\n",
       "    </tr>\n",
       "  </tbody>\n",
       "</table>\n",
       "<p>5 rows × 58 columns</p>\n",
       "</div>"
      ],
      "text/plain": [
       "   id_branch  id_company date_month code_sbi_1  has_relocated  \\\n",
       "0          0    428134.0 2015-01-01        NaN          False   \n",
       "1          0    803351.0 2015-01-01        NaN          False   \n",
       "2          0    810695.0 2015-01-01        NaN          False   \n",
       "3          0    811258.0 2015-01-01        NaN          False   \n",
       "4          0    811333.0 2015-01-01        NaN          False   \n",
       "\n",
       "   has_name_change  delta_qty_employees  delta_qty_issued_credit_reports  \\\n",
       "0            False                  NaN                              0.0   \n",
       "1            False                  NaN                              0.0   \n",
       "2            False                  NaN                              0.0   \n",
       "3            False                  NaN                              0.0   \n",
       "4            False                  NaN                              0.0   \n",
       "\n",
       "   delta_score_payment_assessment  code_legal_form_has_changed  \\\n",
       "0                             0.0                        False   \n",
       "1                             0.0                        False   \n",
       "2                             0.0                        False   \n",
       "3                             0.0                        False   \n",
       "4                             0.0                        False   \n",
       "\n",
       "            ...             mean_score_pd  qty_address_mutations_year  \\\n",
       "0           ...                       NaN                         0.0   \n",
       "1           ...                       NaN                         0.0   \n",
       "2           ...                       NaN                         0.0   \n",
       "3           ...                       NaN                         0.0   \n",
       "4           ...                       NaN                         0.0   \n",
       "\n",
       "   qty_started_names_year  qty_stopped_names_year  qty_board_changes_year  \\\n",
       "0                     0.0                     0.0                     0.0   \n",
       "1                     0.0                     0.0                     0.0   \n",
       "2                     0.0                     0.0                     0.0   \n",
       "3                     0.0                     0.0                     0.0   \n",
       "4                     0.0                     0.0                     0.0   \n",
       "\n",
       "   variance_qty_employees  variance_qty_issued_credit_reports  \\\n",
       "0                     NaN                                 0.0   \n",
       "1                     NaN                                 0.0   \n",
       "2                     NaN                                 0.0   \n",
       "3                     NaN                                 0.0   \n",
       "4                     NaN                                 0.0   \n",
       "\n",
       "  variance_score_payment_assessment  variance_score_pd  \\\n",
       "0                               0.0                0.0   \n",
       "1                               0.0                0.0   \n",
       "2                               0.0                0.0   \n",
       "3                               0.0                0.0   \n",
       "4                               0.0                0.0   \n",
       "\n",
       "   has_relocated_next_year  \n",
       "0                    False  \n",
       "1                    False  \n",
       "2                    False  \n",
       "3                    False  \n",
       "4                    False  \n",
       "\n",
       "[5 rows x 58 columns]"
      ]
     },
     "execution_count": 8,
     "metadata": {},
     "output_type": "execute_result"
    }
   ],
   "source": [
    "data_df.head()"
   ]
  },
  {
   "cell_type": "code",
   "execution_count": 28,
   "metadata": {
    "collapsed": false
   },
   "outputs": [],
   "source": [
    "data_df['year'] = pd.DatetimeIndex(data_df['date_month']).year"
   ]
  },
  {
   "cell_type": "code",
   "execution_count": 10,
   "metadata": {
    "collapsed": false
   },
   "outputs": [
    {
     "data": {
      "text/html": [
       "<div>\n",
       "<style scoped>\n",
       "    .dataframe tbody tr th:only-of-type {\n",
       "        vertical-align: middle;\n",
       "    }\n",
       "\n",
       "    .dataframe tbody tr th {\n",
       "        vertical-align: top;\n",
       "    }\n",
       "\n",
       "    .dataframe thead tr th {\n",
       "        text-align: left;\n",
       "    }\n",
       "\n",
       "    .dataframe thead tr:last-of-type th {\n",
       "        text-align: right;\n",
       "    }\n",
       "</style>\n",
       "<table border=\"1\" class=\"dataframe\">\n",
       "  <thead>\n",
       "    <tr>\n",
       "      <th></th>\n",
       "      <th colspan=\"2\" halign=\"left\">id_branch</th>\n",
       "      <th colspan=\"2\" halign=\"left\">id_company</th>\n",
       "      <th colspan=\"2\" halign=\"left\">has_relocated</th>\n",
       "      <th colspan=\"2\" halign=\"left\">has_name_change</th>\n",
       "      <th colspan=\"2\" halign=\"left\">delta_qty_employees</th>\n",
       "      <th>...</th>\n",
       "      <th colspan=\"2\" halign=\"left\">qty_board_changes_year</th>\n",
       "      <th colspan=\"2\" halign=\"left\">variance_qty_employees</th>\n",
       "      <th colspan=\"2\" halign=\"left\">variance_qty_issued_credit_reports</th>\n",
       "      <th colspan=\"2\" halign=\"left\">variance_score_payment_assessment</th>\n",
       "      <th colspan=\"2\" halign=\"left\">variance_score_pd</th>\n",
       "    </tr>\n",
       "    <tr>\n",
       "      <th></th>\n",
       "      <th>mean</th>\n",
       "      <th>count</th>\n",
       "      <th>mean</th>\n",
       "      <th>count</th>\n",
       "      <th>mean</th>\n",
       "      <th>count</th>\n",
       "      <th>mean</th>\n",
       "      <th>count</th>\n",
       "      <th>mean</th>\n",
       "      <th>count</th>\n",
       "      <th>...</th>\n",
       "      <th>mean</th>\n",
       "      <th>count</th>\n",
       "      <th>mean</th>\n",
       "      <th>count</th>\n",
       "      <th>mean</th>\n",
       "      <th>count</th>\n",
       "      <th>mean</th>\n",
       "      <th>count</th>\n",
       "      <th>mean</th>\n",
       "      <th>count</th>\n",
       "    </tr>\n",
       "    <tr>\n",
       "      <th>year</th>\n",
       "      <th></th>\n",
       "      <th></th>\n",
       "      <th></th>\n",
       "      <th></th>\n",
       "      <th></th>\n",
       "      <th></th>\n",
       "      <th></th>\n",
       "      <th></th>\n",
       "      <th></th>\n",
       "      <th></th>\n",
       "      <th></th>\n",
       "      <th></th>\n",
       "      <th></th>\n",
       "      <th></th>\n",
       "      <th></th>\n",
       "      <th></th>\n",
       "      <th></th>\n",
       "      <th></th>\n",
       "      <th></th>\n",
       "      <th></th>\n",
       "      <th></th>\n",
       "    </tr>\n",
       "  </thead>\n",
       "  <tbody>\n",
       "    <tr>\n",
       "      <th>2015</th>\n",
       "      <td>3.638208e+07</td>\n",
       "      <td>1890941</td>\n",
       "      <td>7.533486e+08</td>\n",
       "      <td>1890941</td>\n",
       "      <td>0.006781</td>\n",
       "      <td>1890941</td>\n",
       "      <td>0.002448</td>\n",
       "      <td>1890941</td>\n",
       "      <td>6.263642</td>\n",
       "      <td>1599625</td>\n",
       "      <td>...</td>\n",
       "      <td>0.265753</td>\n",
       "      <td>1890941</td>\n",
       "      <td>10192.130654</td>\n",
       "      <td>1579770</td>\n",
       "      <td>0.140032</td>\n",
       "      <td>1878229</td>\n",
       "      <td>279.741575</td>\n",
       "      <td>1890941</td>\n",
       "      <td>-40.559148</td>\n",
       "      <td>1890941</td>\n",
       "    </tr>\n",
       "    <tr>\n",
       "      <th>2016</th>\n",
       "      <td>3.792115e+07</td>\n",
       "      <td>1930102</td>\n",
       "      <td>7.632112e+08</td>\n",
       "      <td>1930102</td>\n",
       "      <td>0.006343</td>\n",
       "      <td>1930102</td>\n",
       "      <td>0.002408</td>\n",
       "      <td>1930102</td>\n",
       "      <td>-1.389359</td>\n",
       "      <td>1635147</td>\n",
       "      <td>...</td>\n",
       "      <td>0.266569</td>\n",
       "      <td>1930102</td>\n",
       "      <td>2296.814322</td>\n",
       "      <td>1614108</td>\n",
       "      <td>0.125883</td>\n",
       "      <td>1917383</td>\n",
       "      <td>277.497118</td>\n",
       "      <td>1930102</td>\n",
       "      <td>-40.481498</td>\n",
       "      <td>1930102</td>\n",
       "    </tr>\n",
       "    <tr>\n",
       "      <th>2017</th>\n",
       "      <td>3.950941e+07</td>\n",
       "      <td>1966208</td>\n",
       "      <td>7.722793e+08</td>\n",
       "      <td>1966208</td>\n",
       "      <td>0.006163</td>\n",
       "      <td>1966208</td>\n",
       "      <td>0.001936</td>\n",
       "      <td>1966208</td>\n",
       "      <td>0.157444</td>\n",
       "      <td>1683569</td>\n",
       "      <td>...</td>\n",
       "      <td>0.247831</td>\n",
       "      <td>1966208</td>\n",
       "      <td>1144.791014</td>\n",
       "      <td>1661273</td>\n",
       "      <td>0.096303</td>\n",
       "      <td>1953013</td>\n",
       "      <td>274.795588</td>\n",
       "      <td>1966208</td>\n",
       "      <td>-39.784267</td>\n",
       "      <td>1966208</td>\n",
       "    </tr>\n",
       "  </tbody>\n",
       "</table>\n",
       "<p>3 rows × 106 columns</p>\n",
       "</div>"
      ],
      "text/plain": [
       "         id_branch             id_company          has_relocated           \\\n",
       "              mean    count          mean    count          mean    count   \n",
       "year                                                                        \n",
       "2015  3.638208e+07  1890941  7.533486e+08  1890941      0.006781  1890941   \n",
       "2016  3.792115e+07  1930102  7.632112e+08  1930102      0.006343  1930102   \n",
       "2017  3.950941e+07  1966208  7.722793e+08  1966208      0.006163  1966208   \n",
       "\n",
       "     has_name_change          delta_qty_employees            ...     \\\n",
       "                mean    count                mean    count   ...      \n",
       "year                                                         ...      \n",
       "2015        0.002448  1890941            6.263642  1599625   ...      \n",
       "2016        0.002408  1930102           -1.389359  1635147   ...      \n",
       "2017        0.001936  1966208            0.157444  1683569   ...      \n",
       "\n",
       "     qty_board_changes_year          variance_qty_employees           \\\n",
       "                       mean    count                   mean    count   \n",
       "year                                                                   \n",
       "2015               0.265753  1890941           10192.130654  1579770   \n",
       "2016               0.266569  1930102            2296.814322  1614108   \n",
       "2017               0.247831  1966208            1144.791014  1661273   \n",
       "\n",
       "     variance_qty_issued_credit_reports           \\\n",
       "                                   mean    count   \n",
       "year                                               \n",
       "2015                           0.140032  1878229   \n",
       "2016                           0.125883  1917383   \n",
       "2017                           0.096303  1953013   \n",
       "\n",
       "     variance_score_payment_assessment          variance_score_pd           \n",
       "                                  mean    count              mean    count  \n",
       "year                                                                        \n",
       "2015                        279.741575  1890941        -40.559148  1890941  \n",
       "2016                        277.497118  1930102        -40.481498  1930102  \n",
       "2017                        274.795588  1966208        -39.784267  1966208  \n",
       "\n",
       "[3 rows x 106 columns]"
      ]
     },
     "execution_count": 10,
     "metadata": {},
     "output_type": "execute_result"
    }
   ],
   "source": [
    "data_df.groupby(['year']).agg(['mean', 'count'])"
   ]
  },
  {
   "cell_type": "code",
   "execution_count": 29,
   "metadata": {
    "collapsed": false
   },
   "outputs": [
    {
     "data": {
      "text/plain": [
       "year\n",
       "2013    1811253\n",
       "2014    1852836\n",
       "2015    1890941\n",
       "2016    1930102\n",
       "2017    1966208\n",
       "dtype: int64"
      ]
     },
     "execution_count": 29,
     "metadata": {},
     "output_type": "execute_result"
    }
   ],
   "source": [
    "data_df.groupby(['year']).size()"
   ]
  },
  {
   "cell_type": "code",
   "execution_count": 30,
   "metadata": {
    "collapsed": true
   },
   "outputs": [],
   "source": [
    "data_df[data_df.has_relocated_next_year.isna()] = 0"
   ]
  },
  {
   "cell_type": "markdown",
   "metadata": {},
   "source": [
    "<a id='overall_probability'></a>\n",
    "\n",
    "# Overall Probability that branch moves \n",
    "\n",
    "<a href=#top>Top</a>"
   ]
  },
  {
   "cell_type": "code",
   "execution_count": 31,
   "metadata": {
    "collapsed": false
   },
   "outputs": [
    {
     "data": {
      "text/plain": [
       "False    9041994\n",
       "True      409346\n",
       "Name: has_relocated_next_year, dtype: int64"
      ]
     },
     "execution_count": 31,
     "metadata": {},
     "output_type": "execute_result"
    }
   ],
   "source": [
    "data_df['has_relocated_next_year'].value_counts()"
   ]
  },
  {
   "cell_type": "code",
   "execution_count": 32,
   "metadata": {
    "collapsed": false
   },
   "outputs": [
    {
     "data": {
      "text/plain": [
       "False    0.956689\n",
       "True     0.043311\n",
       "Name: has_relocated_next_year, dtype: float64"
      ]
     },
     "execution_count": 32,
     "metadata": {},
     "output_type": "execute_result"
    }
   ],
   "source": [
    "data_df['has_relocated_next_year'].value_counts() / data_df.shape[0]"
   ]
  },
  {
   "cell_type": "markdown",
   "metadata": {},
   "source": [
    "<a id='move_by_year'></a>\n",
    "# Move Probability By Year:\n",
    "<a href=#top>Top</a>"
   ]
  },
  {
   "cell_type": "code",
   "execution_count": 33,
   "metadata": {
    "collapsed": false
   },
   "outputs": [
    {
     "data": {
      "text/plain": [
       "year  has_relocated_next_year\n",
       "0     False                       364831\n",
       "2013  False                      1670754\n",
       "      True                         72505\n",
       "2014  False                      1678925\n",
       "      True                        100264\n",
       "2015  False                      1708652\n",
       "      True                        110237\n",
       "2016  False                      1818077\n",
       "      True                         34763\n",
       "2017  False                      1800755\n",
       "      True                         91577\n",
       "Name: has_relocated_next_year, dtype: int64"
      ]
     },
     "execution_count": 33,
     "metadata": {},
     "output_type": "execute_result"
    }
   ],
   "source": [
    "data_df.groupby(['year'])['has_relocated_next_year'].value_counts() "
   ]
  },
  {
   "cell_type": "code",
   "execution_count": 35,
   "metadata": {
    "collapsed": false
   },
   "outputs": [
    {
     "name": "stdout",
     "output_type": "stream",
     "text": [
      "2013 \n",
      " False    0.958408\n",
      "True     0.041592\n",
      "Name: has_relocated_next_year, dtype: float64\n",
      "2014 \n",
      " False    0.943646\n",
      "True     0.056354\n",
      "Name: has_relocated_next_year, dtype: float64\n",
      "2015 \n",
      " False    0.939393\n",
      "True     0.060607\n",
      "Name: has_relocated_next_year, dtype: float64\n",
      "2016 \n",
      " False    0.981238\n",
      "True     0.018762\n",
      "Name: has_relocated_next_year, dtype: float64\n",
      "2017 \n",
      " False    0.951606\n",
      "True     0.048394\n",
      "Name: has_relocated_next_year, dtype: float64\n"
     ]
    }
   ],
   "source": [
    "year_to_check = [2013, 2014, 2015, 2016, 2017]\n",
    "#year_to_check = [2015]\n",
    "\n",
    "for this_year in year_to_check: \n",
    "    print(this_year, \"\\n\",\n",
    "          data_df[data_df.year==this_year]['has_relocated_next_year'].value_counts() / data_df[data_df.year==this_year].shape[0])"
   ]
  },
  {
   "cell_type": "markdown",
   "metadata": {},
   "source": [
    "\n",
    "<a id='prob_company_moves'></a>\n",
    "# Probability that company moves over the whole dataset:\n",
    "\n",
    "<a href=#top>Top</a>\n",
    "\n",
    "\n",
    "Calculate the probability that any company has a branch that moves in the dataset.  Companies that have multiple moves do not affect the probability of move."
   ]
  },
  {
   "cell_type": "code",
   "execution_count": 36,
   "metadata": {
    "collapsed": false
   },
   "outputs": [
    {
     "name": "stdout",
     "output_type": "stream",
     "text": [
      "The total number of companies in the dataset is 2007686\n"
     ]
    }
   ],
   "source": [
    "# Find number of unique companies:\n",
    "num_unique_companies=data_df['id_company'].nunique()\n",
    "print(\"The total number of companies in the dataset is %0.3d\" % num_unique_companies) "
   ]
  },
  {
   "cell_type": "code",
   "execution_count": 37,
   "metadata": {
    "collapsed": false
   },
   "outputs": [
    {
     "name": "stdout",
     "output_type": "stream",
     "text": [
      "The number of companies involved in a move is 353287\n"
     ]
    }
   ],
   "source": [
    "num_companies_moved = data_df[data_df.has_relocated_next_year==True]['id_company'].nunique()\n",
    "print(\"The number of companies involved in a move is %0.3d\" % num_companies_moved) "
   ]
  },
  {
   "cell_type": "code",
   "execution_count": 38,
   "metadata": {
    "collapsed": false
   },
   "outputs": [
    {
     "name": "stdout",
     "output_type": "stream",
     "text": [
      "The probability that a company has a branch that moved is   17.597 %\n"
     ]
    }
   ],
   "source": [
    "prob_company_moved = num_companies_moved/ num_unique_companies\n",
    "print(\"The probability that a company has a branch that moved is %8.3f %%\" % (100*prob_company_moved)) "
   ]
  },
  {
   "cell_type": "markdown",
   "metadata": {},
   "source": [
    "## By Year:"
   ]
  },
  {
   "cell_type": "code",
   "execution_count": 45,
   "metadata": {
    "collapsed": false
   },
   "outputs": [
    {
     "name": "stdout",
     "output_type": "stream",
     "text": [
      "2013 \n",
      " 0.04540728448669465\n",
      "2014 \n",
      " 0.06119873584686782\n",
      "2015 \n",
      " 0.06543979240695494\n",
      "2016 \n",
      " 0.02015073258695808\n",
      "2017 \n",
      " 0.051707779078066736\n"
     ]
    }
   ],
   "source": [
    "year_to_check = [2013, 2014, 2015, 2016, 2017]\n",
    "\n",
    "for this_year in year_to_check:\n",
    "    num_cs = data_df[data_df.year==this_year]['id_company'].nunique()\n",
    "    num_moved = data_df[(data_df.year==this_year) & (data_df.has_relocated_next_year==True)]['id_company'].nunique()\n",
    "    print(this_year, \"\\n\", num_moved / num_cs)"
   ]
  },
  {
   "cell_type": "markdown",
   "metadata": {},
   "source": [
    "<a id='prob_branch_moves'></a>\n",
    "## Probability that a branch moves:\n",
    "\n",
    "<a href=#top>Top</a>"
   ]
  },
  {
   "cell_type": "code",
   "execution_count": 47,
   "metadata": {
    "collapsed": false
   },
   "outputs": [
    {
     "name": "stdout",
     "output_type": "stream",
     "text": [
      "The total number of branches in the dataset is 2175405\n"
     ]
    }
   ],
   "source": [
    "num_unique_branches=data_df['unique_id'].nunique()\n",
    "print(\"The total number of branches in the dataset is %0.3d\" % num_unique_branches) "
   ]
  },
  {
   "cell_type": "code",
   "execution_count": 48,
   "metadata": {
    "collapsed": false
   },
   "outputs": [
    {
     "name": "stdout",
     "output_type": "stream",
     "text": [
      "The number of branches involved in a move is 356735\n"
     ]
    }
   ],
   "source": [
    "num_branches_moved = data_df[data_df.has_relocated_next_year==True]['unique_id'].nunique()\n",
    "print(\"The number of branches involved in a move is %0.3d\" % num_branches_moved) "
   ]
  },
  {
   "cell_type": "code",
   "execution_count": 49,
   "metadata": {
    "collapsed": false
   },
   "outputs": [
    {
     "name": "stdout",
     "output_type": "stream",
     "text": [
      "The probability that a branch moved is   16.399 %\n"
     ]
    }
   ],
   "source": [
    "prob_branch_moved = num_branches_moved/ num_unique_branches\n",
    "print(\"The probability that a branch moved is %8.3f %%\" % (100*prob_branch_moved)) "
   ]
  },
  {
   "cell_type": "markdown",
   "metadata": {},
   "source": [
    "## Branch move probability by Year:"
   ]
  },
  {
   "cell_type": "code",
   "execution_count": 46,
   "metadata": {
    "collapsed": false
   },
   "outputs": [
    {
     "name": "stdout",
     "output_type": "stream",
     "text": [
      "2013 \n",
      " 0.04159163956704081\n",
      "2014 \n",
      " 0.05635376567638402\n",
      "2015 \n",
      " 0.060606776994088146\n",
      "2016 \n",
      " 0.018762008592215194\n",
      "2017 \n",
      " 0.04839372795048649\n"
     ]
    }
   ],
   "source": [
    "year_to_check = [2013, 2014, 2015, 2016, 2017]\n",
    "\n",
    "for this_year in year_to_check:\n",
    "    num_cs = data_df[data_df.year==this_year]['unique_id'].nunique()\n",
    "    num_moved = data_df[(data_df.year==this_year) & (data_df.has_relocated_next_year==True)]['unique_id'].nunique()\n",
    "    print(this_year, \"\\n\", num_moved / num_cs)"
   ]
  },
  {
   "cell_type": "markdown",
   "metadata": {
    "collapsed": true
   },
   "source": [
    "<a id='plot_probabilities'></a>\n",
    "# Plot Probabilities\n",
    "\n",
    "\n",
    "<a href=#top>Top</a>"
   ]
  },
  {
   "cell_type": "code",
   "execution_count": 50,
   "metadata": {
    "collapsed": false
   },
   "outputs": [
    {
     "data": {
      "image/png": "[encoded data removed]",
      "text/plain": [
       "<Figure size 432x288 with 1 Axes>"
      ]
     },
     "metadata": {
      "needs_background": "light"
     },
     "output_type": "display_data"
    }
   ],
   "source": [
    "prob_moved = data_df[data_df.has_relocated_next_year==True].shape[0]/ data_df.shape[0]\n",
    "\n",
    "x_labels = (\"Overall_Probability\", \"Company_Probability\", \"Branch_Probability\")\n",
    "y_pos = np.arange(len(x_labels))\n",
    "all_probabilities = [prob_moved, prob_company_moved, prob_branch_moved]\n",
    "\n",
    "all_probabilities = [i * 100 for i in all_probabilities]\n",
    " \n",
    "plt.bar(y_pos, all_probabilities, align='center', alpha=0.5)\n",
    "plt.xticks(y_pos, x_labels)\n",
    "plt.ylabel('Usage')\n",
    "plt.title('Move Probabilities')\n",
    " \n",
    "plt.show()"
   ]
  },
  {
   "cell_type": "markdown",
   "metadata": {},
   "source": [
    "<a id='bottom'></a>\n",
    "\n",
    "<a href=#top>Top</a>\n",
    "\n",
    "# End"
   ]
  }
 ],
 "metadata": {
  "kernelspec": {
   "display_name": "Python 3",
   "language": "python",
   "name": "python3"
  },
  "language_info": {
   "codemirror_mode": {
    "name": "ipython",
    "version": 3
   },
   "file_extension": ".py",
   "mimetype": "text/x-python",
   "name": "python",
   "nbconvert_exporter": "python",
   "pygments_lexer": "ipython3",
   "version": "3.5.5"
  }
 },
 "nbformat": 4,
 "nbformat_minor": 0
}
