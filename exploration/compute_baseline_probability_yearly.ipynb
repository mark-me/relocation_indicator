{
 "cells": [
  {
   "cell_type": "markdown",
   "metadata": {},
   "source": [
    "# Compute Baseline for Yearly Aggregated Data"
   ]
  },
  {
   "cell_type": "markdown",
   "metadata": {},
   "source": [
    "<a id='top'></a>\n",
    "\n",
    "<a href=#readdata>Read in Data</a>\n",
    "\n",
    "<a href=#overall_probability>Overall Probability of moving in Dataset</a>\n",
    "\n",
    "<a href=#move_by_year>Move Probability by Year</a>\n",
    "\n",
    "<a href=#prob_company_moves>Probability that Company Moves</a>\n",
    "\n",
    "<a href=#prob_branch_moves>Probability that Branch Moves</a>\n",
    "\n",
    "<a href=#plot_probabilities>Plot Probabilities</a>\n",
    "\n",
    "<a href=#bottom>End of File</a>\n"
   ]
  },
  {
   "cell_type": "code",
   "execution_count": 1,
   "metadata": {
    "collapsed": true
   },
   "outputs": [],
   "source": [
    "\n",
    "import pandas as pd\n",
    "import gcsfs\n",
    "from google.cloud import storage\n",
    "from pandas import DataFrame\n",
    "from IPython.display import HTML\n",
    "from google.cloud.storage import Blob\n",
    "import datalab.storage as gcs_datalab\n",
    "import numpy as np\n",
    "from sklearn.linear_model import LogisticRegression\n",
    "from sklearn import metrics\n",
    "from sklearn.model_selection import train_test_split\n",
    "import matplotlib.pyplot as plt \n",
    "import pandas as pd\n",
    "import numpy as np\n",
    "from sklearn import preprocessing\n",
    "import matplotlib.pyplot as plt \n",
    "import seaborn as sns\n"
   ]
  },
  {
   "cell_type": "markdown",
   "metadata": {},
   "source": [
    "<a id='readdata'></a>\n",
    "# Read in data\n",
    "\n",
    "<a href=#top>Top</a>"
   ]
  },
  {
   "cell_type": "code",
   "execution_count": 32,
   "metadata": {
    "collapsed": false
   },
   "outputs": [
    {
     "name": "stderr",
     "output_type": "stream",
     "text": [
      "/home/mrodriguezlara/graydon/graydon-moving/lib/python3.5/site-packages/IPython/core/interactiveshell.py:3020: DtypeWarning: Columns (4) have mixed types. Specify dtype option on import or set low_memory=False.\n",
      "  interactivity=interactivity, compiler=compiler, result=result)\n"
     ]
    }
   ],
   "source": [
    "data_df0 = pd.read_csv('2015_aggregated.csv')\n",
    "\n",
    "data_df1 = pd.read_csv('2016_aggregated.csv')\n",
    "\n",
    "data_df2 = pd.read_csv('2017_aggregated.csv')"
   ]
  },
  {
   "cell_type": "code",
   "execution_count": 35,
   "metadata": {
    "collapsed": false
   },
   "outputs": [],
   "source": [
    "data_df = data_df0.append(data_df1).append(data_df2)"
   ]
  },
  {
   "cell_type": "code",
   "execution_count": 43,
   "metadata": {
    "collapsed": false
   },
   "outputs": [
    {
     "data": {
      "text/plain": [
       "Index(['Unnamed: 0', 'id_branch', 'id_company', 'date_month', 'code_sbi_1',\n",
       "       'has_relocated', 'has_name_change', 'delta_qty_employees',\n",
       "       'delta_qty_issued_credit_reports', 'delta_score_payment_assessment',\n",
       "       'code_legal_form_has_changed', 'SBI_has_changed', 'company_age',\n",
       "       'years_since_last_amt_consolidated_operating_result',\n",
       "       'years_since_last_amt_consolidated_revenue',\n",
       "       'years_since_last_amt_operating_result',\n",
       "       'years_since_last_qty_employees', 'years_since_last_amt_revenue',\n",
       "       'years_in_current_location',\n",
       "       'ratio_operating_result_consolidated_operating_result',\n",
       "       'ratio_revenue_consolidated_revenue', 'unique_id', 'qty_green_flags',\n",
       "       'qty_orange_flags', 'qty_red_flags', 'A', 'AA', 'AAA', 'B', 'BB', 'BBB',\n",
       "       'C', 'CC', 'CCC', 'D', 'NR', 'code_legal_form_group_1',\n",
       "       'code_legal_form_group_2', 'SBI_group_1', 'SBI_group_2',\n",
       "       'is_discontinued_any', 'has_financial_calamity',\n",
       "       'mean_amt_consolidated_operating_result',\n",
       "       'mean_amt_consolidated_revenue', 'mean_amt_operating_result',\n",
       "       'mean_amt_revenue', 'mean_qty_employees',\n",
       "       'mean_qty_issued_credit_reports', 'mean_score_payment_assessment',\n",
       "       'mean_score_pd', 'qty_address_mutations_year', 'qty_started_names_year',\n",
       "       'qty_stopped_names_year', 'qty_board_changes_year',\n",
       "       'variance_qty_employees', 'variance_qty_issued_credit_reports',\n",
       "       'variance_score_payment_assessment', 'variance_score_pd',\n",
       "       'has_relocated_next_year'],\n",
       "      dtype='object')"
      ]
     },
     "execution_count": 43,
     "metadata": {},
     "output_type": "execute_result"
    }
   ],
   "source": [
    "data_df.columns"
   ]
  },
  {
   "cell_type": "code",
   "execution_count": 39,
   "metadata": {
    "collapsed": false
   },
   "outputs": [
    {
     "data": {
      "text/html": [
       "<div>\n",
       "<style scoped>\n",
       "    .dataframe tbody tr th:only-of-type {\n",
       "        vertical-align: middle;\n",
       "    }\n",
       "\n",
       "    .dataframe tbody tr th {\n",
       "        vertical-align: top;\n",
       "    }\n",
       "\n",
       "    .dataframe thead th {\n",
       "        text-align: right;\n",
       "    }\n",
       "</style>\n",
       "<table border=\"1\" class=\"dataframe\">\n",
       "  <thead>\n",
       "    <tr style=\"text-align: right;\">\n",
       "      <th></th>\n",
       "      <th>Unnamed: 0</th>\n",
       "      <th>id_branch</th>\n",
       "      <th>id_company</th>\n",
       "      <th>date_month</th>\n",
       "      <th>code_sbi_1</th>\n",
       "      <th>has_relocated</th>\n",
       "      <th>has_name_change</th>\n",
       "      <th>delta_qty_employees</th>\n",
       "      <th>delta_qty_issued_credit_reports</th>\n",
       "      <th>delta_score_payment_assessment</th>\n",
       "      <th>...</th>\n",
       "      <th>mean_score_pd</th>\n",
       "      <th>qty_address_mutations_year</th>\n",
       "      <th>qty_started_names_year</th>\n",
       "      <th>qty_stopped_names_year</th>\n",
       "      <th>qty_board_changes_year</th>\n",
       "      <th>variance_qty_employees</th>\n",
       "      <th>variance_qty_issued_credit_reports</th>\n",
       "      <th>variance_score_payment_assessment</th>\n",
       "      <th>variance_score_pd</th>\n",
       "      <th>has_relocated_next_year</th>\n",
       "    </tr>\n",
       "  </thead>\n",
       "  <tbody>\n",
       "    <tr>\n",
       "      <th>0</th>\n",
       "      <td>0</td>\n",
       "      <td>0</td>\n",
       "      <td>428134.0</td>\n",
       "      <td>2015-01-01</td>\n",
       "      <td>NaN</td>\n",
       "      <td>False</td>\n",
       "      <td>False</td>\n",
       "      <td>NaN</td>\n",
       "      <td>0.0</td>\n",
       "      <td>0.0</td>\n",
       "      <td>...</td>\n",
       "      <td>NaN</td>\n",
       "      <td>0.0</td>\n",
       "      <td>0.0</td>\n",
       "      <td>0.0</td>\n",
       "      <td>0.0</td>\n",
       "      <td>NaN</td>\n",
       "      <td>0.0</td>\n",
       "      <td>0.0</td>\n",
       "      <td>0.0</td>\n",
       "      <td>False</td>\n",
       "    </tr>\n",
       "    <tr>\n",
       "      <th>1</th>\n",
       "      <td>1</td>\n",
       "      <td>0</td>\n",
       "      <td>803351.0</td>\n",
       "      <td>2015-01-01</td>\n",
       "      <td>NaN</td>\n",
       "      <td>False</td>\n",
       "      <td>False</td>\n",
       "      <td>NaN</td>\n",
       "      <td>0.0</td>\n",
       "      <td>0.0</td>\n",
       "      <td>...</td>\n",
       "      <td>NaN</td>\n",
       "      <td>0.0</td>\n",
       "      <td>0.0</td>\n",
       "      <td>0.0</td>\n",
       "      <td>0.0</td>\n",
       "      <td>NaN</td>\n",
       "      <td>0.0</td>\n",
       "      <td>0.0</td>\n",
       "      <td>0.0</td>\n",
       "      <td>False</td>\n",
       "    </tr>\n",
       "    <tr>\n",
       "      <th>2</th>\n",
       "      <td>2</td>\n",
       "      <td>0</td>\n",
       "      <td>810695.0</td>\n",
       "      <td>2015-01-01</td>\n",
       "      <td>NaN</td>\n",
       "      <td>False</td>\n",
       "      <td>False</td>\n",
       "      <td>NaN</td>\n",
       "      <td>0.0</td>\n",
       "      <td>0.0</td>\n",
       "      <td>...</td>\n",
       "      <td>NaN</td>\n",
       "      <td>0.0</td>\n",
       "      <td>0.0</td>\n",
       "      <td>0.0</td>\n",
       "      <td>0.0</td>\n",
       "      <td>NaN</td>\n",
       "      <td>0.0</td>\n",
       "      <td>0.0</td>\n",
       "      <td>0.0</td>\n",
       "      <td>False</td>\n",
       "    </tr>\n",
       "    <tr>\n",
       "      <th>3</th>\n",
       "      <td>3</td>\n",
       "      <td>0</td>\n",
       "      <td>811258.0</td>\n",
       "      <td>2015-01-01</td>\n",
       "      <td>NaN</td>\n",
       "      <td>False</td>\n",
       "      <td>False</td>\n",
       "      <td>NaN</td>\n",
       "      <td>0.0</td>\n",
       "      <td>0.0</td>\n",
       "      <td>...</td>\n",
       "      <td>NaN</td>\n",
       "      <td>0.0</td>\n",
       "      <td>0.0</td>\n",
       "      <td>0.0</td>\n",
       "      <td>0.0</td>\n",
       "      <td>NaN</td>\n",
       "      <td>0.0</td>\n",
       "      <td>0.0</td>\n",
       "      <td>0.0</td>\n",
       "      <td>False</td>\n",
       "    </tr>\n",
       "    <tr>\n",
       "      <th>4</th>\n",
       "      <td>4</td>\n",
       "      <td>0</td>\n",
       "      <td>811333.0</td>\n",
       "      <td>2015-01-01</td>\n",
       "      <td>NaN</td>\n",
       "      <td>False</td>\n",
       "      <td>False</td>\n",
       "      <td>NaN</td>\n",
       "      <td>0.0</td>\n",
       "      <td>0.0</td>\n",
       "      <td>...</td>\n",
       "      <td>NaN</td>\n",
       "      <td>0.0</td>\n",
       "      <td>0.0</td>\n",
       "      <td>0.0</td>\n",
       "      <td>0.0</td>\n",
       "      <td>NaN</td>\n",
       "      <td>0.0</td>\n",
       "      <td>0.0</td>\n",
       "      <td>0.0</td>\n",
       "      <td>False</td>\n",
       "    </tr>\n",
       "  </tbody>\n",
       "</table>\n",
       "<p>5 rows × 59 columns</p>\n",
       "</div>"
      ],
      "text/plain": [
       "   Unnamed: 0  id_branch  id_company  date_month code_sbi_1  has_relocated  \\\n",
       "0           0          0    428134.0  2015-01-01        NaN          False   \n",
       "1           1          0    803351.0  2015-01-01        NaN          False   \n",
       "2           2          0    810695.0  2015-01-01        NaN          False   \n",
       "3           3          0    811258.0  2015-01-01        NaN          False   \n",
       "4           4          0    811333.0  2015-01-01        NaN          False   \n",
       "\n",
       "   has_name_change  delta_qty_employees  delta_qty_issued_credit_reports  \\\n",
       "0            False                  NaN                              0.0   \n",
       "1            False                  NaN                              0.0   \n",
       "2            False                  NaN                              0.0   \n",
       "3            False                  NaN                              0.0   \n",
       "4            False                  NaN                              0.0   \n",
       "\n",
       "   delta_score_payment_assessment           ...             mean_score_pd  \\\n",
       "0                             0.0           ...                       NaN   \n",
       "1                             0.0           ...                       NaN   \n",
       "2                             0.0           ...                       NaN   \n",
       "3                             0.0           ...                       NaN   \n",
       "4                             0.0           ...                       NaN   \n",
       "\n",
       "   qty_address_mutations_year  qty_started_names_year  qty_stopped_names_year  \\\n",
       "0                         0.0                     0.0                     0.0   \n",
       "1                         0.0                     0.0                     0.0   \n",
       "2                         0.0                     0.0                     0.0   \n",
       "3                         0.0                     0.0                     0.0   \n",
       "4                         0.0                     0.0                     0.0   \n",
       "\n",
       "   qty_board_changes_year  variance_qty_employees  \\\n",
       "0                     0.0                     NaN   \n",
       "1                     0.0                     NaN   \n",
       "2                     0.0                     NaN   \n",
       "3                     0.0                     NaN   \n",
       "4                     0.0                     NaN   \n",
       "\n",
       "   variance_qty_issued_credit_reports  variance_score_payment_assessment  \\\n",
       "0                                 0.0                                0.0   \n",
       "1                                 0.0                                0.0   \n",
       "2                                 0.0                                0.0   \n",
       "3                                 0.0                                0.0   \n",
       "4                                 0.0                                0.0   \n",
       "\n",
       "   variance_score_pd  has_relocated_next_year  \n",
       "0                0.0                    False  \n",
       "1                0.0                    False  \n",
       "2                0.0                    False  \n",
       "3                0.0                    False  \n",
       "4                0.0                    False  \n",
       "\n",
       "[5 rows x 59 columns]"
      ]
     },
     "execution_count": 39,
     "metadata": {},
     "output_type": "execute_result"
    }
   ],
   "source": [
    "data_df.head()"
   ]
  },
  {
   "cell_type": "code",
   "execution_count": 62,
   "metadata": {
    "collapsed": false
   },
   "outputs": [],
   "source": [
    "data_df['year'] = pd.DatetimeIndex(data_df['date_month']).year"
   ]
  },
  {
   "cell_type": "code",
   "execution_count": 63,
   "metadata": {
    "collapsed": false
   },
   "outputs": [
    {
     "data": {
      "text/html": [
       "<div>\n",
       "<style scoped>\n",
       "    .dataframe tbody tr th:only-of-type {\n",
       "        vertical-align: middle;\n",
       "    }\n",
       "\n",
       "    .dataframe tbody tr th {\n",
       "        vertical-align: top;\n",
       "    }\n",
       "\n",
       "    .dataframe thead tr th {\n",
       "        text-align: left;\n",
       "    }\n",
       "\n",
       "    .dataframe thead tr:last-of-type th {\n",
       "        text-align: right;\n",
       "    }\n",
       "</style>\n",
       "<table border=\"1\" class=\"dataframe\">\n",
       "  <thead>\n",
       "    <tr>\n",
       "      <th></th>\n",
       "      <th colspan=\"2\" halign=\"left\">Unnamed: 0</th>\n",
       "      <th colspan=\"2\" halign=\"left\">id_branch</th>\n",
       "      <th colspan=\"2\" halign=\"left\">id_company</th>\n",
       "      <th colspan=\"2\" halign=\"left\">has_relocated</th>\n",
       "      <th colspan=\"2\" halign=\"left\">has_name_change</th>\n",
       "      <th>...</th>\n",
       "      <th colspan=\"2\" halign=\"left\">qty_board_changes_year</th>\n",
       "      <th colspan=\"2\" halign=\"left\">variance_qty_employees</th>\n",
       "      <th colspan=\"2\" halign=\"left\">variance_qty_issued_credit_reports</th>\n",
       "      <th colspan=\"2\" halign=\"left\">variance_score_payment_assessment</th>\n",
       "      <th colspan=\"2\" halign=\"left\">variance_score_pd</th>\n",
       "    </tr>\n",
       "    <tr>\n",
       "      <th></th>\n",
       "      <th>mean</th>\n",
       "      <th>count</th>\n",
       "      <th>mean</th>\n",
       "      <th>count</th>\n",
       "      <th>mean</th>\n",
       "      <th>count</th>\n",
       "      <th>mean</th>\n",
       "      <th>count</th>\n",
       "      <th>mean</th>\n",
       "      <th>count</th>\n",
       "      <th>...</th>\n",
       "      <th>mean</th>\n",
       "      <th>count</th>\n",
       "      <th>mean</th>\n",
       "      <th>count</th>\n",
       "      <th>mean</th>\n",
       "      <th>count</th>\n",
       "      <th>mean</th>\n",
       "      <th>count</th>\n",
       "      <th>mean</th>\n",
       "      <th>count</th>\n",
       "    </tr>\n",
       "    <tr>\n",
       "      <th>year</th>\n",
       "      <th></th>\n",
       "      <th></th>\n",
       "      <th></th>\n",
       "      <th></th>\n",
       "      <th></th>\n",
       "      <th></th>\n",
       "      <th></th>\n",
       "      <th></th>\n",
       "      <th></th>\n",
       "      <th></th>\n",
       "      <th></th>\n",
       "      <th></th>\n",
       "      <th></th>\n",
       "      <th></th>\n",
       "      <th></th>\n",
       "      <th></th>\n",
       "      <th></th>\n",
       "      <th></th>\n",
       "      <th></th>\n",
       "      <th></th>\n",
       "      <th></th>\n",
       "    </tr>\n",
       "  </thead>\n",
       "  <tbody>\n",
       "    <tr>\n",
       "      <th>2015</th>\n",
       "      <td>945470.0</td>\n",
       "      <td>1890941</td>\n",
       "      <td>3.638208e+07</td>\n",
       "      <td>1890941</td>\n",
       "      <td>7.533486e+08</td>\n",
       "      <td>1890941</td>\n",
       "      <td>0.006781</td>\n",
       "      <td>1890941</td>\n",
       "      <td>0.002448</td>\n",
       "      <td>1890941</td>\n",
       "      <td>...</td>\n",
       "      <td>0.265753</td>\n",
       "      <td>1890941</td>\n",
       "      <td>10192.130654</td>\n",
       "      <td>1579770</td>\n",
       "      <td>0.140032</td>\n",
       "      <td>1878229</td>\n",
       "      <td>279.741575</td>\n",
       "      <td>1890941</td>\n",
       "      <td>-40.559148</td>\n",
       "      <td>1890941</td>\n",
       "    </tr>\n",
       "    <tr>\n",
       "      <th>2016</th>\n",
       "      <td>965050.5</td>\n",
       "      <td>1930102</td>\n",
       "      <td>3.792115e+07</td>\n",
       "      <td>1930102</td>\n",
       "      <td>7.632112e+08</td>\n",
       "      <td>1930102</td>\n",
       "      <td>0.006343</td>\n",
       "      <td>1930102</td>\n",
       "      <td>0.002408</td>\n",
       "      <td>1930102</td>\n",
       "      <td>...</td>\n",
       "      <td>0.266569</td>\n",
       "      <td>1930102</td>\n",
       "      <td>2296.814322</td>\n",
       "      <td>1614108</td>\n",
       "      <td>0.125883</td>\n",
       "      <td>1917383</td>\n",
       "      <td>277.497118</td>\n",
       "      <td>1930102</td>\n",
       "      <td>-40.481498</td>\n",
       "      <td>1930102</td>\n",
       "    </tr>\n",
       "    <tr>\n",
       "      <th>2017</th>\n",
       "      <td>983103.5</td>\n",
       "      <td>1966208</td>\n",
       "      <td>3.950941e+07</td>\n",
       "      <td>1966208</td>\n",
       "      <td>7.722793e+08</td>\n",
       "      <td>1966208</td>\n",
       "      <td>0.006163</td>\n",
       "      <td>1966208</td>\n",
       "      <td>0.001936</td>\n",
       "      <td>1966208</td>\n",
       "      <td>...</td>\n",
       "      <td>0.247831</td>\n",
       "      <td>1966208</td>\n",
       "      <td>1144.791014</td>\n",
       "      <td>1661273</td>\n",
       "      <td>0.096303</td>\n",
       "      <td>1953013</td>\n",
       "      <td>274.795588</td>\n",
       "      <td>1966208</td>\n",
       "      <td>-39.784267</td>\n",
       "      <td>1966208</td>\n",
       "    </tr>\n",
       "  </tbody>\n",
       "</table>\n",
       "<p>3 rows × 110 columns</p>\n",
       "</div>"
      ],
      "text/plain": [
       "     Unnamed: 0              id_branch             id_company           \\\n",
       "           mean    count          mean    count          mean    count   \n",
       "year                                                                     \n",
       "2015   945470.0  1890941  3.638208e+07  1890941  7.533486e+08  1890941   \n",
       "2016   965050.5  1930102  3.792115e+07  1930102  7.632112e+08  1930102   \n",
       "2017   983103.5  1966208  3.950941e+07  1966208  7.722793e+08  1966208   \n",
       "\n",
       "     has_relocated          has_name_change            ...     \\\n",
       "              mean    count            mean    count   ...      \n",
       "year                                                   ...      \n",
       "2015      0.006781  1890941        0.002448  1890941   ...      \n",
       "2016      0.006343  1930102        0.002408  1930102   ...      \n",
       "2017      0.006163  1966208        0.001936  1966208   ...      \n",
       "\n",
       "     qty_board_changes_year          variance_qty_employees           \\\n",
       "                       mean    count                   mean    count   \n",
       "year                                                                   \n",
       "2015               0.265753  1890941           10192.130654  1579770   \n",
       "2016               0.266569  1930102            2296.814322  1614108   \n",
       "2017               0.247831  1966208            1144.791014  1661273   \n",
       "\n",
       "     variance_qty_issued_credit_reports           \\\n",
       "                                   mean    count   \n",
       "year                                               \n",
       "2015                           0.140032  1878229   \n",
       "2016                           0.125883  1917383   \n",
       "2017                           0.096303  1953013   \n",
       "\n",
       "     variance_score_payment_assessment          variance_score_pd           \n",
       "                                  mean    count              mean    count  \n",
       "year                                                                        \n",
       "2015                        279.741575  1890941        -40.559148  1890941  \n",
       "2016                        277.497118  1930102        -40.481498  1930102  \n",
       "2017                        274.795588  1966208        -39.784267  1966208  \n",
       "\n",
       "[3 rows x 110 columns]"
      ]
     },
     "execution_count": 63,
     "metadata": {},
     "output_type": "execute_result"
    }
   ],
   "source": [
    "data_df.groupby(['year']).agg(['mean', 'count'])"
   ]
  },
  {
   "cell_type": "code",
   "execution_count": 64,
   "metadata": {
    "collapsed": false
   },
   "outputs": [
    {
     "data": {
      "text/plain": [
       "year\n",
       "2015    1890941\n",
       "2016    1930102\n",
       "2017    1966208\n",
       "dtype: int64"
      ]
     },
     "execution_count": 64,
     "metadata": {},
     "output_type": "execute_result"
    }
   ],
   "source": [
    "data_df.groupby(['year']).size()"
   ]
  },
  {
   "cell_type": "code",
   "execution_count": 80,
   "metadata": {
    "collapsed": true
   },
   "outputs": [],
   "source": [
    "data_df[data_df.has_relocated_next_year.isna()] = 0"
   ]
  },
  {
   "cell_type": "markdown",
   "metadata": {},
   "source": [
    "<a id='overall_probability'></a>\n",
    "\n",
    "# Overall Probability that branch moves \n",
    "\n",
    "<a href=#top>Top</a>"
   ]
  },
  {
   "cell_type": "code",
   "execution_count": 65,
   "metadata": {
    "collapsed": false
   },
   "outputs": [
    {
     "data": {
      "text/plain": [
       "False    5327484\n",
       "True      236577\n",
       "Name: has_relocated_next_year, dtype: int64"
      ]
     },
     "execution_count": 65,
     "metadata": {},
     "output_type": "execute_result"
    }
   ],
   "source": [
    "data_df['has_relocated_next_year'].value_counts()"
   ]
  },
  {
   "cell_type": "code",
   "execution_count": 81,
   "metadata": {
    "collapsed": false
   },
   "outputs": [
    {
     "data": {
      "text/plain": [
       "False    0.959121\n",
       "True     0.040879\n",
       "Name: has_relocated_next_year, dtype: float64"
      ]
     },
     "execution_count": 81,
     "metadata": {},
     "output_type": "execute_result"
    }
   ],
   "source": [
    "data_df['has_relocated_next_year'].value_counts() / data_df.shape[0]"
   ]
  },
  {
   "cell_type": "markdown",
   "metadata": {},
   "source": [
    "<a id='move_by_year'></a>\n",
    "# Move Probability By Year:\n",
    "<a href=#top>Top</a>"
   ]
  },
  {
   "cell_type": "code",
   "execution_count": 82,
   "metadata": {
    "collapsed": false
   },
   "outputs": [
    {
     "data": {
      "text/plain": [
       "year  has_relocated_next_year\n",
       "0     False                       223190\n",
       "2015  False                      1708652\n",
       "      True                        110237\n",
       "2016  False                      1818077\n",
       "      True                         34763\n",
       "2017  False                      1800755\n",
       "      True                         91577\n",
       "Name: has_relocated_next_year, dtype: int64"
      ]
     },
     "execution_count": 82,
     "metadata": {},
     "output_type": "execute_result"
    }
   ],
   "source": [
    "data_df.groupby(['year'])['has_relocated_next_year'].value_counts() "
   ]
  },
  {
   "cell_type": "code",
   "execution_count": 83,
   "metadata": {
    "collapsed": false
   },
   "outputs": [
    {
     "name": "stdout",
     "output_type": "stream",
     "text": [
      "2015 \n",
      " False    0.939393\n",
      "True     0.060607\n",
      "Name: has_relocated_next_year, dtype: float64\n",
      "2016 \n",
      " False    0.981238\n",
      "True     0.018762\n",
      "Name: has_relocated_next_year, dtype: float64\n",
      "2017 \n",
      " False    0.951606\n",
      "True     0.048394\n",
      "Name: has_relocated_next_year, dtype: float64\n"
     ]
    }
   ],
   "source": [
    "year_to_check = [2015, 2016, 2017]\n",
    "#year_to_check = [2015]\n",
    "\n",
    "for this_year in year_to_check: \n",
    "    print(this_year, \"\\n\",\n",
    "          data_df[data_df.year==this_year]['has_relocated_next_year'].value_counts() / data_df[data_df.year==this_year].shape[0])"
   ]
  },
  {
   "cell_type": "markdown",
   "metadata": {},
   "source": [
    "\n",
    "<a id='prob_company_moves'></a>\n",
    "# Probability that company moves over the whole dataset:\n",
    "\n",
    "<a href=#top>Top</a>\n",
    "\n",
    "\n",
    "Calculate the probability that any company has a branch that moves in the dataset.  Companies that have multiple moves do not affect the probability of move."
   ]
  },
  {
   "cell_type": "code",
   "execution_count": 87,
   "metadata": {
    "collapsed": false
   },
   "outputs": [
    {
     "name": "stdout",
     "output_type": "stream",
     "text": [
      "The total number of companies in the dataset is 1888178\n"
     ]
    }
   ],
   "source": [
    "# Find number of unique companies:\n",
    "num_unique_companies=data_df['id_company'].nunique()\n",
    "print(\"The total number of companies in the dataset is %0.3d\" % num_unique_companies) "
   ]
  },
  {
   "cell_type": "code",
   "execution_count": 88,
   "metadata": {
    "collapsed": false
   },
   "outputs": [
    {
     "name": "stdout",
     "output_type": "stream",
     "text": [
      "The number of companies involved in a move is 220295\n"
     ]
    }
   ],
   "source": [
    "num_companies_moved = data_df[data_df.has_relocated_next_year==True]['id_company'].nunique()\n",
    "print(\"The number of companies involved in a move is %0.3d\" % num_companies_moved) "
   ]
  },
  {
   "cell_type": "code",
   "execution_count": 89,
   "metadata": {
    "collapsed": false
   },
   "outputs": [
    {
     "name": "stdout",
     "output_type": "stream",
     "text": [
      "The probability that a company has a branch that moved is   11.667 %\n"
     ]
    }
   ],
   "source": [
    "prob_company_moved = num_companies_moved/ num_unique_companies\n",
    "print(\"The probability that a company has a branch that moved is %8.3f %%\" % (100*prob_company_moved)) "
   ]
  },
  {
   "cell_type": "markdown",
   "metadata": {},
   "source": [
    "<a id='prob_branch_moves'></a>\n",
    "## Probability that a branch moves:\n",
    "\n",
    "<a href=#top>Top</a>"
   ]
  },
  {
   "cell_type": "code",
   "execution_count": 90,
   "metadata": {
    "collapsed": false
   },
   "outputs": [
    {
     "name": "stdout",
     "output_type": "stream",
     "text": [
      "The total number of branches in the dataset is 2036213\n"
     ]
    }
   ],
   "source": [
    "num_unique_branches=data_df['id_branch'].nunique()\n",
    "print(\"The total number of branches in the dataset is %0.3d\" % num_unique_branches) "
   ]
  },
  {
   "cell_type": "code",
   "execution_count": 91,
   "metadata": {
    "collapsed": false
   },
   "outputs": [
    {
     "name": "stdout",
     "output_type": "stream",
     "text": [
      "The number of branches involved in a move is 221967\n"
     ]
    }
   ],
   "source": [
    "num_branches_moved = data_df[data_df.has_relocated_next_year==True]['id_branch'].nunique()\n",
    "print(\"The number of branches involved in a move is %0.3d\" % num_branches_moved) "
   ]
  },
  {
   "cell_type": "code",
   "execution_count": 92,
   "metadata": {
    "collapsed": false
   },
   "outputs": [
    {
     "name": "stdout",
     "output_type": "stream",
     "text": [
      "The probability that a branch moved is   10.901 %\n"
     ]
    }
   ],
   "source": [
    "prob_branch_moved = num_branches_moved/ num_unique_branches\n",
    "print(\"The probability that a branch moved is %8.3f %%\" % (100*prob_branch_moved)) "
   ]
  },
  {
   "cell_type": "markdown",
   "metadata": {
    "collapsed": true
   },
   "source": [
    "<a id='plot_probabilities'></a>\n",
    "# Plot Probabilities\n",
    "\n",
    "\n",
    "<a href=#top>Top</a>"
   ]
  },
  {
   "cell_type": "code",
   "execution_count": 93,
   "metadata": {
    "collapsed": false
   },
   "outputs": [
    {
     "data": {
      "image/png": "[encoded data removed]",
      "text/plain": [
       "<Figure size 432x288 with 1 Axes>"
      ]
     },
     "metadata": {
      "needs_background": "light"
     },
     "output_type": "display_data"
    }
   ],
   "source": [
    "x_labels = (\"Overall_Probability\", \"Company_Probability\", \"Branch_Probability\")\n",
    "y_pos = np.arange(len(x_labels))\n",
    "all_probabilities = [prob_moved, prob_company_moved, prob_branch_moved]\n",
    "\n",
    "all_probabilities = [i * 100 for i in all_probabilities]\n",
    " \n",
    "plt.bar(y_pos, all_probabilities, align='center', alpha=0.5)\n",
    "plt.xticks(y_pos, x_labels)\n",
    "plt.ylabel('Usage')\n",
    "plt.title('Move Probabilities')\n",
    " \n",
    "plt.show()"
   ]
  },
  {
   "cell_type": "markdown",
   "metadata": {},
   "source": [
    "<a id='bottom'></a>\n",
    "\n",
    "<a href=#top>Top</a>\n",
    "\n",
    "# End"
   ]
  }
 ],
 "metadata": {
  "kernelspec": {
   "display_name": "Python 3",
   "language": "python",
   "name": "python3"
  },
  "language_info": {
   "codemirror_mode": {
    "name": "ipython",
    "version": 3
   },
   "file_extension": ".py",
   "mimetype": "text/x-python",
   "name": "python",
   "nbconvert_exporter": "python",
   "pygments_lexer": "ipython3",
   "version": "3.5.5"
  }
 },
 "nbformat": 4,
 "nbformat_minor": 0
}
