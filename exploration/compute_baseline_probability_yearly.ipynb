{
 "cells": [
  {
   "cell_type": "markdown",
   "metadata": {},
   "source": [
    "# Compute Baseline for Yearly Aggregated Data"
   ]
  },
  {
   "cell_type": "markdown",
   "metadata": {},
   "source": [
    "<a id='top'></a>\n",
    "\n",
    "<a href=#readdata>Read in Data</a>\n",
    "\n",
    "<a href=#overall_probability>Overall Probability of moving in Dataset</a>\n",
    "\n",
    "<a href=#move_by_year>Move Probability by Year</a>\n",
    "\n",
    "<a href=#prob_company_moves>Probability that Company Moves</a>\n",
    "\n",
    "<a href=#prob_branch_moves>Probability that Branch Moves</a>\n",
    "\n",
    "<a href=#plot_probabilities>Plot Probabilities</a>\n",
    "\n",
    "<a href=#bottom>End of File</a>\n"
   ]
  },
  {
   "cell_type": "code",
   "execution_count": 1,
   "metadata": {
    "collapsed": true
   },
   "outputs": [],
   "source": [
    "\n",
    "import pandas as pd\n",
    "import gcsfs\n",
    "from google.cloud import storage\n",
    "from pandas import DataFrame\n",
    "from IPython.display import HTML\n",
    "from google.cloud.storage import Blob\n",
    "import datalab.storage as gcs_datalab\n",
    "import numpy as np\n",
    "from sklearn.linear_model import LogisticRegression\n",
    "from sklearn import metrics\n",
    "from sklearn.model_selection import train_test_split\n",
    "import matplotlib.pyplot as plt \n",
    "import pandas as pd\n",
    "import numpy as np\n",
    "from sklearn import preprocessing\n",
    "import matplotlib.pyplot as plt \n",
    "import seaborn as sns\n"
   ]
  },
  {
   "cell_type": "markdown",
   "metadata": {},
   "source": [
    "<a id='readdata'></a>\n",
    "# Read in data\n",
    "\n",
    "<a href=#top>Top</a>"
   ]
  },
  {
   "cell_type": "code",
   "execution_count": 2,
   "metadata": {
    "collapsed": false
   },
   "outputs": [
    {
     "name": "stdout",
     "output_type": "stream",
     "text": [
      "Starting with year:  2013\n",
      "03_aggregated\n",
      "Processing file:  03_aggregated/2013_aggregated.csv\n"
     ]
    },
    {
     "name": "stderr",
     "output_type": "stream",
     "text": [
      "/home/mrodriguezlara/graydon/graydon-moving/lib/python3.5/site-packages/IPython/core/interactiveshell.py:3185: DtypeWarning: Columns (4,58) have mixed types. Specify dtype option on import or set low_memory=False.\n",
      "  if (yield from self.run_code(code, result)):\n",
      "/home/mrodriguezlara/graydon/graydon-moving/lib/python3.5/site-packages/numpy/lib/arraysetops.py:522: FutureWarning: elementwise comparison failed; returning scalar instead, but in the future will perform elementwise comparison\n",
      "  mask |= (ar1 == a)\n"
     ]
    },
    {
     "name": "stdout",
     "output_type": "stream",
     "text": [
      "The number of rows of the year read is far is:  1811253\n",
      "Starting with year:  2014\n",
      "03_aggregated\n",
      "Processing file:  03_aggregated/2014_aggregated.csv\n"
     ]
    },
    {
     "name": "stderr",
     "output_type": "stream",
     "text": [
      "/home/mrodriguezlara/graydon/graydon-moving/lib/python3.5/site-packages/IPython/core/interactiveshell.py:3185: DtypeWarning: Columns (4) have mixed types. Specify dtype option on import or set low_memory=False.\n",
      "  if (yield from self.run_code(code, result)):\n"
     ]
    },
    {
     "name": "stdout",
     "output_type": "stream",
     "text": [
      "The number of rows of the year read is far is:  1852836\n",
      "Starting with year:  2015\n",
      "03_aggregated\n",
      "Processing file:  03_aggregated/2015_aggregated.csv\n",
      "The number of rows of the year read is far is:  1890941\n",
      "Starting with year:  2016\n",
      "03_aggregated\n",
      "Processing file:  03_aggregated/2016_aggregated.csv\n",
      "The number of rows of the year read is far is:  1930102\n"
     ]
    },
    {
     "name": "stderr",
     "output_type": "stream",
     "text": [
      "/home/mrodriguezlara/graydon/graydon-moving/lib/python3.5/site-packages/pandas/core/frame.py:6211: FutureWarning: Sorting because non-concatenation axis is not aligned. A future version\n",
      "of pandas will change to not sort by default.\n",
      "\n",
      "To accept the future behavior, pass 'sort=False'.\n",
      "\n",
      "To retain the current behavior and silence the warning, pass 'sort=True'.\n",
      "\n",
      "  sort=sort)\n"
     ]
    },
    {
     "name": "stdout",
     "output_type": "stream",
     "text": [
      "Starting with year:  2017\n",
      "03_aggregated\n",
      "Processing file:  03_aggregated/2017_aggregated.csv\n",
      "The number of rows of the year read is far is:  1966208\n",
      "The final number of rows of the basetable created is:  9451340\n"
     ]
    }
   ],
   "source": [
    "# Ignore 'dask' warning\n",
    "import pandas as pd\n",
    "import gcsfs\n",
    "from google.cloud import storage\n",
    "from pandas import DataFrame\n",
    "from IPython.display import HTML\n",
    "from google.cloud.storage import Blob\n",
    "import datalab.storage as gcs_datalab\n",
    "from datetime import date\n",
    "import numpy as np\n",
    "\n",
    "# Setting up constants. All required\n",
    "project = 'graydon-moving-indicator'\n",
    "bucket_name = 'graydon-data'\n",
    "\n",
    "# Initializing bucket\n",
    "fs = gcsfs.GCSFileSystem(project='graydon-moving-indicator')\n",
    "gcs = storage.Client()\n",
    "bucket = gcs.get_bucket(bucket_name)\n",
    "\n",
    "# Post-aggregation\n",
    "def create_dict_types_aggregated_data():\n",
    "    # Setting up dictionary of column types for the aggregated dataset\n",
    "    dtype={ \n",
    "        'id_company'  :np.float64,\n",
    "        'id_branch'    :np.int64, \n",
    "        'code_sbi_2'         : np.float64, \n",
    "        'has_relocated':bool,\n",
    "        'has_relocated_next_year ' : bool,\n",
    "        'has_name_change' : bool,\n",
    "        'qty_address_mutations_total' :np.float64,\n",
    "        'ratio_operating_result_consolidated_operating_result': np.float64,\n",
    "        'ratio_revenue_consolidated_revenue': np.float64,\n",
    "        'qty_green_flags'   :np.float64,\n",
    "        'qty_orange_flags'   :np.float64,\n",
    "        'qty_red_flags'   :np.float64,\n",
    "        'A'   :np.float64,\n",
    "        'AA'   :np.float64,\n",
    "        'AAA'   :np.float64,\n",
    "        'B'   :np.float64,\n",
    "        'BB'   :np.float64,\n",
    "        'BBB'   :np.float64,\n",
    "        'C'   :np.float64,\n",
    "        'CC'   :np.float64,\n",
    "        'CCC'   :np.float64,\n",
    "        'D'   :np.float64,\n",
    "        'NR'   :np.float64,\n",
    "        'code_legal_form_group_1':  np.int64,\n",
    "        'code_legal_form_group_2':  np.int64,\n",
    "        'SBI_group_1':  np.int64,\n",
    "        'SBI_group_2':  np.int64,\n",
    "        'company_age'   :np.float64,\n",
    "        'years_since_last_amt_consolidated_operating_result'   :np.float64,\n",
    "        'years_since_last_amt_consolidated_revenue'   :np.float64,\n",
    "        'years_since_last_amt_operating_result'   :np.float64,\n",
    "        'years_since_last_qty_employees'   :np.float64,\n",
    "        'years_since_last_amt_revenue'   :np.float64,\n",
    "        'delta_qty_employees'   :np.float64,\n",
    "        'delta_qty_issued_credit_reports'   :np.float64,\n",
    "        'delta_score_payment_assessment'   :np.float64,\n",
    "        'SBI_has_changed' : bool,\n",
    "        'unique_id' : object,\n",
    "        'code_legal_form_has_changed ' : bool,\n",
    "        'is_discontinued_any ' : bool,\n",
    "        'has_financial_calamity ' : bool,\n",
    "        'mean_amt_consolidated_operating_result'   :np.float64,\n",
    "        'mean_amt_consolidated_revenue'   :np.float64,\n",
    "        'mean_amt_operating_result'   :np.float64,\n",
    "        'mean_amt_revenue'   :np.float64,\n",
    "        'mean_qty_employees'   :np.float64,\n",
    "        'mean_qty_issued_credit_reports'   :np.float64,\n",
    "        'mean_score_payment_assessment'   :np.float64,\n",
    "        'mean_score_pd'   :np.float64,\n",
    "        'qty_address_mutations_year'   :np.float64,\n",
    "        'qty_started_names_year'   :np.float64,\n",
    "        'qty_stopped_names_year'   :np.float64,\n",
    "        'qty_board_changes_year'   :np.float64,\n",
    "        'variance_qty_employees'   :np.float64,\n",
    "        'variance_qty_issued_credit_reports'   :np.float64,\n",
    "        'variance_score_payment_assessment'   :np.float64,\n",
    "        'variance_score_pd'   :np.float64\n",
    "      }\n",
    "    return dtype\n",
    "\n",
    "def create_parse_dates_list_aggregated_data():\n",
    "    # Setting up dictionary of column types for the aggregated dataset\n",
    "    parse_dates= ['date_month', 'years_in_current_location']\n",
    "    return parse_dates\n",
    "\n",
    "def create_basetable(year_list, dir_prefix = ''):\n",
    "    \"\"\" Reads a whole year of data from the already aggregated files and creates basetable \"\"\"\n",
    "    dtype = create_dict_types_aggregated_data()\n",
    "    parse_dates = create_parse_dates_list_aggregated_data()\n",
    "    basetable = pd.DataFrame()\n",
    "    for year in year_list:\n",
    "        full_year_df = pd.DataFrame()\n",
    "        print('Starting with year: ', year)\n",
    "        print(dir_prefix)\n",
    "        blob_list = list(bucket.list_blobs(prefix=dir_prefix))    \n",
    "        for blob in blob_list:  \n",
    "            if year in blob.name:\n",
    "                print('Processing file: ', blob.name)\n",
    "                with fs.open('graydon-data/' + blob.name) as f:\n",
    "                    full_year_df = pd.read_csv(f, sep=',', index_col=0, dtype=dtype, parse_dates=parse_dates \n",
    "                                            )   \n",
    "                print('The number of rows of the year read is far is: ', full_year_df.shape[0])\n",
    "        basetable = basetable.append(full_year_df)\n",
    "    print('The final number of rows of the basetable created is: ', basetable.shape[0])\n",
    "    return basetable\n",
    "\n",
    "# Calling it\n",
    "data_df = create_basetable(year_list = ['2013', '2014', '2015', '2016', '2017'], dir_prefix ='03_aggregated')\n",
    "#data_df = create_basetable(year_list = ['2015', '2016'], dir_prefix ='03_aggregated')"
   ]
  },
  {
   "cell_type": "code",
   "execution_count": 3,
   "metadata": {
    "collapsed": false
   },
   "outputs": [
    {
     "data": {
      "text/plain": [
       "Index(['A', 'AA', 'AAA', 'B', 'BB', 'BBB', 'C', 'CC', 'CCC', 'D', 'NR',\n",
       "       'SBI_group_1', 'SBI_group_2', 'SBI_has_changed',\n",
       "       'code_legal_form_group_1', 'code_legal_form_group_2',\n",
       "       'code_legal_form_has_changed', 'code_sbi_1', 'company_age',\n",
       "       'date_month', 'delta_qty_employees', 'delta_qty_issued_credit_reports',\n",
       "       'delta_score_payment_assessment', 'has_financial_calamity',\n",
       "       'has_name_change', 'has_relocated', 'has_relocated_next_year',\n",
       "       'id_branch', 'id_company', 'is_discontinued_any',\n",
       "       'mean_amt_consolidated_operating_result',\n",
       "       'mean_amt_consolidated_revenue', 'mean_amt_operating_result',\n",
       "       'mean_amt_revenue', 'mean_qty_employees',\n",
       "       'mean_qty_issued_credit_reports', 'mean_score_payment_assessment',\n",
       "       'mean_score_pd', 'qty_address_mutations_year', 'qty_board_changes_year',\n",
       "       'qty_green_flags', 'qty_orange_flags', 'qty_red_flags',\n",
       "       'qty_started_names_year', 'qty_stopped_names_year',\n",
       "       'ratio_operating_result_consolidated_operating_result',\n",
       "       'ratio_revenue_consolidated_revenue', 'unique_id',\n",
       "       'variance_qty_employees', 'variance_qty_issued_credit_reports',\n",
       "       'variance_score_payment_assessment', 'variance_score_pd',\n",
       "       'years_in_current_location',\n",
       "       'years_since_last_amt_consolidated_operating_result',\n",
       "       'years_since_last_amt_consolidated_revenue',\n",
       "       'years_since_last_amt_operating_result', 'years_since_last_amt_revenue',\n",
       "       'years_since_last_qty_employees'],\n",
       "      dtype='object')"
      ]
     },
     "execution_count": 3,
     "metadata": {},
     "output_type": "execute_result"
    }
   ],
   "source": [
    "data_df.columns"
   ]
  },
  {
   "cell_type": "code",
   "execution_count": 4,
   "metadata": {
    "collapsed": false
   },
   "outputs": [
    {
     "data": {
      "text/html": [
       "<div>\n",
       "<style scoped>\n",
       "    .dataframe tbody tr th:only-of-type {\n",
       "        vertical-align: middle;\n",
       "    }\n",
       "\n",
       "    .dataframe tbody tr th {\n",
       "        vertical-align: top;\n",
       "    }\n",
       "\n",
       "    .dataframe thead th {\n",
       "        text-align: right;\n",
       "    }\n",
       "</style>\n",
       "<table border=\"1\" class=\"dataframe\">\n",
       "  <thead>\n",
       "    <tr style=\"text-align: right;\">\n",
       "      <th></th>\n",
       "      <th>A</th>\n",
       "      <th>AA</th>\n",
       "      <th>AAA</th>\n",
       "      <th>B</th>\n",
       "      <th>BB</th>\n",
       "      <th>BBB</th>\n",
       "      <th>C</th>\n",
       "      <th>CC</th>\n",
       "      <th>CCC</th>\n",
       "      <th>D</th>\n",
       "      <th>...</th>\n",
       "      <th>variance_qty_employees</th>\n",
       "      <th>variance_qty_issued_credit_reports</th>\n",
       "      <th>variance_score_payment_assessment</th>\n",
       "      <th>variance_score_pd</th>\n",
       "      <th>years_in_current_location</th>\n",
       "      <th>years_since_last_amt_consolidated_operating_result</th>\n",
       "      <th>years_since_last_amt_consolidated_revenue</th>\n",
       "      <th>years_since_last_amt_operating_result</th>\n",
       "      <th>years_since_last_amt_revenue</th>\n",
       "      <th>years_since_last_qty_employees</th>\n",
       "    </tr>\n",
       "  </thead>\n",
       "  <tbody>\n",
       "    <tr>\n",
       "      <th>0</th>\n",
       "      <td>0.0</td>\n",
       "      <td>0.0</td>\n",
       "      <td>0.0</td>\n",
       "      <td>3.0</td>\n",
       "      <td>0.0</td>\n",
       "      <td>0.0</td>\n",
       "      <td>0.0</td>\n",
       "      <td>0.0</td>\n",
       "      <td>0.0</td>\n",
       "      <td>0.0</td>\n",
       "      <td>...</td>\n",
       "      <td>NaN</td>\n",
       "      <td>0.0</td>\n",
       "      <td>0.0</td>\n",
       "      <td>0.0</td>\n",
       "      <td>nan</td>\n",
       "      <td>NaN</td>\n",
       "      <td>NaN</td>\n",
       "      <td>NaN</td>\n",
       "      <td>NaN</td>\n",
       "      <td>NaN</td>\n",
       "    </tr>\n",
       "    <tr>\n",
       "      <th>1</th>\n",
       "      <td>0.0</td>\n",
       "      <td>0.0</td>\n",
       "      <td>0.0</td>\n",
       "      <td>0.0</td>\n",
       "      <td>0.0</td>\n",
       "      <td>0.0</td>\n",
       "      <td>0.0</td>\n",
       "      <td>0.0</td>\n",
       "      <td>0.0</td>\n",
       "      <td>0.0</td>\n",
       "      <td>...</td>\n",
       "      <td>NaN</td>\n",
       "      <td>0.0</td>\n",
       "      <td>0.0</td>\n",
       "      <td>0.0</td>\n",
       "      <td>nan</td>\n",
       "      <td>NaN</td>\n",
       "      <td>NaN</td>\n",
       "      <td>NaN</td>\n",
       "      <td>NaN</td>\n",
       "      <td>NaN</td>\n",
       "    </tr>\n",
       "    <tr>\n",
       "      <th>2</th>\n",
       "      <td>0.0</td>\n",
       "      <td>0.0</td>\n",
       "      <td>0.0</td>\n",
       "      <td>0.0</td>\n",
       "      <td>0.0</td>\n",
       "      <td>0.0</td>\n",
       "      <td>0.0</td>\n",
       "      <td>0.0</td>\n",
       "      <td>0.0</td>\n",
       "      <td>0.0</td>\n",
       "      <td>...</td>\n",
       "      <td>NaN</td>\n",
       "      <td>0.0</td>\n",
       "      <td>0.0</td>\n",
       "      <td>0.0</td>\n",
       "      <td>nan</td>\n",
       "      <td>NaN</td>\n",
       "      <td>NaN</td>\n",
       "      <td>NaN</td>\n",
       "      <td>NaN</td>\n",
       "      <td>NaN</td>\n",
       "    </tr>\n",
       "    <tr>\n",
       "      <th>3</th>\n",
       "      <td>0.0</td>\n",
       "      <td>0.0</td>\n",
       "      <td>0.0</td>\n",
       "      <td>0.0</td>\n",
       "      <td>0.0</td>\n",
       "      <td>0.0</td>\n",
       "      <td>0.0</td>\n",
       "      <td>0.0</td>\n",
       "      <td>0.0</td>\n",
       "      <td>0.0</td>\n",
       "      <td>...</td>\n",
       "      <td>NaN</td>\n",
       "      <td>0.0</td>\n",
       "      <td>0.0</td>\n",
       "      <td>0.0</td>\n",
       "      <td>nan</td>\n",
       "      <td>NaN</td>\n",
       "      <td>NaN</td>\n",
       "      <td>NaN</td>\n",
       "      <td>NaN</td>\n",
       "      <td>NaN</td>\n",
       "    </tr>\n",
       "    <tr>\n",
       "      <th>4</th>\n",
       "      <td>0.0</td>\n",
       "      <td>0.0</td>\n",
       "      <td>0.0</td>\n",
       "      <td>0.0</td>\n",
       "      <td>0.0</td>\n",
       "      <td>0.0</td>\n",
       "      <td>0.0</td>\n",
       "      <td>0.0</td>\n",
       "      <td>0.0</td>\n",
       "      <td>0.0</td>\n",
       "      <td>...</td>\n",
       "      <td>NaN</td>\n",
       "      <td>0.0</td>\n",
       "      <td>0.0</td>\n",
       "      <td>0.0</td>\n",
       "      <td>nan</td>\n",
       "      <td>NaN</td>\n",
       "      <td>NaN</td>\n",
       "      <td>NaN</td>\n",
       "      <td>NaN</td>\n",
       "      <td>NaN</td>\n",
       "    </tr>\n",
       "  </tbody>\n",
       "</table>\n",
       "<p>5 rows × 58 columns</p>\n",
       "</div>"
      ],
      "text/plain": [
       "     A   AA  AAA    B   BB  BBB    C   CC  CCC    D  \\\n",
       "0  0.0  0.0  0.0  3.0  0.0  0.0  0.0  0.0  0.0  0.0   \n",
       "1  0.0  0.0  0.0  0.0  0.0  0.0  0.0  0.0  0.0  0.0   \n",
       "2  0.0  0.0  0.0  0.0  0.0  0.0  0.0  0.0  0.0  0.0   \n",
       "3  0.0  0.0  0.0  0.0  0.0  0.0  0.0  0.0  0.0  0.0   \n",
       "4  0.0  0.0  0.0  0.0  0.0  0.0  0.0  0.0  0.0  0.0   \n",
       "\n",
       "               ...                variance_qty_employees  \\\n",
       "0              ...                                   NaN   \n",
       "1              ...                                   NaN   \n",
       "2              ...                                   NaN   \n",
       "3              ...                                   NaN   \n",
       "4              ...                                   NaN   \n",
       "\n",
       "   variance_qty_issued_credit_reports  variance_score_payment_assessment  \\\n",
       "0                                 0.0                                0.0   \n",
       "1                                 0.0                                0.0   \n",
       "2                                 0.0                                0.0   \n",
       "3                                 0.0                                0.0   \n",
       "4                                 0.0                                0.0   \n",
       "\n",
       "   variance_score_pd  years_in_current_location  \\\n",
       "0                0.0                        nan   \n",
       "1                0.0                        nan   \n",
       "2                0.0                        nan   \n",
       "3                0.0                        nan   \n",
       "4                0.0                        nan   \n",
       "\n",
       "   years_since_last_amt_consolidated_operating_result  \\\n",
       "0                                                NaN    \n",
       "1                                                NaN    \n",
       "2                                                NaN    \n",
       "3                                                NaN    \n",
       "4                                                NaN    \n",
       "\n",
       "   years_since_last_amt_consolidated_revenue  \\\n",
       "0                                        NaN   \n",
       "1                                        NaN   \n",
       "2                                        NaN   \n",
       "3                                        NaN   \n",
       "4                                        NaN   \n",
       "\n",
       "  years_since_last_amt_operating_result  years_since_last_amt_revenue  \\\n",
       "0                                   NaN                           NaN   \n",
       "1                                   NaN                           NaN   \n",
       "2                                   NaN                           NaN   \n",
       "3                                   NaN                           NaN   \n",
       "4                                   NaN                           NaN   \n",
       "\n",
       "  years_since_last_qty_employees  \n",
       "0                            NaN  \n",
       "1                            NaN  \n",
       "2                            NaN  \n",
       "3                            NaN  \n",
       "4                            NaN  \n",
       "\n",
       "[5 rows x 58 columns]"
      ]
     },
     "execution_count": 4,
     "metadata": {},
     "output_type": "execute_result"
    }
   ],
   "source": [
    "data_df.head()"
   ]
  },
  {
   "cell_type": "code",
   "execution_count": 5,
   "metadata": {
    "collapsed": false
   },
   "outputs": [],
   "source": [
    "data_df['year'] = pd.DatetimeIndex(data_df['date_month']).year"
   ]
  },
  {
   "cell_type": "code",
   "execution_count": 6,
   "metadata": {
    "collapsed": false
   },
   "outputs": [
    {
     "data": {
      "text/html": [
       "<div>\n",
       "<style scoped>\n",
       "    .dataframe tbody tr th:only-of-type {\n",
       "        vertical-align: middle;\n",
       "    }\n",
       "\n",
       "    .dataframe tbody tr th {\n",
       "        vertical-align: top;\n",
       "    }\n",
       "\n",
       "    .dataframe thead tr th {\n",
       "        text-align: left;\n",
       "    }\n",
       "\n",
       "    .dataframe thead tr:last-of-type th {\n",
       "        text-align: right;\n",
       "    }\n",
       "</style>\n",
       "<table border=\"1\" class=\"dataframe\">\n",
       "  <thead>\n",
       "    <tr>\n",
       "      <th></th>\n",
       "      <th colspan=\"2\" halign=\"left\">A</th>\n",
       "      <th colspan=\"2\" halign=\"left\">AA</th>\n",
       "      <th colspan=\"2\" halign=\"left\">AAA</th>\n",
       "      <th colspan=\"2\" halign=\"left\">B</th>\n",
       "      <th colspan=\"2\" halign=\"left\">BB</th>\n",
       "      <th>...</th>\n",
       "      <th colspan=\"2\" halign=\"left\">years_since_last_amt_consolidated_operating_result</th>\n",
       "      <th colspan=\"2\" halign=\"left\">years_since_last_amt_consolidated_revenue</th>\n",
       "      <th colspan=\"2\" halign=\"left\">years_since_last_amt_operating_result</th>\n",
       "      <th colspan=\"2\" halign=\"left\">years_since_last_amt_revenue</th>\n",
       "      <th colspan=\"2\" halign=\"left\">years_since_last_qty_employees</th>\n",
       "    </tr>\n",
       "    <tr>\n",
       "      <th></th>\n",
       "      <th>mean</th>\n",
       "      <th>count</th>\n",
       "      <th>mean</th>\n",
       "      <th>count</th>\n",
       "      <th>mean</th>\n",
       "      <th>count</th>\n",
       "      <th>mean</th>\n",
       "      <th>count</th>\n",
       "      <th>mean</th>\n",
       "      <th>count</th>\n",
       "      <th>...</th>\n",
       "      <th>mean</th>\n",
       "      <th>count</th>\n",
       "      <th>mean</th>\n",
       "      <th>count</th>\n",
       "      <th>mean</th>\n",
       "      <th>count</th>\n",
       "      <th>mean</th>\n",
       "      <th>count</th>\n",
       "      <th>mean</th>\n",
       "      <th>count</th>\n",
       "    </tr>\n",
       "    <tr>\n",
       "      <th>year</th>\n",
       "      <th></th>\n",
       "      <th></th>\n",
       "      <th></th>\n",
       "      <th></th>\n",
       "      <th></th>\n",
       "      <th></th>\n",
       "      <th></th>\n",
       "      <th></th>\n",
       "      <th></th>\n",
       "      <th></th>\n",
       "      <th></th>\n",
       "      <th></th>\n",
       "      <th></th>\n",
       "      <th></th>\n",
       "      <th></th>\n",
       "      <th></th>\n",
       "      <th></th>\n",
       "      <th></th>\n",
       "      <th></th>\n",
       "      <th></th>\n",
       "      <th></th>\n",
       "    </tr>\n",
       "  </thead>\n",
       "  <tbody>\n",
       "    <tr>\n",
       "      <th>2013</th>\n",
       "      <td>0.279728</td>\n",
       "      <td>1811253</td>\n",
       "      <td>0.302095</td>\n",
       "      <td>1811253</td>\n",
       "      <td>0.351358</td>\n",
       "      <td>1811253</td>\n",
       "      <td>0.333661</td>\n",
       "      <td>1811253</td>\n",
       "      <td>0.610037</td>\n",
       "      <td>1811253</td>\n",
       "      <td>...</td>\n",
       "      <td>4.289538</td>\n",
       "      <td>59284</td>\n",
       "      <td>4.793992</td>\n",
       "      <td>41445</td>\n",
       "      <td>4.289538</td>\n",
       "      <td>59284</td>\n",
       "      <td>5.628473</td>\n",
       "      <td>109346</td>\n",
       "      <td>3.180230</td>\n",
       "      <td>1517031</td>\n",
       "    </tr>\n",
       "    <tr>\n",
       "      <th>2014</th>\n",
       "      <td>1.155903</td>\n",
       "      <td>1852836</td>\n",
       "      <td>1.313344</td>\n",
       "      <td>1852836</td>\n",
       "      <td>1.391613</td>\n",
       "      <td>1852836</td>\n",
       "      <td>1.294176</td>\n",
       "      <td>1852836</td>\n",
       "      <td>2.205304</td>\n",
       "      <td>1852836</td>\n",
       "      <td>...</td>\n",
       "      <td>4.349037</td>\n",
       "      <td>56779</td>\n",
       "      <td>5.044156</td>\n",
       "      <td>39632</td>\n",
       "      <td>4.349037</td>\n",
       "      <td>56779</td>\n",
       "      <td>6.072105</td>\n",
       "      <td>102281</td>\n",
       "      <td>3.082765</td>\n",
       "      <td>1558385</td>\n",
       "    </tr>\n",
       "    <tr>\n",
       "      <th>2015</th>\n",
       "      <td>1.424809</td>\n",
       "      <td>1890941</td>\n",
       "      <td>1.055624</td>\n",
       "      <td>1890941</td>\n",
       "      <td>1.075311</td>\n",
       "      <td>1890941</td>\n",
       "      <td>1.443624</td>\n",
       "      <td>1890941</td>\n",
       "      <td>1.898849</td>\n",
       "      <td>1890941</td>\n",
       "      <td>...</td>\n",
       "      <td>4.348976</td>\n",
       "      <td>55276</td>\n",
       "      <td>4.898619</td>\n",
       "      <td>36940</td>\n",
       "      <td>4.348976</td>\n",
       "      <td>55276</td>\n",
       "      <td>6.296769</td>\n",
       "      <td>91765</td>\n",
       "      <td>1.288943</td>\n",
       "      <td>1596870</td>\n",
       "    </tr>\n",
       "    <tr>\n",
       "      <th>2016</th>\n",
       "      <td>1.408117</td>\n",
       "      <td>1930102</td>\n",
       "      <td>1.414238</td>\n",
       "      <td>1930102</td>\n",
       "      <td>1.362432</td>\n",
       "      <td>1930102</td>\n",
       "      <td>1.257891</td>\n",
       "      <td>1930102</td>\n",
       "      <td>1.591608</td>\n",
       "      <td>1930102</td>\n",
       "      <td>...</td>\n",
       "      <td>4.435047</td>\n",
       "      <td>54185</td>\n",
       "      <td>4.905722</td>\n",
       "      <td>35512</td>\n",
       "      <td>4.435047</td>\n",
       "      <td>54185</td>\n",
       "      <td>6.368328</td>\n",
       "      <td>81479</td>\n",
       "      <td>1.118526</td>\n",
       "      <td>1635148</td>\n",
       "    </tr>\n",
       "    <tr>\n",
       "      <th>2017</th>\n",
       "      <td>1.476761</td>\n",
       "      <td>1966208</td>\n",
       "      <td>1.541377</td>\n",
       "      <td>1966208</td>\n",
       "      <td>1.415096</td>\n",
       "      <td>1966208</td>\n",
       "      <td>1.174341</td>\n",
       "      <td>1966208</td>\n",
       "      <td>1.453042</td>\n",
       "      <td>1966208</td>\n",
       "      <td>...</td>\n",
       "      <td>4.481443</td>\n",
       "      <td>52110</td>\n",
       "      <td>4.903499</td>\n",
       "      <td>33378</td>\n",
       "      <td>4.481443</td>\n",
       "      <td>52110</td>\n",
       "      <td>6.355618</td>\n",
       "      <td>69780</td>\n",
       "      <td>0.941729</td>\n",
       "      <td>1683571</td>\n",
       "    </tr>\n",
       "  </tbody>\n",
       "</table>\n",
       "<p>5 rows × 106 columns</p>\n",
       "</div>"
      ],
      "text/plain": [
       "             A                 AA                AAA                  B  \\\n",
       "          mean    count      mean    count      mean    count      mean   \n",
       "year                                                                      \n",
       "2013  0.279728  1811253  0.302095  1811253  0.351358  1811253  0.333661   \n",
       "2014  1.155903  1852836  1.313344  1852836  1.391613  1852836  1.294176   \n",
       "2015  1.424809  1890941  1.055624  1890941  1.075311  1890941  1.443624   \n",
       "2016  1.408117  1930102  1.414238  1930102  1.362432  1930102  1.257891   \n",
       "2017  1.476761  1966208  1.541377  1966208  1.415096  1966208  1.174341   \n",
       "\n",
       "                     BB            ...     \\\n",
       "        count      mean    count   ...      \n",
       "year                               ...      \n",
       "2013  1811253  0.610037  1811253   ...      \n",
       "2014  1852836  2.205304  1852836   ...      \n",
       "2015  1890941  1.898849  1890941   ...      \n",
       "2016  1930102  1.591608  1930102   ...      \n",
       "2017  1966208  1.453042  1966208   ...      \n",
       "\n",
       "     years_since_last_amt_consolidated_operating_result         \\\n",
       "                                                   mean  count   \n",
       "year                                                             \n",
       "2013                                           4.289538  59284   \n",
       "2014                                           4.349037  56779   \n",
       "2015                                           4.348976  55276   \n",
       "2016                                           4.435047  54185   \n",
       "2017                                           4.481443  52110   \n",
       "\n",
       "     years_since_last_amt_consolidated_revenue         \\\n",
       "                                          mean  count   \n",
       "year                                                    \n",
       "2013                                  4.793992  41445   \n",
       "2014                                  5.044156  39632   \n",
       "2015                                  4.898619  36940   \n",
       "2016                                  4.905722  35512   \n",
       "2017                                  4.903499  33378   \n",
       "\n",
       "     years_since_last_amt_operating_result         \\\n",
       "                                      mean  count   \n",
       "year                                                \n",
       "2013                              4.289538  59284   \n",
       "2014                              4.349037  56779   \n",
       "2015                              4.348976  55276   \n",
       "2016                              4.435047  54185   \n",
       "2017                              4.481443  52110   \n",
       "\n",
       "     years_since_last_amt_revenue         years_since_last_qty_employees  \\\n",
       "                             mean   count                           mean   \n",
       "year                                                                       \n",
       "2013                     5.628473  109346                       3.180230   \n",
       "2014                     6.072105  102281                       3.082765   \n",
       "2015                     6.296769   91765                       1.288943   \n",
       "2016                     6.368328   81479                       1.118526   \n",
       "2017                     6.355618   69780                       0.941729   \n",
       "\n",
       "               \n",
       "        count  \n",
       "year           \n",
       "2013  1517031  \n",
       "2014  1558385  \n",
       "2015  1596870  \n",
       "2016  1635148  \n",
       "2017  1683571  \n",
       "\n",
       "[5 rows x 106 columns]"
      ]
     },
     "execution_count": 6,
     "metadata": {},
     "output_type": "execute_result"
    }
   ],
   "source": [
    "data_df.groupby(['year']).agg(['mean', 'count'])"
   ]
  },
  {
   "cell_type": "code",
   "execution_count": 7,
   "metadata": {
    "collapsed": false
   },
   "outputs": [
    {
     "data": {
      "text/plain": [
       "year\n",
       "2013    1811253\n",
       "2014    1852836\n",
       "2015    1890941\n",
       "2016    1930102\n",
       "2017    1966208\n",
       "dtype: int64"
      ]
     },
     "execution_count": 7,
     "metadata": {},
     "output_type": "execute_result"
    }
   ],
   "source": [
    "data_df.groupby(['year']).size()"
   ]
  },
  {
   "cell_type": "code",
   "execution_count": 8,
   "metadata": {
    "collapsed": true
   },
   "outputs": [],
   "source": [
    "data_df[data_df.has_relocated_next_year.isna()] = 0"
   ]
  },
  {
   "cell_type": "markdown",
   "metadata": {},
   "source": [
    "<a id='overall_probability'></a>\n",
    "\n",
    "# Overall Probability that branch moves \n",
    "\n",
    "<a href=#top>Top</a>"
   ]
  },
  {
   "cell_type": "code",
   "execution_count": 9,
   "metadata": {
    "collapsed": false
   },
   "outputs": [
    {
     "data": {
      "text/plain": [
       "False    8974071\n",
       "True      477269\n",
       "Name: has_relocated_next_year, dtype: int64"
      ]
     },
     "execution_count": 9,
     "metadata": {},
     "output_type": "execute_result"
    }
   ],
   "source": [
    "data_df['has_relocated_next_year'].value_counts()"
   ]
  },
  {
   "cell_type": "code",
   "execution_count": 10,
   "metadata": {
    "collapsed": false
   },
   "outputs": [
    {
     "data": {
      "text/plain": [
       "False    0.949503\n",
       "True     0.050497\n",
       "Name: has_relocated_next_year, dtype: float64"
      ]
     },
     "execution_count": 10,
     "metadata": {},
     "output_type": "execute_result"
    }
   ],
   "source": [
    "data_df['has_relocated_next_year'].value_counts() / data_df.shape[0]"
   ]
  },
  {
   "cell_type": "markdown",
   "metadata": {},
   "source": [
    "<a id='move_by_year'></a>\n",
    "# Move Probability By Year:\n",
    "<a href=#top>Top</a>"
   ]
  },
  {
   "cell_type": "code",
   "execution_count": 11,
   "metadata": {
    "collapsed": false
   },
   "outputs": [
    {
     "data": {
      "text/plain": [
       "year  has_relocated_next_year\n",
       "0     False                       367287\n",
       "2013  False                      1670754\n",
       "      True                         72505\n",
       "2014  False                      1678925\n",
       "      True                        100264\n",
       "2015  False                      1708652\n",
       "      True                        110237\n",
       "2016  False                      1741379\n",
       "      True                        111461\n",
       "2017  False                      1807074\n",
       "      True                         82802\n",
       "Name: has_relocated_next_year, dtype: int64"
      ]
     },
     "execution_count": 11,
     "metadata": {},
     "output_type": "execute_result"
    }
   ],
   "source": [
    "data_df.groupby(['year'])['has_relocated_next_year'].value_counts() "
   ]
  },
  {
   "cell_type": "code",
   "execution_count": 14,
   "metadata": {
    "collapsed": false
   },
   "outputs": [
    {
     "data": {
      "text/plain": [
       "year\n",
       "0             1\n",
       "2013    1743259\n",
       "2014    1779189\n",
       "2015    1818889\n",
       "2016    1852840\n",
       "2017    1889876\n",
       "Name: unique_id, dtype: int64"
      ]
     },
     "execution_count": 14,
     "metadata": {},
     "output_type": "execute_result"
    }
   ],
   "source": [
    "data_df.groupby(['year'])['unique_id'].nunique() "
   ]
  },
  {
   "cell_type": "code",
   "execution_count": 13,
   "metadata": {
    "collapsed": false
   },
   "outputs": [
    {
     "name": "stdout",
     "output_type": "stream",
     "text": [
      "2013 \n",
      " False    0.958408\n",
      "True     0.041592\n",
      "Name: has_relocated_next_year, dtype: float64\n",
      "2014 \n",
      " False    0.943646\n",
      "True     0.056354\n",
      "Name: has_relocated_next_year, dtype: float64\n",
      "2015 \n",
      " False    0.939393\n",
      "True     0.060607\n",
      "Name: has_relocated_next_year, dtype: float64\n",
      "2016 \n",
      " False    0.939843\n",
      "True     0.060157\n",
      "Name: has_relocated_next_year, dtype: float64\n",
      "2017 \n",
      " False    0.956187\n",
      "True     0.043813\n",
      "Name: has_relocated_next_year, dtype: float64\n"
     ]
    }
   ],
   "source": [
    "year_to_check = [2013, 2014, 2015, 2016, 2017]\n",
    "#year_to_check = [2015]\n",
    "\n",
    "for this_year in year_to_check: \n",
    "    print(this_year, \"\\n\",\n",
    "          data_df[data_df.year==this_year]['has_relocated_next_year'].value_counts() / data_df[data_df.year==this_year].shape[0])"
   ]
  },
  {
   "cell_type": "markdown",
   "metadata": {},
   "source": [
    "\n",
    "<a id='prob_company_moves'></a>\n",
    "# Probability that company moves over the whole dataset:\n",
    "\n",
    "<a href=#top>Top</a>\n",
    "\n",
    "\n",
    "Calculate the probability that any company has a branch that moves in the dataset.  Companies that have multiple moves do not affect the probability of move."
   ]
  },
  {
   "cell_type": "code",
   "execution_count": 15,
   "metadata": {
    "collapsed": false
   },
   "outputs": [
    {
     "name": "stdout",
     "output_type": "stream",
     "text": [
      "The total number of companies in the dataset is 2007430\n"
     ]
    }
   ],
   "source": [
    "# Find number of unique companies:\n",
    "num_unique_companies=data_df['id_company'].nunique()\n",
    "print(\"The total number of companies in the dataset is %0.3d\" % num_unique_companies) "
   ]
  },
  {
   "cell_type": "code",
   "execution_count": 16,
   "metadata": {
    "collapsed": false
   },
   "outputs": [
    {
     "name": "stdout",
     "output_type": "stream",
     "text": [
      "The number of companies involved in a move is 401296\n"
     ]
    }
   ],
   "source": [
    "num_companies_moved = data_df[data_df.has_relocated_next_year==True]['id_company'].nunique()\n",
    "print(\"The number of companies involved in a move is %0.3d\" % num_companies_moved) "
   ]
  },
  {
   "cell_type": "code",
   "execution_count": 17,
   "metadata": {
    "collapsed": false
   },
   "outputs": [
    {
     "name": "stdout",
     "output_type": "stream",
     "text": [
      "The probability that a company has a branch that moved is   19.991 %\n"
     ]
    }
   ],
   "source": [
    "prob_company_moved = num_companies_moved/ num_unique_companies\n",
    "print(\"The probability that a company has a branch that moved is %8.3f %%\" % (100*prob_company_moved)) "
   ]
  },
  {
   "cell_type": "markdown",
   "metadata": {},
   "source": [
    "## By Year:"
   ]
  },
  {
   "cell_type": "code",
   "execution_count": 18,
   "metadata": {
    "collapsed": false
   },
   "outputs": [
    {
     "name": "stdout",
     "output_type": "stream",
     "text": [
      "2013 \n",
      " 0.04540728448669465\n",
      "2014 \n",
      " 0.06119873584686782\n",
      "2015 \n",
      " 0.06543979240695494\n",
      "2016 \n",
      " 0.06456594856762066\n",
      "2017 \n",
      " 0.04680167605705871\n"
     ]
    }
   ],
   "source": [
    "year_to_check = [2013, 2014, 2015, 2016, 2017]\n",
    "\n",
    "for this_year in year_to_check:\n",
    "    num_cs = data_df[data_df.year==this_year]['id_company'].nunique()\n",
    "    num_moved = data_df[(data_df.year==this_year) & (data_df.has_relocated_next_year==True)]['id_company'].nunique()\n",
    "    print(this_year, \"\\n\", num_moved / num_cs)"
   ]
  },
  {
   "cell_type": "markdown",
   "metadata": {},
   "source": [
    "<a id='prob_branch_moves'></a>\n",
    "## Probability that a branch moves:\n",
    "\n",
    "<a href=#top>Top</a>"
   ]
  },
  {
   "cell_type": "code",
   "execution_count": 19,
   "metadata": {
    "collapsed": false
   },
   "outputs": [
    {
     "name": "stdout",
     "output_type": "stream",
     "text": [
      "The total number of branches in the dataset is 2175130\n"
     ]
    }
   ],
   "source": [
    "num_unique_branches=data_df['unique_id'].nunique()\n",
    "print(\"The total number of branches in the dataset is %0.3d\" % num_unique_branches) "
   ]
  },
  {
   "cell_type": "code",
   "execution_count": 20,
   "metadata": {
    "collapsed": false
   },
   "outputs": [
    {
     "name": "stdout",
     "output_type": "stream",
     "text": [
      "The number of branches involved in a move is 405535\n"
     ]
    }
   ],
   "source": [
    "num_branches_moved = data_df[data_df.has_relocated_next_year==True]['unique_id'].nunique()\n",
    "print(\"The number of branches involved in a move is %0.3d\" % num_branches_moved) "
   ]
  },
  {
   "cell_type": "code",
   "execution_count": 21,
   "metadata": {
    "collapsed": false
   },
   "outputs": [
    {
     "name": "stdout",
     "output_type": "stream",
     "text": [
      "The probability that a branch moved is   18.644 %\n"
     ]
    }
   ],
   "source": [
    "prob_branch_moved = num_branches_moved/ num_unique_branches\n",
    "print(\"The probability that a branch moved is %8.3f %%\" % (100*prob_branch_moved)) "
   ]
  },
  {
   "cell_type": "markdown",
   "metadata": {},
   "source": [
    "## Branch move probability by Year:"
   ]
  },
  {
   "cell_type": "code",
   "execution_count": 22,
   "metadata": {
    "collapsed": false
   },
   "outputs": [
    {
     "name": "stdout",
     "output_type": "stream",
     "text": [
      "2013 \n",
      " 0.04159163956704081\n",
      "2014 \n",
      " 0.05635376567638402\n",
      "2015 \n",
      " 0.060606776994088146\n",
      "2016 \n",
      " 0.060156840310010576\n",
      "2017 \n",
      " 0.043813456544238884\n"
     ]
    }
   ],
   "source": [
    "year_to_check = [2013, 2014, 2015, 2016, 2017]\n",
    "\n",
    "for this_year in year_to_check:\n",
    "    num_cs = data_df[data_df.year==this_year]['unique_id'].nunique()\n",
    "    num_moved = data_df[(data_df.year==this_year) & (data_df.has_relocated_next_year==True)]['unique_id'].nunique()\n",
    "    print(this_year, \"\\n\", num_moved / num_cs)"
   ]
  },
  {
   "cell_type": "markdown",
   "metadata": {
    "collapsed": true
   },
   "source": [
    "<a id='plot_probabilities'></a>\n",
    "# Plot Probabilities\n",
    "\n",
    "\n",
    "<a href=#top>Top</a>"
   ]
  },
  {
   "cell_type": "code",
   "execution_count": 50,
   "metadata": {
    "collapsed": false
   },
   "outputs": [
    {
     "data": {
      "image/png": "[encoded data removed]",
      "text/plain": [
       "<Figure size 432x288 with 1 Axes>"
      ]
     },
     "metadata": {
      "needs_background": "light"
     },
     "output_type": "display_data"
    }
   ],
   "source": [
    "prob_moved = data_df[data_df.has_relocated_next_year==True].shape[0]/ data_df.shape[0]\n",
    "\n",
    "x_labels = (\"Overall_Probability\", \"Company_Probability\", \"Branch_Probability\")\n",
    "y_pos = np.arange(len(x_labels))\n",
    "all_probabilities = [prob_moved, prob_company_moved, prob_branch_moved]\n",
    "\n",
    "all_probabilities = [i * 100 for i in all_probabilities]\n",
    " \n",
    "plt.bar(y_pos, all_probabilities, align='center', alpha=0.5)\n",
    "plt.xticks(y_pos, x_labels)\n",
    "plt.ylabel('Usage')\n",
    "plt.title('Move Probabilities')\n",
    " \n",
    "plt.show()"
   ]
  },
  {
   "cell_type": "markdown",
   "metadata": {},
   "source": [
    "<a id='bottom'></a>\n",
    "\n",
    "<a href=#top>Top</a>\n",
    "\n",
    "# End"
   ]
  }
 ],
 "metadata": {
  "kernelspec": {
   "display_name": "Python 3",
   "language": "python",
   "name": "python3"
  },
  "language_info": {
   "codemirror_mode": {
    "name": "ipython",
    "version": 3
   },
   "file_extension": ".py",
   "mimetype": "text/x-python",
   "name": "python",
   "nbconvert_exporter": "python",
   "pygments_lexer": "ipython3",
   "version": "3.5.5"
  }
 },
 "nbformat": 4,
 "nbformat_minor": 0
}
