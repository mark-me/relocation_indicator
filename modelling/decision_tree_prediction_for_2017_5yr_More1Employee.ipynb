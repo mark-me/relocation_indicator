{
 "cells": [
  {
   "cell_type": "markdown",
   "metadata": {},
   "source": [
    "# Prediction using 2014 - 2018 Decision Tree Model  \n",
    "<a id='top'></a>"
   ]
  },
  {
   "cell_type": "markdown",
   "metadata": {},
   "source": [
    "<a href=#readdata>Read Data</a>  \n",
    "\n",
    "<a href=#features>Feature Selection</a>\n",
    "\n",
    "<a href=#dt>Obtain Prediction using Decision Tree</a>\n",
    "\n",
    "<a href=#prediction>Display Prediction</a>\n",
    "\n",
    "<a href=#bottom>Bottom</a>\n"
   ]
  },
  {
   "cell_type": "code",
   "execution_count": null,
   "metadata": {
    "collapsed": false
   },
   "outputs": [],
   "source": [
    "# Ignore 'dask' warning\n",
    "import pandas as pd\n",
    "import gcsfs\n",
    "from google.cloud import storage\n",
    "from pandas import DataFrame\n",
    "from IPython.display import HTML\n",
    "from google.cloud.storage import Blob\n",
    "import datalab.storage as gcs_datalab\n",
    "from datetime import date\n",
    "import numpy as np\n",
    "\n",
    "from sklearn import tree\n",
    "from sklearn import metrics\n",
    "from sklearn.model_selection import train_test_split, cross_val_score, LeaveOneOut, GridSearchCV\n",
    "from sklearn.utils import resample\n",
    "from sklearn import preprocessing\n",
    "from scipy.stats import sem\n",
    "import pickle\n",
    "\n",
    "from matplotlib import pyplot\n",
    "import seaborn as sns\n",
    "from scipy import stats"
   ]
  },
  {
   "cell_type": "markdown",
   "metadata": {},
   "source": [
    "<a id='readdata'></a>\n",
    "# Read Yearly Aggregated Data \n",
    "<a href=#top>Top</a>"
   ]
  },
  {
   "cell_type": "code",
   "execution_count": null,
   "metadata": {
    "collapsed": false
   },
   "outputs": [],
   "source": [
    "# Setting up constants. All required\n",
    "project = 'graydon-moving-indicator'\n",
    "bucket_name = 'graydon-data'\n",
    "\n",
    "# Initializing bucket\n",
    "fs = gcsfs.GCSFileSystem(project='graydon-moving-indicator')\n",
    "gcs = storage.Client()\n",
    "bucket = gcs.get_bucket(bucket_name)\n"
   ]
  },
  {
   "cell_type": "code",
   "execution_count": null,
   "metadata": {
    "collapsed": false
   },
   "outputs": [],
   "source": [
    "\n",
    "# Post-aggregation\n",
    "def create_dict_types_aggregated_data():\n",
    "    # Setting up dictionary of column types for the aggregated dataset\n",
    "    dtype={ \n",
    "        'id_company'  :np.float64,\n",
    "        'id_branch'    :np.int64, \n",
    "        'code_sbi_2'         : np.float64, \n",
    "        'has_relocated':bool,\n",
    "        'has_relocated_next_year ' : bool,\n",
    "        'has_name_change' : bool,\n",
    "        'qty_address_mutations_total' :np.float64,\n",
    "        'ratio_operating_result_consolidated_operating_result': np.float64,\n",
    "        'ratio_revenue_consolidated_revenue': np.float64,\n",
    "        'qty_green_flags'   :np.float64,\n",
    "        'qty_orange_flags'   :np.float64,\n",
    "        'qty_red_flags'   :np.float64,\n",
    "        'A'   :np.float64,\n",
    "        'AA'   :np.float64,\n",
    "        'AAA'   :np.float64,\n",
    "        'B'   :np.float64,\n",
    "        'BB'   :np.float64,\n",
    "        'BBB'   :np.float64,\n",
    "        'C'   :np.float64,\n",
    "        'CC'   :np.float64,\n",
    "        'CCC'   :np.float64,\n",
    "        'D'   :np.float64,\n",
    "        'NR'   :np.float64,\n",
    "        'code_legal_form_group_1':  np.int64,\n",
    "        'code_legal_form_group_2':  np.int64,\n",
    "        'SBI_group_1':  np.int64,\n",
    "        'SBI_group_2':  np.int64,\n",
    "        'company_age'   :np.float64,\n",
    "        'years_since_last_amt_consolidated_operating_result'   :np.float64,\n",
    "        'years_since_last_amt_consolidated_revenue'   :np.float64,\n",
    "        'years_since_last_amt_operating_result'   :np.float64,\n",
    "        'years_since_last_qty_employees'   :np.float64,\n",
    "        'years_since_last_amt_revenue'   :np.float64,\n",
    "        'delta_qty_employees'   :np.float64,\n",
    "        'delta_qty_issued_credit_reports'   :np.float64,\n",
    "        'delta_score_payment_assessment'   :np.float64,\n",
    "        'SBI_has_changed' : bool,\n",
    "        'unique_id' : object,\n",
    "        'code_legal_form_has_changed ' : bool,\n",
    "        'is_discontinued_any ' : bool,\n",
    "        'has_financial_calamity ' : bool,\n",
    "        'mean_amt_consolidated_operating_result'   :np.float64,\n",
    "        'mean_amt_consolidated_revenue'   :np.float64,\n",
    "        'mean_amt_operating_result'   :np.float64,\n",
    "        'mean_amt_revenue'   :np.float64,\n",
    "        'mean_qty_employees'   :np.float64,\n",
    "        'mean_qty_issued_credit_reports'   :np.float64,\n",
    "        'mean_score_payment_assessment'   :np.float64,\n",
    "        'mean_score_pd'   :np.float64,\n",
    "        'qty_address_mutations_year'   :np.float64,\n",
    "        'qty_started_names_year'   :np.float64,\n",
    "        'qty_stopped_names_year'   :np.float64,\n",
    "        'qty_board_changes_year'   :np.float64,\n",
    "        'variance_qty_employees'   :np.float64,\n",
    "        'variance_qty_issued_credit_reports'   :np.float64,\n",
    "        'variance_score_payment_assessment'   :np.float64,\n",
    "        'variance_score_pd'   :np.float64\n",
    "      }\n",
    "    return dtype\n",
    "\n",
    "def create_dict_types_aggregated_data2017():\n",
    "    dtype2017={ \n",
    "        'id_company'  :np.float64,\n",
    "        'id_branch'    :np.int64, \n",
    "        'code_sbi_2'         : np.float64, \n",
    "        'has_relocated_next_yearC' : bool,\n",
    "        'has_name_change' : bool,\n",
    "        'qty_address_mutations_total' :np.float64,\n",
    "        'ratio_operating_result_consolidated_operating_result': np.float64,\n",
    "        'ratio_revenue_consolidated_revenue': np.float64,\n",
    "        'qty_green_flags'   :np.float64,\n",
    "        'qty_orange_flags'   :np.float64,\n",
    "        'qty_red_flags'   :np.float64,\n",
    "        'A'   :np.float64,\n",
    "        'AA'   :np.float64,\n",
    "        'AAA'   :np.float64,\n",
    "        'B'   :np.float64,\n",
    "        'BB'   :np.float64,\n",
    "        'BBB'   :np.float64,\n",
    "        'C'   :np.float64,\n",
    "        'CC'   :np.float64,\n",
    "        'CCC'   :np.float64,\n",
    "        'D'   :np.float64,\n",
    "        'NR'   :np.float64,\n",
    "        'code_legal_form_group_1':  np.int64,\n",
    "        'code_legal_form_group_2':  np.int64,\n",
    "        'SBI_group_1':  np.int64,\n",
    "        'SBI_group_2':  np.int64,\n",
    "        'company_age'   :np.float64,\n",
    "        'years_since_last_amt_consolidated_operating_result'   :np.float64,\n",
    "        'years_since_last_amt_consolidated_revenue'   :np.float64,\n",
    "        'years_since_last_amt_operating_result'   :np.float64,\n",
    "        'years_since_last_qty_employees'   :np.float64,\n",
    "        'years_since_last_amt_revenue'   :np.float64,\n",
    "        'delta_qty_employees'   :np.float64,\n",
    "        'delta_qty_issued_credit_reports'   :np.float64,\n",
    "        'delta_score_payment_assessment'   :np.float64,\n",
    "        'SBI_has_changed' : bool,\n",
    "        'unique_id' : object,\n",
    "        'code_legal_form_has_changed ' : bool,\n",
    "        'is_discontinued_any ' : bool,\n",
    "        'has_financial_calamity ' : bool,\n",
    "        'mean_amt_consolidated_operating_result'   :np.float64,\n",
    "        'mean_amt_consolidated_revenue'   :np.float64,\n",
    "        'mean_amt_operating_result'   :np.float64,\n",
    "        'mean_amt_revenue'   :np.float64,\n",
    "        'mean_qty_employees'   :np.float64,\n",
    "        'mean_qty_issued_credit_reports'   :np.float64,\n",
    "        'mean_score_payment_assessment'   :np.float64,\n",
    "        'mean_score_pd'   :np.float64,\n",
    "        'qty_address_mutations_year'   :np.float64,\n",
    "        'qty_started_names_year'   :np.float64,\n",
    "        'qty_stopped_names_year'   :np.float64,\n",
    "        'qty_board_changes_year'   :np.float64,\n",
    "        'variance_qty_employees'   :np.float64,\n",
    "        'variance_qty_issued_credit_reports'   :np.float64,\n",
    "        'variance_score_payment_assessment'   :np.float64,\n",
    "        'variance_score_pd'   :np.float64\n",
    "      }\n",
    "    return dtype2017\n",
    "\n",
    "def create_parse_dates_list_aggregated_data():\n",
    "    # Setting up dictionary of column types for the aggregated dataset\n",
    "    parse_dates= ['date_month', 'years_in_current_location']\n",
    "    return parse_dates\n",
    "\n",
    "def create_basetable(year_list, dir_prefix = ''):\n",
    "    \"\"\" Reads a whole year of data from the already aggregated files and creates basetable \"\"\"\n",
    "    dtype = create_dict_types_aggregated_data()\n",
    "    dtype2017 = create_dict_types_aggregated_data2017()\n",
    "    parse_dates = create_parse_dates_list_aggregated_data()\n",
    "    basetable = pd.DataFrame()\n",
    "    for year in year_list:\n",
    "        full_year_df = pd.DataFrame()\n",
    "        print('Starting with year: ', year)\n",
    "        print(dir_prefix)\n",
    "        blob_list = list(bucket.list_blobs(prefix=dir_prefix))    \n",
    "        for blob in blob_list:  \n",
    "            if year in blob.name and year != '2017':\n",
    "                print('Processing file: ', blob.name)\n",
    "                with fs.open('graydon-data/' + blob.name) as f:\n",
    "                    full_year_df = pd.read_csv(f, sep=',', index_col=0, dtype=dtype, parse_dates=parse_dates \n",
    "                                            )   \n",
    "                print('The number of rows of the year read is far is: ', full_year_df.shape[0])\n",
    "            elif year in blob.name and year == '2017':\n",
    "                print('Processing file: ', blob.name)\n",
    "                with fs.open('graydon-data/' + blob.name) as f:\n",
    "                    full_year_df = pd.read_csv(f, sep=',', index_col=0, dtype=dtype2017, \n",
    "                                               parse_dates=parse_dates, )\n",
    "                    full_year_df.rename(columns = {'has_relocated_next_yearC': 'has_relocated_next_year'}, inplace = True)\n",
    "                print('The number of rows of the year read is far is: ', full_year_df.shape[0])\n",
    "        basetable = basetable.append(full_year_df)\n",
    "    print('The final number of rows of the basetable created is: ', basetable.shape[0])\n",
    "    return basetable\n",
    "\n",
    "# Calling it\n",
    "data_df = create_basetable(year_list = ['2016'], dir_prefix ='03_aggregated')"
   ]
  },
  {
   "cell_type": "code",
   "execution_count": null,
   "metadata": {
    "collapsed": false
   },
   "outputs": [],
   "source": [
    "data_df.shape[0]"
   ]
  },
  {
   "cell_type": "markdown",
   "metadata": {},
   "source": [
    "<a id='features'></a>\n",
    "# Feature Selection:\n",
    "\n",
    "<a href=#top>Top</a>"
   ]
  },
  {
   "cell_type": "code",
   "execution_count": null,
   "metadata": {
    "collapsed": false
   },
   "outputs": [],
   "source": [
    "print(data_df.isnull().sum())"
   ]
  },
  {
   "cell_type": "markdown",
   "metadata": {},
   "source": [
    "## Split Data\n",
    "\n",
    "<a href=#top>Top</a>"
   ]
  },
  {
   "cell_type": "markdown",
   "metadata": {},
   "source": [
    "### Has 1 Employee:"
   ]
  },
  {
   "cell_type": "code",
   "execution_count": null,
   "metadata": {
    "collapsed": true
   },
   "outputs": [],
   "source": [
    "def f(row):\n",
    "    if row['mean_qty_employees'] == 1:\n",
    "        val = True\n",
    "    else:\n",
    "        val = False\n",
    "    return val\n"
   ]
  },
  {
   "cell_type": "code",
   "execution_count": null,
   "metadata": {
    "collapsed": true
   },
   "outputs": [],
   "source": [
    "data_df['has_1_employee'] = data_df.apply(f, axis = 1)"
   ]
  },
  {
   "cell_type": "code",
   "execution_count": null,
   "metadata": {
    "collapsed": false
   },
   "outputs": [],
   "source": [
    "data_df['has_1_employee'].value_counts()"
   ]
  },
  {
   "cell_type": "markdown",
   "metadata": {},
   "source": [
    "# Exclude Features:"
   ]
  },
  {
   "cell_type": "code",
   "execution_count": null,
   "metadata": {
    "collapsed": true
   },
   "outputs": [],
   "source": [
    "features_to_exclude = (#'id_branch',\n",
    "                       #'id_company',\n",
    "                       'date_month',\n",
    "                       'unique_id',\n",
    "                       'code_sbi_1',\n",
    "                       'has_relocated',\n",
    "                       'has_relocated_next_year_',\n",
    "                       #'has_name_change',\n",
    "                       'delta_qty_employees',\n",
    "                       #'delta_qty_issued_credit_reports', \n",
    "                       #'delta_score_payment_assessment',\n",
    "                       #'code_legal_form_has_changed',\n",
    "                       #'SBI_has_changed',\n",
    "                       #'company_age',\n",
    "                       'years_since_last_amt_consolidated_operating_result',\n",
    "                       'years_since_last_amt_consolidated_revenue',\n",
    "                       'years_since_last_amt_operating_result',\n",
    "                       'years_since_last_qty_employees',\n",
    "                       'years_since_last_amt_revenue',\n",
    "                       'years_in_current_location',\n",
    "                       'ratio_operating_result_consolidated_operating_result',\n",
    "                       'ratio_revenue_consolidated_revenue',\n",
    "                       #'qty_green_flags',\n",
    "                       #'qty_orange_flags',\n",
    "                       #'qty_red_flags',\n",
    "                       #'A',\n",
    "                       #'AA',\n",
    "                       #'AAA',\n",
    "                       #'B',\n",
    "                       #'BB',\n",
    "                       #'BBB',\n",
    "                       #'C',\n",
    "                       #'CC',\n",
    "                       #'CCC',\n",
    "                       #'D',\n",
    "                       #'NR',\n",
    "                       #'code_legal_form_group_1',\n",
    "                       #'code_legal_form_group_2',\n",
    "                       #'SBI_group_1',\n",
    "                       #'SBI_group_2',\n",
    "                       #'is_discontinued_any',\n",
    "                       #'has_financial_calamity',\n",
    "                       'mean_amt_consolidated_operating_result',\n",
    "                       'mean_amt_consolidated_revenue',\n",
    "                       'mean_amt_operating_result',\n",
    "                       'mean_amt_revenue',\n",
    "                       'mean_qty_employees',\n",
    "                       #'mean_qty_issued_credit_reports',\n",
    "                       #'mean_score_payment_assessment',\n",
    "                       'mean_score_pd',\n",
    "                       #'qty_address_mutations_year',\n",
    "                       #'qty_started_names_year',\n",
    "                       #'qty_stopped_names_year',\n",
    "                       #'qty_board_changes_year',\n",
    "                       'variance_qty_employees',\n",
    "                       #'variance_qty_issued_credit_reports',\n",
    "                       #'variance_score_payment_assessment',\n",
    "                       'variance_score_pd',\n",
    "                       'has_relocated_next_year'\n",
    "                      )\n",
    "\n",
    "features_in_model = [feature for feature in data_df.columns.tolist() \n",
    "                     if feature not in features_to_exclude]\n"
   ]
  },
  {
   "cell_type": "code",
   "execution_count": null,
   "metadata": {
    "collapsed": false
   },
   "outputs": [],
   "source": [
    "len(features_in_model)"
   ]
  },
  {
   "cell_type": "code",
   "execution_count": null,
   "metadata": {
    "collapsed": false
   },
   "outputs": [],
   "source": [
    "features_in_model"
   ]
  },
  {
   "cell_type": "code",
   "execution_count": null,
   "metadata": {
    "collapsed": true
   },
   "outputs": [],
   "source": [
    "data_to_model = data_df[features_in_model]"
   ]
  },
  {
   "cell_type": "code",
   "execution_count": null,
   "metadata": {
    "collapsed": false
   },
   "outputs": [],
   "source": [
    "data_to_model.shape"
   ]
  },
  {
   "cell_type": "markdown",
   "metadata": {},
   "source": [
    "## Check for NAs\n",
    "\n",
    "Drop rows with NA:\n",
    "\n",
    "For other options: https://machinelearningmastery.com/handle-missing-data-python/"
   ]
  },
  {
   "cell_type": "code",
   "execution_count": null,
   "metadata": {
    "collapsed": false
   },
   "outputs": [],
   "source": [
    "data_to_model.isnull().values.any()"
   ]
  },
  {
   "cell_type": "code",
   "execution_count": null,
   "metadata": {
    "collapsed": false
   },
   "outputs": [],
   "source": [
    "print(data_to_model.isnull().sum())"
   ]
  },
  {
   "cell_type": "markdown",
   "metadata": {},
   "source": [
    "Drop rows with NA:"
   ]
  },
  {
   "cell_type": "code",
   "execution_count": null,
   "metadata": {
    "collapsed": false
   },
   "outputs": [],
   "source": [
    "data_to_model.dropna(inplace=True)\n",
    "\n",
    "# summarize the number of rows and columns in the dataset\n",
    "print(data_to_model.shape)"
   ]
  },
  {
   "cell_type": "code",
   "execution_count": null,
   "metadata": {
    "collapsed": false
   },
   "outputs": [],
   "source": [
    "data_to_model.isnull().values.any()"
   ]
  },
  {
   "cell_type": "markdown",
   "metadata": {},
   "source": [
    "## Group to Model\n",
    "<a href=#top>Top</a>"
   ]
  },
  {
   "cell_type": "code",
   "execution_count": null,
   "metadata": {
    "collapsed": true
   },
   "outputs": [],
   "source": [
    "data_one_employee = data_to_model[data_to_model.has_1_employee == True]\n",
    "data_more_than_one_employee = data_to_model[data_to_model.has_1_employee == False]"
   ]
  },
  {
   "cell_type": "code",
   "execution_count": null,
   "metadata": {
    "collapsed": true
   },
   "outputs": [],
   "source": [
    "data_to_model = data_more_than_one_employee.copy()"
   ]
  },
  {
   "cell_type": "code",
   "execution_count": null,
   "metadata": {
    "collapsed": false
   },
   "outputs": [],
   "source": [
    "data_to_model_ids = data_to_model[['id_branch', 'id_company']]"
   ]
  },
  {
   "cell_type": "code",
   "execution_count": null,
   "metadata": {
    "collapsed": false
   },
   "outputs": [],
   "source": [
    "data_to_model = data_to_model.drop(['id_branch', 'id_company'], axis = 1)\n"
   ]
  },
  {
   "cell_type": "code",
   "execution_count": null,
   "metadata": {
    "collapsed": false
   },
   "outputs": [],
   "source": [
    "data_to_model = data_to_model.drop(['has_1_employee'], axis = 1)\n"
   ]
  },
  {
   "cell_type": "code",
   "execution_count": null,
   "metadata": {
    "collapsed": false
   },
   "outputs": [],
   "source": [
    "data_to_model.columns"
   ]
  },
  {
   "cell_type": "code",
   "execution_count": null,
   "metadata": {
    "collapsed": false
   },
   "outputs": [],
   "source": [
    "data_to_model.shape"
   ]
  },
  {
   "cell_type": "markdown",
   "metadata": {},
   "source": [
    "<a id='dt'></a>\n",
    "# Predict Using Decision Tree:\n",
    "\n",
    "<a href=#top>Top</a>\n",
    "\n",
    "### First, Load Model:"
   ]
  },
  {
   "cell_type": "code",
   "execution_count": null,
   "metadata": {
    "collapsed": true
   },
   "outputs": [],
   "source": [
    "filename = 'models/DT_2013_2017md10_mss5_msl2_mf20_balanced_More1Employee.sav'"
   ]
  },
  {
   "cell_type": "code",
   "execution_count": null,
   "metadata": {
    "collapsed": false
   },
   "outputs": [],
   "source": [
    "clf = pickle.load(open(filename, 'rb'))\n",
    "print(clf)"
   ]
  },
  {
   "cell_type": "code",
   "execution_count": null,
   "metadata": {
    "collapsed": false
   },
   "outputs": [],
   "source": [
    "clf.score"
   ]
  },
  {
   "cell_type": "code",
   "execution_count": null,
   "metadata": {
    "collapsed": true
   },
   "outputs": [],
   "source": [
    "clf.predict?"
   ]
  },
  {
   "cell_type": "code",
   "execution_count": null,
   "metadata": {
    "collapsed": true
   },
   "outputs": [],
   "source": [
    "y_pred=clf.predict(data_to_model)"
   ]
  },
  {
   "cell_type": "code",
   "execution_count": null,
   "metadata": {
    "collapsed": false
   },
   "outputs": [],
   "source": [
    "sum(y_pred) / len(y_pred)"
   ]
  },
  {
   "cell_type": "code",
   "execution_count": null,
   "metadata": {
    "collapsed": false
   },
   "outputs": [],
   "source": [
    "\n",
    "# Get probabilities\n",
    "y_probs = clf.predict_proba(data_to_model)\n",
    "\n"
   ]
  },
  {
   "cell_type": "code",
   "execution_count": null,
   "metadata": {
    "collapsed": false
   },
   "outputs": [],
   "source": [
    "len(y_probs)"
   ]
  },
  {
   "cell_type": "code",
   "execution_count": null,
   "metadata": {
    "collapsed": false
   },
   "outputs": [],
   "source": [
    "sum(y_probs[:,1]==1)/len(y_probs)"
   ]
  },
  {
   "cell_type": "code",
   "execution_count": null,
   "metadata": {
    "collapsed": false
   },
   "outputs": [],
   "source": [
    "data_to_model_ids['move_prob'] = y_probs[:, 1]\n"
   ]
  },
  {
   "cell_type": "code",
   "execution_count": null,
   "metadata": {
    "collapsed": false
   },
   "outputs": [],
   "source": [
    "data_to_model_ids.shape"
   ]
  },
  {
   "cell_type": "markdown",
   "metadata": {},
   "source": [
    "<a id='prediction'></a>\n",
    "# Display Prediction:\n",
    "\n",
    "<a href=#top>Top</a>"
   ]
  },
  {
   "cell_type": "code",
   "execution_count": null,
   "metadata": {
    "collapsed": false
   },
   "outputs": [],
   "source": [
    "data_to_model_ids.sort_values(by='move_prob', ascending=False).head()"
   ]
  },
  {
   "cell_type": "code",
   "execution_count": null,
   "metadata": {
    "collapsed": false
   },
   "outputs": [],
   "source": [
    "data_to_model_ids.columns"
   ]
  },
  {
   "cell_type": "code",
   "execution_count": null,
   "metadata": {
    "collapsed": true
   },
   "outputs": [],
   "source": [
    "data_to_model_ids.to_csv('prediction/DT_for_2017_More1Employee_5yr.csv', index=False)"
   ]
  },
  {
   "cell_type": "markdown",
   "metadata": {},
   "source": [
    "<a id='bottom'></a>\n",
    "\n",
    "<a href=#top>Top</a>\n",
    "# End"
   ]
  }
 ],
 "metadata": {
  "kernelspec": {
   "display_name": "graydon-moving",
   "language": "python",
   "name": "graydon-moving"
  },
  "language_info": {
   "codemirror_mode": {
    "name": "ipython",
    "version": 3
   },
   "file_extension": ".py",
   "mimetype": "text/x-python",
   "name": "python",
   "nbconvert_exporter": "python",
   "pygments_lexer": "ipython3",
   "version": "3.5.5"
  }
 },
 "nbformat": 4,
 "nbformat_minor": 2
}
